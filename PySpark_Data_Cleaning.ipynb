{
  "nbformat": 4,
  "nbformat_minor": 0,
  "metadata": {
    "kernelspec": {
      "display_name": "Python 3",
      "language": "python",
      "name": "python3"
    },
    "language_info": {
      "codemirror_mode": {
        "name": "ipython",
        "version": 3
      },
      "file_extension": ".py",
      "mimetype": "text/x-python",
      "name": "python",
      "nbconvert_exporter": "python",
      "pygments_lexer": "ipython3",
      "version": "3.6.2"
    },
    "colab": {
      "name": "PySpark Data Cleaning.ipynb",
      "provenance": [],
      "collapsed_sections": [],
      "include_colab_link": true
    }
  },
  "cells": [
    {
      "cell_type": "markdown",
      "metadata": {
        "id": "view-in-github",
        "colab_type": "text"
      },
      "source": [
        "<a href=\"https://colab.research.google.com/github/ariqnfl/IYKRA-DF6/blob/main/PySpark_Data_Cleaning.ipynb\" target=\"_parent\"><img src=\"https://colab.research.google.com/assets/colab-badge.svg\" alt=\"Open In Colab\"/></a>"
      ]
    },
    {
      "cell_type": "markdown",
      "metadata": {
        "id": "Lpmipr70jTMk"
      },
      "source": [
        "# DATA CLEANING (TECHNICAL CODING ROUND)\n",
        "__ Creator : Rahul Muliana - SDE __"
      ]
    },
    {
      "cell_type": "markdown",
      "metadata": {
        "id": "KvRuqx9ejTMq"
      },
      "source": [
        "### __IMPORT THE DATASET__ "
      ]
    },
    {
      "cell_type": "code",
      "metadata": {
        "id": "t3sy5e-xAaa8"
      },
      "source": [
        "!apt-get update\n",
        "!apt-get install openjdk-8-jdk-headless -qq > /dev/null\n",
        "!wget -q https://downloads.apache.org/spark/spark-3.1.2/spark-3.1.2-bin-hadoop3.2.tgz\n",
        "!tar -xvzf spark-3.1.2-bin-hadoop3.2.tgz\n",
        "!pip install -q findspark\n",
        "!pip install pyspark"
      ],
      "execution_count": null,
      "outputs": []
    },
    {
      "cell_type": "code",
      "metadata": {
        "id": "wkUiABT7AgVU"
      },
      "source": [
        "#Add environment variables\n",
        "\n",
        "import os\n",
        "os.environ[\"JAVA_HOME\"] = \"/usr/lib/jvm/java-8-openjdk-amd64\"\n",
        "os.environ[\"SPARK_HOME\"] = \"/content/spark-3.1.2-bin-hadoop3.2\"\n",
        "\n",
        "\n",
        "# findspark will locate spark in the system\n",
        "\n",
        "import findspark\n",
        "findspark.init()"
      ],
      "execution_count": null,
      "outputs": []
    },
    {
      "cell_type": "code",
      "metadata": {
        "id": "XxMW6u50jk9M"
      },
      "source": [
        "from pyspark.sql import SparkSession\n",
        "from pyspark.sql.functions import format_number\n",
        "from pyspark.sql.functions import max, min\n",
        "from pyspark.sql.functions import mean\n",
        "from pyspark.sql.functions import corr\n",
        "from pyspark.sql.functions import year\n",
        "from pyspark.sql.functions import month"
      ],
      "execution_count": null,
      "outputs": []
    },
    {
      "cell_type": "code",
      "metadata": {
        "id": "Nx5vSILmA13P"
      },
      "source": [
        "# set spark session\n",
        "\n",
        "spark = SparkSession.builder \\\n",
        "        .master(\"local\") \\\n",
        "        .appName(\"spark_learn\") \\\n",
        "        .getOrCreate()"
      ],
      "execution_count": null,
      "outputs": []
    },
    {
      "cell_type": "code",
      "metadata": {
        "id": "L4Xsvl4xA6Cq"
      },
      "source": [
        "df = spark.read.format(\"csv\").options(header='true', inferSchema='true').load('/content/BL-Flickr-Images-Book.csv')"
      ],
      "execution_count": null,
      "outputs": []
    },
    {
      "cell_type": "code",
      "metadata": {
        "colab": {
          "base_uri": "https://localhost:8080/"
        },
        "id": "ngJAF4Kz9B3V",
        "outputId": "5218f9c9-e993-4a46-ca7b-61da032192ea"
      },
      "source": [
        "df.printSchema()"
      ],
      "execution_count": null,
      "outputs": [
        {
          "output_type": "stream",
          "text": [
            "root\n",
            " |-- Identifier: integer (nullable = true)\n",
            " |-- Edition Statement: string (nullable = true)\n",
            " |-- Place of Publication: string (nullable = true)\n",
            " |-- Date of Publication: string (nullable = true)\n",
            " |-- Publisher: string (nullable = true)\n",
            " |-- Title: string (nullable = true)\n",
            " |-- Author: string (nullable = true)\n",
            " |-- Contributors: string (nullable = true)\n",
            " |-- Corporate Author: string (nullable = true)\n",
            " |-- Corporate Contributors: string (nullable = true)\n",
            " |-- Former owner: string (nullable = true)\n",
            " |-- Engraver: string (nullable = true)\n",
            " |-- Issuance type: string (nullable = true)\n",
            " |-- Flickr URL: string (nullable = true)\n",
            " |-- Shelfmarks: string (nullable = true)\n",
            "\n"
          ],
          "name": "stdout"
        }
      ]
    },
    {
      "cell_type": "markdown",
      "metadata": {
        "id": "0fx-5LUujTMs"
      },
      "source": [
        "#### __READING THE FIRST FEW ENTRIES OF THE DATASET__"
      ]
    },
    {
      "cell_type": "code",
      "metadata": {
        "id": "r7AZc1Qejn1G",
        "colab": {
          "base_uri": "https://localhost:8080/"
        },
        "outputId": "0ee5cc72-ff25-42c3-8adc-7fe4bb42465e"
      },
      "source": [
        "# BL-Flickr-Images-Book.csv\n",
        "df.show(5)"
      ],
      "execution_count": null,
      "outputs": [
        {
          "output_type": "stream",
          "text": [
            "+----------+--------------------+--------------------+-------------------+--------------------+--------------------+---------+--------------------+----------------+----------------------+------------+--------+-------------+--------------------+--------------------+\n",
            "|Identifier|   Edition Statement|Place of Publication|Date of Publication|           Publisher|               Title|   Author|        Contributors|Corporate Author|Corporate Contributors|Former owner|Engraver|Issuance type|          Flickr URL|          Shelfmarks|\n",
            "+----------+--------------------+--------------------+-------------------+--------------------+--------------------+---------+--------------------+----------------+----------------------+------------+--------+-------------+--------------------+--------------------+\n",
            "|       206|                null|              London|        1879 [1878]|    S. Tinsley & Co.|Walter Forbes. [A...|    A. A.|     FORBES, Walter.|            null|                  null|        null|    null|  monographic|http://www.flickr...|British Library H...|\n",
            "|       216|                null|London; Virtue & ...|               1868|        Virtue & Co.|All for Greed. [A...|A., A. A.|BLAZE DE BURY, Ma...|            null|                  null|        null|    null|  monographic|http://www.flickr...|British Library H...|\n",
            "|       218|                null|              London|               1869|Bradbury, Evans &...|Love the Avenger....|A., A. A.|BLAZE DE BURY, Ma...|            null|                  null|        null|    null|  monographic|http://www.flickr...|British Library H...|\n",
            "|       472|                null|              London|               1851|       James Darling|Welsh Sketches, c...|A., E. S.|Appleyard, Ernest...|            null|                  null|        null|    null|  monographic|http://www.flickr...|British Library H...|\n",
            "|       480|A new edition, re...|              London|               1857|Wertheim & Macintosh|[The World in whi...|A., E. S.| BROOME, John Henry.|            null|                  null|        null|    null|  monographic|http://www.flickr...|British Library H...|\n",
            "+----------+--------------------+--------------------+-------------------+--------------------+--------------------+---------+--------------------+----------------+----------------------+------------+--------+-------------+--------------------+--------------------+\n",
            "only showing top 5 rows\n",
            "\n"
          ],
          "name": "stdout"
        }
      ]
    },
    {
      "cell_type": "markdown",
      "metadata": {
        "id": "y6ZnyJRnjTMz"
      },
      "source": [
        "## Cleaning the messy columns"
      ]
    },
    {
      "cell_type": "markdown",
      "metadata": {
        "id": "UaUrfXw_jTM0"
      },
      "source": [
        " __Some data entries are really messy and needs to be cleaned as they contain several values which makes it hard to analyse the data __"
      ]
    },
    {
      "cell_type": "markdown",
      "metadata": {
        "id": "v7_-dT2kjTM0"
      },
      "source": [
        "__ The Date of Publication column is slightly messy. It would be better if we only had years in the column. Let us see how you can clean it __"
      ]
    },
    {
      "cell_type": "code",
      "metadata": {
        "id": "hIteAu-2C6Om"
      },
      "source": [
        "import numpy as np"
      ],
      "execution_count": null,
      "outputs": []
    },
    {
      "cell_type": "code",
      "metadata": {
        "id": "_jdpHLYsBg4P"
      },
      "source": [
        "from pyspark.sql import functions as F\n",
        "from pyspark.sql import types as T"
      ],
      "execution_count": null,
      "outputs": []
    },
    {
      "cell_type": "code",
      "metadata": {
        "id": "wQ0k7B8JZPsP"
      },
      "source": [
        "import re"
      ],
      "execution_count": null,
      "outputs": []
    },
    {
      "cell_type": "code",
      "metadata": {
        "id": "3jVZbss8kBck"
      },
      "source": [
        "# make DEF Function\n",
        "\n",
        "def clean_dates(item):\n",
        "    dop= str(item)\n",
        "    dop = re.findall(r'\\d{4}',dop)\n",
        "    if len(dop) >= 1:\n",
        "      dop = dop[0]\n",
        "    elif len(dop) <1:\n",
        "      dop = 1800\n",
        "    dop = int(dop)\n",
        "    return dop"
      ],
      "execution_count": null,
      "outputs": []
    },
    {
      "cell_type": "code",
      "metadata": {
        "colab": {
          "base_uri": "https://localhost:8080/"
        },
        "id": "nuws1JcHBUAw",
        "outputId": "5a103e48-df18-4045-a426-26e9053a54bf"
      },
      "source": [
        "clean_dates('2021')"
      ],
      "execution_count": null,
      "outputs": [
        {
          "output_type": "execute_result",
          "data": {
            "text/plain": [
              "2021"
            ]
          },
          "metadata": {},
          "execution_count": 13
        }
      ]
    },
    {
      "cell_type": "code",
      "metadata": {
        "id": "eJCeo5o-DtkN"
      },
      "source": [
        "transform_dates_udf = F.udf(f=lambda x : clean_dates(x))"
      ],
      "execution_count": null,
      "outputs": []
    },
    {
      "cell_type": "code",
      "metadata": {
        "colab": {
          "base_uri": "https://localhost:8080/"
        },
        "id": "fGMH4SQhDB0N",
        "outputId": "9e569252-12ae-4362-b6f3-4f2f25c9cc87"
      },
      "source": [
        "df = df.withColumn(\"Date of Publication\", transform_dates_udf(F.col(\"Date of Publication\")))\n",
        "df.show()"
      ],
      "execution_count": null,
      "outputs": [
        {
          "output_type": "stream",
          "text": [
            "+----------+--------------------+--------------------+-------------------+--------------------+--------------------+--------------------+--------------------+----------------+----------------------+------------+--------+-------------+--------------------+--------------------+\n",
            "|Identifier|   Edition Statement|Place of Publication|Date of Publication|           Publisher|               Title|              Author|        Contributors|Corporate Author|Corporate Contributors|Former owner|Engraver|Issuance type|          Flickr URL|          Shelfmarks|\n",
            "+----------+--------------------+--------------------+-------------------+--------------------+--------------------+--------------------+--------------------+----------------+----------------------+------------+--------+-------------+--------------------+--------------------+\n",
            "|       206|                null|              London|               1879|    S. Tinsley & Co.|Walter Forbes. [A...|               A. A.|     FORBES, Walter.|            null|                  null|        null|    null|  monographic|http://www.flickr...|British Library H...|\n",
            "|       216|                null|London; Virtue & ...|               1868|        Virtue & Co.|All for Greed. [A...|           A., A. A.|BLAZE DE BURY, Ma...|            null|                  null|        null|    null|  monographic|http://www.flickr...|British Library H...|\n",
            "|       218|                null|              London|               1869|Bradbury, Evans &...|Love the Avenger....|           A., A. A.|BLAZE DE BURY, Ma...|            null|                  null|        null|    null|  monographic|http://www.flickr...|British Library H...|\n",
            "|       472|                null|              London|               1851|       James Darling|Welsh Sketches, c...|           A., E. S.|Appleyard, Ernest...|            null|                  null|        null|    null|  monographic|http://www.flickr...|British Library H...|\n",
            "|       480|A new edition, re...|              London|               1857|Wertheim & Macintosh|[The World in whi...|           A., E. S.| BROOME, John Henry.|            null|                  null|        null|    null|  monographic|http://www.flickr...|British Library H...|\n",
            "|       481|Fourth edition, r...|              London|               1875|   William Macintosh|[The World in whi...|           A., E. S.| BROOME, John Henry.|            null|                  null|        null|    null|  monographic|http://www.flickr...|British Library H...|\n",
            "|       519|                null|              London|               1872|          The Author|Lagonells. By the...|           A., F. E.|ASHLEY, Florence ...|            null|                  null|        null|    null|  monographic|http://www.flickr...|British Library H...|\n",
            "|       667|                null|pp. 40. G. Bryan ...|               1800|                null|The Coming of Spr...|       A., J.|A., J.|ANDREWS, J. - Wri...|            null|                  null|        null|    null|  monographic|http://www.flickr...|British Library H...|\n",
            "|       874|                null|             London]|               1676|                null|A Warning to the ...|              Remaʿ.|        ADAMS, Mary.|            null|                  null|        null|    null|  monographic|http://www.flickr...|British Library H...|\n",
            "|      1143|                null|              London|               1679|                null|A Satyr against V...|              A., T.|       OLDHAM, John.|            null|                  null|        null|    null|  monographic|http://www.flickr...|British Library H...|\n",
            "|      1280|                null|            Coventry|               1802|Printed by J. Turner|An Account of the...|                null|CARTE, Samuel.|JA...|            null|                  null|        null|    null|  monographic|http://www.flickr...|British Library H...|\n",
            "|      1808|                null|         Christiania|               1859|                null|Erindringer som B...|        AALL, Jacob.|AALL, J. C.|LANGE...|            null|                  null|        null|    null|  monographic|http://www.flickr...|British Library H...|\n",
            "|      1905|                null|             Firenze|               1888|                null|Gli Studi storici...|AAR, Ermanno - ps...|S., L. G. D.|SIMO...|            null|                  null|        null|    null|  monographic|http://www.flickr...|British Library H...|\n",
            "|      1929|                null|           Amsterdam|               1839|                null|De Aardbol. Magaz...|                null|WITKAMP, Pieter H...|            null|                  null|        null|    null|  monographic|http://www.flickr...|British Library H...|\n",
            "|      2836|                null|              Savona|               1897|                null|Cronache Savonesi...|ABATE, Giovanni A...| ASSERETO, Giovanni.|            null|                  null|        null|    null|  monographic|http://www.flickr...|British Library H...|\n",
            "|      2854|                null|              London|               1865|      E. Moxon & Co.|See-Saw; a novel ...|   ABATI, Francesco.|READE, William Wi...|            null|                  null|        null|    null|  monographic|http://www.flickr...|British Library H...|\n",
            "|      2956|                null|               Paris|               1860|                null|Géodésie d'une ...|ABBADIE, Antoine ...|    RADAU, Rodolphe.|            null|                  null|        null|    null|  monographic|http://www.flickr...|British Library H...|\n",
            "|      2957|                null|               Paris|               1873|                null| [With eleven maps.]|ABBADIE, Antoine ...|    RADAU, Rodolphe.|            null|                  null|        null|    null|  monographic|http://www.flickr...|British Library H...|\n",
            "|      3017|Nueva edicion, an...|         Puerto-Rico|               1866|                null|[Historia geográ...|ABBAD Y LASIERRA,...|ACOSTA Y CALBO, J...|            null|                  null|        null|    null|  monographic|http://www.flickr...|British Library H...|\n",
            "|      3131|                null|            New York|               1899|           W. Abbatt|The Crisis of the...|    ABBATT, William.|ANDRÉ, John - Ma...|            null|                  null|        null|    null|  monographic|http://www.flickr...|British Library H...|\n",
            "+----------+--------------------+--------------------+-------------------+--------------------+--------------------+--------------------+--------------------+----------------+----------------------+------------+--------+-------------+--------------------+--------------------+\n",
            "only showing top 20 rows\n",
            "\n"
          ],
          "name": "stdout"
        }
      ]
    },
    {
      "cell_type": "markdown",
      "metadata": {
        "id": "3i6zum87jTM1"
      },
      "source": [
        "__ The next such column is the 'Title' column. Let us try to clean that column now. __"
      ]
    },
    {
      "cell_type": "code",
      "metadata": {
        "id": "J-5C-L6vkIQQ"
      },
      "source": [
        "# make DEF Function\n",
        "def clean_title(title):\n",
        "    if title == 'nan':\n",
        "        return 'NaN'\n",
        "    \n",
        "    if title[0] == '[':\n",
        "        title = title[1: title.find(']')]\n",
        "        \n",
        "    if 'by' in title:\n",
        "        title = title[:title.find('by')]\n",
        "    elif 'By' in title:\n",
        "        title = title[:title.find('By')]\n",
        "        \n",
        "    if '[' in title:\n",
        "        title = title[:title.find('[')]\n",
        "\n",
        "    title = title[:-2]\n",
        "        \n",
        "    title = list(map(str.capitalize, title.split()))\n",
        "    return ' '.join(title)"
      ],
      "execution_count": null,
      "outputs": []
    },
    {
      "cell_type": "code",
      "metadata": {
        "id": "i_OUwKmyFKc1"
      },
      "source": [
        "transform_title_udf = F.udf(f=lambda x : clean_title(x), returnType=T.StringType())"
      ],
      "execution_count": null,
      "outputs": []
    },
    {
      "cell_type": "code",
      "metadata": {
        "colab": {
          "base_uri": "https://localhost:8080/"
        },
        "id": "3-NSOH5RFYqe",
        "outputId": "eb5e66df-581a-4091-89c9-150968320c96"
      },
      "source": [
        "df =df.withColumn(\"Title\", transform_title_udf(F.col(\"Title\")))\n",
        "df.show(5)"
      ],
      "execution_count": null,
      "outputs": [
        {
          "output_type": "stream",
          "text": [
            "+----------+--------------------+--------------------+-------------------+--------------------+--------------------+---------+--------------------+----------------+----------------------+------------+--------+-------------+--------------------+--------------------+\n",
            "|Identifier|   Edition Statement|Place of Publication|Date of Publication|           Publisher|               Title|   Author|        Contributors|Corporate Author|Corporate Contributors|Former owner|Engraver|Issuance type|          Flickr URL|          Shelfmarks|\n",
            "+----------+--------------------+--------------------+-------------------+--------------------+--------------------+---------+--------------------+----------------+----------------------+------------+--------+-------------+--------------------+--------------------+\n",
            "|       206|                null|              London|               1879|    S. Tinsley & Co.|       Walter Forbes|    A. A.|     FORBES, Walter.|            null|                  null|        null|    null|  monographic|http://www.flickr...|British Library H...|\n",
            "|       216|                null|London; Virtue & ...|               1868|        Virtue & Co.|       All For Greed|A., A. A.|BLAZE DE BURY, Ma...|            null|                  null|        null|    null|  monographic|http://www.flickr...|British Library H...|\n",
            "|       218|                null|              London|               1869|Bradbury, Evans &...|    Love The Avenger|A., A. A.|BLAZE DE BURY, Ma...|            null|                  null|        null|    null|  monographic|http://www.flickr...|British Library H...|\n",
            "|       472|                null|              London|               1851|       James Darling|Welsh Sketches, C...|A., E. S.|Appleyard, Ernest...|            null|                  null|        null|    null|  monographic|http://www.flickr...|British Library H...|\n",
            "|       480|A new edition, re...|              London|               1857|Wertheim & Macintosh|The World In Whic...|A., E. S.| BROOME, John Henry.|            null|                  null|        null|    null|  monographic|http://www.flickr...|British Library H...|\n",
            "+----------+--------------------+--------------------+-------------------+--------------------+--------------------+---------+--------------------+----------------+----------------------+------------+--------+-------------+--------------------+--------------------+\n",
            "only showing top 5 rows\n",
            "\n"
          ],
          "name": "stdout"
        }
      ]
    },
    {
      "cell_type": "markdown",
      "metadata": {
        "id": "nWcV0z8DjTM2"
      },
      "source": [
        "__ The 'Author' column needs to be tweaked a little too __"
      ]
    },
    {
      "cell_type": "code",
      "metadata": {
        "id": "YkSPjaes-j21"
      },
      "source": [
        "from functools import reduce"
      ],
      "execution_count": null,
      "outputs": []
    },
    {
      "cell_type": "code",
      "metadata": {
        "id": "liJNkKOokMo1"
      },
      "source": [
        "def clean_author_names(author):\n",
        "    \n",
        "    author = str(author)\n",
        "    \n",
        "    if author == 'nan':\n",
        "        return 'NaN'\n",
        "    \n",
        "    author = author.split(',')\n",
        "\n",
        "    if len(author) == 1:\n",
        "        name = filter(lambda x: x.isalpha(), author[0])\n",
        "        return reduce(lambda x, y: x + y, name)\n",
        "    \n",
        "    last_name, first_name = author[0], author[1]\n",
        "\n",
        "    first_name = first_name[:first_name.find('-')] if '-' in first_name else first_name\n",
        "    \n",
        "    if first_name.endswith(('.', '.|')):\n",
        "        parts = first_name.split('.')\n",
        "        \n",
        "        if len(parts) > 1:\n",
        "            first_occurence = first_name.find('.')\n",
        "            final_occurence = first_name.find('.', first_occurence + 1)\n",
        "            first_name = first_name[:final_occurence]\n",
        "        else:\n",
        "            first_name = first_name[:first_name.find('.')]\n",
        "    \n",
        "    last_name = last_name.capitalize()\n",
        "    \n",
        "    return f'{first_name} {last_name}'"
      ],
      "execution_count": null,
      "outputs": []
    },
    {
      "cell_type": "code",
      "metadata": {
        "colab": {
          "base_uri": "https://localhost:8080/",
          "height": 35
        },
        "id": "xZE7_mTp9Zd5",
        "outputId": "3d6da96b-1099-45d9-f4b9-0b67687185db"
      },
      "source": [
        "clean_author_names('A. A.')"
      ],
      "execution_count": null,
      "outputs": [
        {
          "output_type": "execute_result",
          "data": {
            "application/vnd.google.colaboratory.intrinsic+json": {
              "type": "string"
            },
            "text/plain": [
              "'AA'"
            ]
          },
          "metadata": {},
          "execution_count": 48
        }
      ]
    },
    {
      "cell_type": "code",
      "metadata": {
        "id": "eFr0_Km0GHAO"
      },
      "source": [
        "transform_author_udf = F.udf(f=lambda x : clean_author_names(x))"
      ],
      "execution_count": null,
      "outputs": []
    },
    {
      "cell_type": "code",
      "metadata": {
        "colab": {
          "base_uri": "https://localhost:8080/"
        },
        "id": "aSLOcJz1GOp4",
        "outputId": "93f5921b-f5fe-40ce-fd20-273c2cf87b27"
      },
      "source": [
        "df = df.withColumn(\"Author\", transform_author_udf(F.col(\"Author\")))\n",
        "df.show()"
      ],
      "execution_count": null,
      "outputs": [
        {
          "output_type": "stream",
          "text": [
            "+----------+--------------------+--------------------+-------------------+--------------------+--------------------+--------------------+--------------------+----------------+----------------------+------------+--------+-------------+--------------------+--------------------+\n",
            "|Identifier|   Edition Statement|Place of Publication|Date of Publication|           Publisher|               Title|              Author|        Contributors|Corporate Author|Corporate Contributors|Former owner|Engraver|Issuance type|          Flickr URL|          Shelfmarks|\n",
            "+----------+--------------------+--------------------+-------------------+--------------------+--------------------+--------------------+--------------------+----------------+----------------------+------------+--------+-------------+--------------------+--------------------+\n",
            "|       206|                null|              London|               1879|    S. Tinsley & Co.|       Walter Forbes|                  AA|     FORBES, Walter.|            null|                  null|        null|    null|  monographic|http://www.flickr...|British Library H...|\n",
            "|       216|                null|London; Virtue & ...|               1868|        Virtue & Co.|       All For Greed|             A. A A.|BLAZE DE BURY, Ma...|            null|                  null|        null|    null|  monographic|http://www.flickr...|British Library H...|\n",
            "|       218|                null|              London|               1869|Bradbury, Evans &...|    Love The Avenger|             A. A A.|BLAZE DE BURY, Ma...|            null|                  null|        null|    null|  monographic|http://www.flickr...|British Library H...|\n",
            "|       472|                null|              London|               1851|       James Darling|Welsh Sketches, C...|             E. S A.|Appleyard, Ernest...|            null|                  null|        null|    null|  monographic|http://www.flickr...|British Library H...|\n",
            "|       480|A new edition, re...|              London|               1857|Wertheim & Macintosh|The World In Whic...|             E. S A.| BROOME, John Henry.|            null|                  null|        null|    null|  monographic|http://www.flickr...|British Library H...|\n",
            "|       481|Fourth edition, r...|              London|               1875|   William Macintosh|The World In Whic...|             E. S A.| BROOME, John Henry.|            null|                  null|        null|    null|  monographic|http://www.flickr...|British Library H...|\n",
            "|       519|                null|              London|               1872|          The Author|           Lagonells|             F. E A.|ASHLEY, Florence ...|            null|                  null|        null|    null|  monographic|http://www.flickr...|British Library H...|\n",
            "|       667|                null|pp. 40. G. Bryan ...|               1800|                null|The Coming Of Spr...|             J.|A A.|ANDREWS, J. - Wri...|            null|                  null|        null|    null|  monographic|http://www.flickr...|British Library H...|\n",
            "|       874|                null|             London]|               1676|                null|A Warning To The ...|               Remaʿ|        ADAMS, Mary.|            null|                  null|        null|    null|  monographic|http://www.flickr...|British Library H...|\n",
            "|      1143|                null|              London|               1679|                null|A Satyr Against V...|                T A.|       OLDHAM, John.|            null|                  null|        null|    null|  monographic|http://www.flickr...|British Library H...|\n",
            "|      1280|                null|            Coventry|               1802|Printed by J. Turner|An Account Of The...|                None|CARTE, Samuel.|JA...|            null|                  null|        null|    null|  monographic|http://www.flickr...|British Library H...|\n",
            "|      1808|                null|         Christiania|               1859|                null|Erindringer Som B...|          Jacob Aall|AALL, J. C.|LANGE...|            null|                  null|        null|    null|  monographic|http://www.flickr...|British Library H...|\n",
            "|      1905|                null|             Firenze|               1888|                null|Gli Studi Storici...|        Ermanno  Aar|S., L. G. D.|SIMO...|            null|                  null|        null|    null|  monographic|http://www.flickr...|British Library H...|\n",
            "|      1929|                null|           Amsterdam|               1839|                null|De Aardbol. Magaz...|                None|WITKAMP, Pieter H...|            null|                  null|        null|    null|  monographic|http://www.flickr...|British Library H...|\n",
            "|      2836|                null|              Savona|               1897|                null|Cronache Savonesi...| Giovanni Agostin...| ASSERETO, Giovanni.|            null|                  null|        null|    null|  monographic|http://www.flickr...|British Library H...|\n",
            "|      2854|                null|              London|               1865|      E. Moxon & Co.|See-saw; A Novel ...|     Francesco Abati|READE, William Wi...|            null|                  null|        null|    null|  monographic|http://www.flickr...|British Library H...|\n",
            "|      2956|                null|               Paris|               1860|                null|Géodésie D'une ...| Antoine Thompson...|    RADAU, Rodolphe.|            null|                  null|        null|    null|  monographic|http://www.flickr...|British Library H...|\n",
            "|      2957|                null|               Paris|               1873|                null|     With Eleven Map| Antoine Thompson...|    RADAU, Rodolphe.|            null|                  null|        null|    null|  monographic|http://www.flickr...|British Library H...|\n",
            "|      3017|Nueva edicion, an...|         Puerto-Rico|               1866|                null|Historia Geográf...| Agustín Íñigo...|ACOSTA Y CALBO, J...|            null|                  null|        null|    null|  monographic|http://www.flickr...|British Library H...|\n",
            "|      3131|                null|            New York|               1899|           W. Abbatt|The Crisis Of The...|      William Abbatt|ANDRÉ, John - Ma...|            null|                  null|        null|    null|  monographic|http://www.flickr...|British Library H...|\n",
            "+----------+--------------------+--------------------+-------------------+--------------------+--------------------+--------------------+--------------------+----------------+----------------------+------------+--------+-------------+--------------------+--------------------+\n",
            "only showing top 20 rows\n",
            "\n"
          ],
          "name": "stdout"
        }
      ]
    },
    {
      "cell_type": "markdown",
      "metadata": {
        "id": "sPjBCNNVjTM3"
      },
      "source": [
        "__ The 'Place of publication' has a few complications too. Especially with places containing London and Oxford. __"
      ]
    },
    {
      "cell_type": "code",
      "metadata": {
        "colab": {
          "base_uri": "https://localhost:8080/"
        },
        "id": "VlEWHMOyH9h8",
        "outputId": "c658bdf7-387a-4b21-bd41-03134829c1a2"
      },
      "source": [
        "!pip install https://github.com/elyase/geotext/archive/master.zip"
      ],
      "execution_count": null,
      "outputs": [
        {
          "output_type": "stream",
          "text": [
            "Collecting https://github.com/elyase/geotext/archive/master.zip\n",
            "  Downloading https://github.com/elyase/geotext/archive/master.zip\n",
            "\u001b[K     - 2.3 MB 317 kB/s\n",
            "\u001b[?25hBuilding wheels for collected packages: geotext\n",
            "  Building wheel for geotext (setup.py) ... \u001b[?25l\u001b[?25hdone\n",
            "  Created wheel for geotext: filename=geotext-0.3.0-py2.py3-none-any.whl size=2272483 sha256=f18ca66ce62fad0a1056e3093d52cd6ca7ae62c7c6a398aad4ab36257d9b27ec\n",
            "  Stored in directory: /tmp/pip-ephem-wheel-cache-f_e289ol/wheels/c3/82/e9/208ca98c5e7fd6edcd87669e8270db1d858cd078d230452cd5\n",
            "Successfully built geotext\n",
            "Installing collected packages: geotext\n",
            "Successfully installed geotext-0.3.0\n"
          ],
          "name": "stdout"
        }
      ]
    },
    {
      "cell_type": "code",
      "metadata": {
        "id": "jG9y4afDKgkz"
      },
      "source": [
        "from string import punctuation\n",
        "from geotext import GeoText"
      ],
      "execution_count": null,
      "outputs": []
    },
    {
      "cell_type": "code",
      "metadata": {
        "id": "OinnelSLkayd"
      },
      "source": [
        "# make DEF Function\n",
        "def clean_place(place):\n",
        "    place = str(place)\n",
        "    place = GeoText(place)\n",
        "    place = place.cities\n",
        "    if len(place) > 1:\n",
        "      return ''.join(place[-1])\n",
        "    elif len(place) == 1:\n",
        "      return ' '.join(place)\n",
        "    else:\n",
        "      return 'Nan'\n",
        "    return place"
      ],
      "execution_count": null,
      "outputs": []
    },
    {
      "cell_type": "code",
      "metadata": {
        "colab": {
          "base_uri": "https://localhost:8080/",
          "height": 35
        },
        "id": "FS0vDAOoiDxU",
        "outputId": "2a51597f-ae73-45e2-8868-f9bbb230dd61"
      },
      "source": [
        "clean_place('sadfsa')"
      ],
      "execution_count": null,
      "outputs": [
        {
          "output_type": "execute_result",
          "data": {
            "application/vnd.google.colaboratory.intrinsic+json": {
              "type": "string"
            },
            "text/plain": [
              "'Nan'"
            ]
          },
          "metadata": {},
          "execution_count": 52
        }
      ]
    },
    {
      "cell_type": "code",
      "metadata": {
        "id": "IyJCbC6OgYSM"
      },
      "source": [
        "transform_place_udf = F.udf(lambda x : clean_place(x))"
      ],
      "execution_count": null,
      "outputs": []
    },
    {
      "cell_type": "code",
      "metadata": {
        "id": "U7aFh438Js-y"
      },
      "source": [
        "df = df.withColumn(\"Place of Publication\", transform_place_udf(F.col(\"Place of Publication\")))"
      ],
      "execution_count": null,
      "outputs": []
    },
    {
      "cell_type": "code",
      "metadata": {
        "colab": {
          "base_uri": "https://localhost:8080/"
        },
        "id": "_wvdrzYGBv-c",
        "outputId": "c0265389-a3f4-426a-eaeb-e28b25feea20"
      },
      "source": [
        "df.show()"
      ],
      "execution_count": null,
      "outputs": [
        {
          "output_type": "stream",
          "text": [
            "+----------+--------------------+--------------------+-------------------+--------------------+--------------------+--------------------+--------------------+----------------+----------------------+------------+--------+-------------+--------------------+--------------------+\n",
            "|Identifier|   Edition Statement|Place of Publication|Date of Publication|           Publisher|               Title|              Author|        Contributors|Corporate Author|Corporate Contributors|Former owner|Engraver|Issuance type|          Flickr URL|          Shelfmarks|\n",
            "+----------+--------------------+--------------------+-------------------+--------------------+--------------------+--------------------+--------------------+----------------+----------------------+------------+--------+-------------+--------------------+--------------------+\n",
            "|       206|                null|              London|               1879|    S. Tinsley & Co.|       Walter Forbes|                  AA|     FORBES, Walter.|            null|                  null|        null|    null|  monographic|http://www.flickr...|British Library H...|\n",
            "|       216|                null|              London|               1868|        Virtue & Co.|       All For Greed|             A. A A.|BLAZE DE BURY, Ma...|            null|                  null|        null|    null|  monographic|http://www.flickr...|British Library H...|\n",
            "|       218|                null|              London|               1869|Bradbury, Evans &...|    Love The Avenger|             A. A A.|BLAZE DE BURY, Ma...|            null|                  null|        null|    null|  monographic|http://www.flickr...|British Library H...|\n",
            "|       472|                null|              London|               1851|       James Darling|Welsh Sketches, C...|             E. S A.|Appleyard, Ernest...|            null|                  null|        null|    null|  monographic|http://www.flickr...|British Library H...|\n",
            "|       480|A new edition, re...|              London|               1857|Wertheim & Macintosh|The World In Whic...|             E. S A.| BROOME, John Henry.|            null|                  null|        null|    null|  monographic|http://www.flickr...|British Library H...|\n",
            "|       481|Fourth edition, r...|              London|               1875|   William Macintosh|The World In Whic...|             E. S A.| BROOME, John Henry.|            null|                  null|        null|    null|  monographic|http://www.flickr...|British Library H...|\n",
            "|       519|                null|              London|               1872|          The Author|           Lagonells|             F. E A.|ASHLEY, Florence ...|            null|                  null|        null|    null|  monographic|http://www.flickr...|British Library H...|\n",
            "|       667|                null|              Oxford|               1800|                null|The Coming Of Spr...|             J.|A A.|ANDREWS, J. - Wri...|            null|                  null|        null|    null|  monographic|http://www.flickr...|British Library H...|\n",
            "|       874|                null|              London|               1676|                null|A Warning To The ...|               Remaʿ|        ADAMS, Mary.|            null|                  null|        null|    null|  monographic|http://www.flickr...|British Library H...|\n",
            "|      1143|                null|              London|               1679|                null|A Satyr Against V...|                T A.|       OLDHAM, John.|            null|                  null|        null|    null|  monographic|http://www.flickr...|British Library H...|\n",
            "|      1280|                null|            Coventry|               1802|Printed by J. Turner|An Account Of The...|                None|CARTE, Samuel.|JA...|            null|                  null|        null|    null|  monographic|http://www.flickr...|British Library H...|\n",
            "|      1808|                null|                 Nan|               1859|                null|Erindringer Som B...|          Jacob Aall|AALL, J. C.|LANGE...|            null|                  null|        null|    null|  monographic|http://www.flickr...|British Library H...|\n",
            "|      1905|                null|                 Nan|               1888|                null|Gli Studi Storici...|        Ermanno  Aar|S., L. G. D.|SIMO...|            null|                  null|        null|    null|  monographic|http://www.flickr...|British Library H...|\n",
            "|      1929|                null|           Amsterdam|               1839|                null|De Aardbol. Magaz...|                None|WITKAMP, Pieter H...|            null|                  null|        null|    null|  monographic|http://www.flickr...|British Library H...|\n",
            "|      2836|                null|              Savona|               1897|                null|Cronache Savonesi...| Giovanni Agostin...| ASSERETO, Giovanni.|            null|                  null|        null|    null|  monographic|http://www.flickr...|British Library H...|\n",
            "|      2854|                null|              London|               1865|      E. Moxon & Co.|See-saw; A Novel ...|     Francesco Abati|READE, William Wi...|            null|                  null|        null|    null|  monographic|http://www.flickr...|British Library H...|\n",
            "|      2956|                null|               Paris|               1860|                null|Géodésie D'une ...| Antoine Thompson...|    RADAU, Rodolphe.|            null|                  null|        null|    null|  monographic|http://www.flickr...|British Library H...|\n",
            "|      2957|                null|               Paris|               1873|                null|     With Eleven Map| Antoine Thompson...|    RADAU, Rodolphe.|            null|                  null|        null|    null|  monographic|http://www.flickr...|British Library H...|\n",
            "|      3017|Nueva edicion, an...|                 Nan|               1866|                null|Historia Geográf...| Agustín Íñigo...|ACOSTA Y CALBO, J...|            null|                  null|        null|    null|  monographic|http://www.flickr...|British Library H...|\n",
            "|      3131|                null|            New York|               1899|           W. Abbatt|The Crisis Of The...|      William Abbatt|ANDRÉ, John - Ma...|            null|                  null|        null|    null|  monographic|http://www.flickr...|British Library H...|\n",
            "+----------+--------------------+--------------------+-------------------+--------------------+--------------------+--------------------+--------------------+----------------+----------------------+------------+--------+-------------+--------------------+--------------------+\n",
            "only showing top 20 rows\n",
            "\n"
          ],
          "name": "stdout"
        }
      ]
    },
    {
      "cell_type": "code",
      "metadata": {
        "colab": {
          "base_uri": "https://localhost:8080/"
        },
        "id": "AHeK8_XThtZS",
        "outputId": "02228839-bb81-4948-852d-2477a6bfd46a"
      },
      "source": [
        "df.show()"
      ],
      "execution_count": null,
      "outputs": [
        {
          "output_type": "stream",
          "text": [
            "+----------+--------------------+--------------------+-------------------+--------------------+--------------------+--------------------+--------------------+----------------+----------------------+------------+--------+-------------+--------------------+--------------------+\n",
            "|Identifier|   Edition Statement|Place of Publication|Date of Publication|           Publisher|               Title|              Author|        Contributors|Corporate Author|Corporate Contributors|Former owner|Engraver|Issuance type|          Flickr URL|          Shelfmarks|\n",
            "+----------+--------------------+--------------------+-------------------+--------------------+--------------------+--------------------+--------------------+----------------+----------------------+------------+--------+-------------+--------------------+--------------------+\n",
            "|       206|                null|              London|               1879|    S. Tinsley & Co.|Walter Forbes. [A...|               A. A.|     FORBES, Walter.|            null|                  null|        null|    null|  monographic|http://www.flickr...|British Library H...|\n",
            "|       216|                null|              London|               1868|        Virtue & Co.|All for Greed. [A...|           A., A. A.|BLAZE DE BURY, Ma...|            null|                  null|        null|    null|  monographic|http://www.flickr...|British Library H...|\n",
            "|       218|                null|              London|               1869|Bradbury, Evans &...|Love the Avenger....|           A., A. A.|BLAZE DE BURY, Ma...|            null|                  null|        null|    null|  monographic|http://www.flickr...|British Library H...|\n",
            "|       472|                null|              London|               1851|       James Darling|Welsh Sketches, c...|           A., E. S.|Appleyard, Ernest...|            null|                  null|        null|    null|  monographic|http://www.flickr...|British Library H...|\n",
            "|       480|A new edition, re...|              London|               1857|Wertheim & Macintosh|[The World in whi...|           A., E. S.| BROOME, John Henry.|            null|                  null|        null|    null|  monographic|http://www.flickr...|British Library H...|\n",
            "|       481|Fourth edition, r...|              London|               1875|   William Macintosh|[The World in whi...|           A., E. S.| BROOME, John Henry.|            null|                  null|        null|    null|  monographic|http://www.flickr...|British Library H...|\n",
            "|       519|                null|              London|               1872|          The Author|Lagonells. By the...|           A., F. E.|ASHLEY, Florence ...|            null|                  null|        null|    null|  monographic|http://www.flickr...|British Library H...|\n",
            "|       667|                null|              Oxford|               1800|                null|The Coming of Spr...|       A., J.|A., J.|ANDREWS, J. - Wri...|            null|                  null|        null|    null|  monographic|http://www.flickr...|British Library H...|\n",
            "|       874|                null|              London|               1676|                null|A Warning to the ...|              Remaʿ.|        ADAMS, Mary.|            null|                  null|        null|    null|  monographic|http://www.flickr...|British Library H...|\n",
            "|      1143|                null|              London|               1679|                null|A Satyr against V...|              A., T.|       OLDHAM, John.|            null|                  null|        null|    null|  monographic|http://www.flickr...|British Library H...|\n",
            "|      1280|                null|            Coventry|               1802|Printed by J. Turner|An Account of the...|                null|CARTE, Samuel.|JA...|            null|                  null|        null|    null|  monographic|http://www.flickr...|British Library H...|\n",
            "|      1808|                null|                 Nan|               1859|                null|Erindringer som B...|        AALL, Jacob.|AALL, J. C.|LANGE...|            null|                  null|        null|    null|  monographic|http://www.flickr...|British Library H...|\n",
            "|      1905|                null|                 Nan|               1888|                null|Gli Studi storici...|AAR, Ermanno - ps...|S., L. G. D.|SIMO...|            null|                  null|        null|    null|  monographic|http://www.flickr...|British Library H...|\n",
            "|      1929|                null|           Amsterdam|               1839|                null|De Aardbol. Magaz...|                null|WITKAMP, Pieter H...|            null|                  null|        null|    null|  monographic|http://www.flickr...|British Library H...|\n",
            "|      2836|                null|              Savona|               1897|                null|Cronache Savonesi...|ABATE, Giovanni A...| ASSERETO, Giovanni.|            null|                  null|        null|    null|  monographic|http://www.flickr...|British Library H...|\n",
            "|      2854|                null|              London|               1865|      E. Moxon & Co.|See-Saw; a novel ...|   ABATI, Francesco.|READE, William Wi...|            null|                  null|        null|    null|  monographic|http://www.flickr...|British Library H...|\n",
            "|      2956|                null|               Paris|               1860|                null|Géodésie d'une ...|ABBADIE, Antoine ...|    RADAU, Rodolphe.|            null|                  null|        null|    null|  monographic|http://www.flickr...|British Library H...|\n",
            "|      2957|                null|               Paris|               1873|                null| [With eleven maps.]|ABBADIE, Antoine ...|    RADAU, Rodolphe.|            null|                  null|        null|    null|  monographic|http://www.flickr...|British Library H...|\n",
            "|      3017|Nueva edicion, an...|                 Nan|               1866|                null|[Historia geográ...|ABBAD Y LASIERRA,...|ACOSTA Y CALBO, J...|            null|                  null|        null|    null|  monographic|http://www.flickr...|British Library H...|\n",
            "|      3131|                null|            New York|               1899|           W. Abbatt|The Crisis of the...|    ABBATT, William.|ANDRÉ, John - Ma...|            null|                  null|        null|    null|  monographic|http://www.flickr...|British Library H...|\n",
            "+----------+--------------------+--------------------+-------------------+--------------------+--------------------+--------------------+--------------------+----------------+----------------------+------------+--------+-------------+--------------------+--------------------+\n",
            "only showing top 20 rows\n",
            "\n"
          ],
          "name": "stdout"
        }
      ]
    },
    {
      "cell_type": "markdown",
      "metadata": {
        "id": "SO4eAVuHjTM5"
      },
      "source": [
        "### Detecting missing values and dealing with them\n",
        "__The missing values could be in many ways. Most common ways of missing values are the NaN values or nothing at all being present in the entries. Let us first look at what to do with the NaN / NULL / Blank Character values__\n",
        "\n",
        "__Let us first count the number of values which are NaN / NULL / Blank Character and etc__"
      ]
    },
    {
      "cell_type": "code",
      "metadata": {
        "id": "RsKLsz2UksSZ",
        "colab": {
          "base_uri": "https://localhost:8080/"
        },
        "outputId": "9dc14de8-604f-451a-c0d9-3e01c75dd56a"
      },
      "source": [
        "df.agg(*[F.count(F.when(F.isnull(c), c)).alias(c) for c in df.columns]).show()"
      ],
      "execution_count": null,
      "outputs": [
        {
          "output_type": "stream",
          "text": [
            "+----------+-----------------+--------------------+-------------------+---------+-----+------+------------+----------------+----------------------+------------+--------+-------------+----------+----------+\n",
            "|Identifier|Edition Statement|Place of Publication|Date of Publication|Publisher|Title|Author|Contributors|Corporate Author|Corporate Contributors|Former owner|Engraver|Issuance type|Flickr URL|Shelfmarks|\n",
            "+----------+-----------------+--------------------+-------------------+---------+-----+------+------------+----------------+----------------------+------------+--------+-------------+----------+----------+\n",
            "|         0|             7514|                   0|                  0|     4195|    0|     0|           2|            8276|                  8282|        8282|    8284|           10|         5|         4|\n",
            "+----------+-----------------+--------------------+-------------------+---------+-----+------+------------+----------------+----------------------+------------+--------+-------------+----------+----------+\n",
            "\n"
          ],
          "name": "stdout"
        }
      ]
    },
    {
      "cell_type": "code",
      "metadata": {
        "colab": {
          "base_uri": "https://localhost:8080/"
        },
        "id": "Zf4jLgRyXGr_",
        "outputId": "6bae00a2-c962-4d64-a3fd-58f46007de7d"
      },
      "source": [
        "df.describe().show()"
      ],
      "execution_count": null,
      "outputs": [
        {
          "output_type": "stream",
          "text": [
            "+-------+------------------+--------------------+--------------------+-------------------+-------------------+--------------+--------------------+--------------------+------------------+----------------------+--------------------+--------------------+--------------------+--------------------+--------------------+\n",
            "|summary|        Identifier|   Edition Statement|Place of Publication|Date of Publication|          Publisher|         Title|              Author|        Contributors|  Corporate Author|Corporate Contributors|        Former owner|            Engraver|       Issuance type|          Flickr URL|          Shelfmarks|\n",
            "+-------+------------------+--------------------+--------------------+-------------------+-------------------+--------------+--------------------+--------------------+------------------+----------------------+--------------------+--------------------+--------------------+--------------------+--------------------+\n",
            "|  count|              8287|                 773|                8287|               8287|               4092|          8287|                8287|                8285|                11|                     5|                   5|                   3|                8277|                8282|                8283|\n",
            "|   mean| 2017344.164836491|                null|                 NaN| 1856.5367442982986|               null|          null|                null|                null|            1848.0|                  null|                null|                null|                null|                null|                null|\n",
            "| stddev|1190379.4130757088|                null|                 NaN|   41.9593676098075|               null|          null|                null|                null|7.0710678118654755|                  null|                null|                null|                null|                null|                null|\n",
            "|    min|               206|(3rd edition.) Wi...|               Aarau|               1510|, 42. Nichols & Co.|              |         (Anne Staël|             October|              1843|           and January| 1854. By the edi...|DURRIE, Daniel St...|DRAKE, Samuel Gar...|http://www.flickr...|British Library D...|\n",
            "|    max|           4160339|[The same edition...|             Zutphen|               1915|  “The Art Journal”|“zonnig Afrika|whichrelatetoVisc...|Zimmermann, Eberh...|  Westall, William|  OGILBY, John - Co...|Panizzi, Anthony ...|WINTHROP, John - ...|         monographic|         monographic|         monographic|\n",
            "+-------+------------------+--------------------+--------------------+-------------------+-------------------+--------------+--------------------+--------------------+------------------+----------------------+--------------------+--------------------+--------------------+--------------------+--------------------+\n",
            "\n"
          ],
          "name": "stdout"
        }
      ]
    }
  ]
}