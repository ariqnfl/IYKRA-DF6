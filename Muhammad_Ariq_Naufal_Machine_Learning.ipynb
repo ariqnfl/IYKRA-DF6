{
  "nbformat": 4,
  "nbformat_minor": 0,
  "metadata": {
    "colab": {
      "name": "Muhammad Ariq Naufal_Machine Learning.ipynb",
      "provenance": [],
      "authorship_tag": "ABX9TyNJcjiZ+yuf6xAasCs1gwWR",
      "include_colab_link": true
    },
    "kernelspec": {
      "name": "python3",
      "display_name": "Python 3"
    },
    "language_info": {
      "name": "python"
    }
  },
  "cells": [
    {
      "cell_type": "markdown",
      "metadata": {
        "id": "view-in-github",
        "colab_type": "text"
      },
      "source": [
        "<a href=\"https://colab.research.google.com/github/ariqnfl/IYKRA-DF6/blob/main/Muhammad_Ariq_Naufal_Machine_Learning.ipynb\" target=\"_parent\"><img src=\"https://colab.research.google.com/assets/colab-badge.svg\" alt=\"Open In Colab\"/></a>"
      ]
    },
    {
      "cell_type": "markdown",
      "metadata": {
        "id": "LR4sXYt96Gbz"
      },
      "source": [
        "# Machine Learning - Practice Case\n",
        "\n",
        "Muhammad Ariq Naufal\n",
        "\n",
        "Data Fellowship 6"
      ]
    },
    {
      "cell_type": "code",
      "metadata": {
        "id": "I_tMPHYu5yZJ"
      },
      "source": [
        "# import library\n",
        "import pandas as pd\n",
        "import seaborn as sns\n",
        "import matplotlib.pyplot as plt\n",
        "import numpy as np"
      ],
      "execution_count": 1,
      "outputs": []
    },
    {
      "cell_type": "code",
      "metadata": {
        "colab": {
          "base_uri": "https://localhost:8080/",
          "height": 204
        },
        "id": "EzeIWepE6S76",
        "outputId": "638ded80-adbb-4bd9-c8ca-9253576111b1"
      },
      "source": [
        "df = pd.read_csv('ML_2_Fellow.csv',encoding=\"ISO-8859-1\",dtype={'Kode_Pelanggan':str,'Kode_Bayar':str,'Kode_Barang':str})\n",
        "df.head()"
      ],
      "execution_count": 2,
      "outputs": [
        {
          "output_type": "execute_result",
          "data": {
            "text/html": [
              "<div>\n",
              "<style scoped>\n",
              "    .dataframe tbody tr th:only-of-type {\n",
              "        vertical-align: middle;\n",
              "    }\n",
              "\n",
              "    .dataframe tbody tr th {\n",
              "        vertical-align: top;\n",
              "    }\n",
              "\n",
              "    .dataframe thead th {\n",
              "        text-align: right;\n",
              "    }\n",
              "</style>\n",
              "<table border=\"1\" class=\"dataframe\">\n",
              "  <thead>\n",
              "    <tr style=\"text-align: right;\">\n",
              "      <th></th>\n",
              "      <th>Kode_Bayar</th>\n",
              "      <th>Kode_Barang</th>\n",
              "      <th>Barang</th>\n",
              "      <th>Jumlah</th>\n",
              "      <th>Tanggal_Transaksi</th>\n",
              "      <th>Harga_Satuan</th>\n",
              "      <th>Kode_Pelanggan</th>\n",
              "      <th>Negara</th>\n",
              "    </tr>\n",
              "  </thead>\n",
              "  <tbody>\n",
              "    <tr>\n",
              "      <th>0</th>\n",
              "      <td>536365</td>\n",
              "      <td>85123A</td>\n",
              "      <td>WHITE HANGING HEART T-LIGHT HOLDER</td>\n",
              "      <td>6.0</td>\n",
              "      <td>12/1/2010 8:26</td>\n",
              "      <td>2.55</td>\n",
              "      <td>17850</td>\n",
              "      <td>United Kingdom</td>\n",
              "    </tr>\n",
              "    <tr>\n",
              "      <th>1</th>\n",
              "      <td>536365</td>\n",
              "      <td>71053</td>\n",
              "      <td>WHITE METAL LANTERN</td>\n",
              "      <td>6.0</td>\n",
              "      <td>12/1/2010 8:26</td>\n",
              "      <td>3.39</td>\n",
              "      <td>17850</td>\n",
              "      <td>United Kingdom</td>\n",
              "    </tr>\n",
              "    <tr>\n",
              "      <th>2</th>\n",
              "      <td>536365</td>\n",
              "      <td>84406B</td>\n",
              "      <td>CREAM CUPID HEARTS COAT HANGER</td>\n",
              "      <td>8.0</td>\n",
              "      <td>12/1/2010 8:26</td>\n",
              "      <td>2.75</td>\n",
              "      <td>17850</td>\n",
              "      <td>United Kingdom</td>\n",
              "    </tr>\n",
              "    <tr>\n",
              "      <th>3</th>\n",
              "      <td>536365</td>\n",
              "      <td>84029G</td>\n",
              "      <td>KNITTED UNION FLAG HOT WATER BOTTLE</td>\n",
              "      <td>6.0</td>\n",
              "      <td>12/1/2010 8:26</td>\n",
              "      <td>3.39</td>\n",
              "      <td>17850</td>\n",
              "      <td>United Kingdom</td>\n",
              "    </tr>\n",
              "    <tr>\n",
              "      <th>4</th>\n",
              "      <td>536365</td>\n",
              "      <td>84029E</td>\n",
              "      <td>RED WOOLLY HOTTIE WHITE HEART.</td>\n",
              "      <td>6.0</td>\n",
              "      <td>12/1/2010 8:26</td>\n",
              "      <td>3.39</td>\n",
              "      <td>17850</td>\n",
              "      <td>United Kingdom</td>\n",
              "    </tr>\n",
              "  </tbody>\n",
              "</table>\n",
              "</div>"
            ],
            "text/plain": [
              "  Kode_Bayar Kode_Barang  ... Kode_Pelanggan          Negara\n",
              "0     536365      85123A  ...          17850  United Kingdom\n",
              "1     536365       71053  ...          17850  United Kingdom\n",
              "2     536365      84406B  ...          17850  United Kingdom\n",
              "3     536365      84029G  ...          17850  United Kingdom\n",
              "4     536365      84029E  ...          17850  United Kingdom\n",
              "\n",
              "[5 rows x 8 columns]"
            ]
          },
          "metadata": {
            "tags": []
          },
          "execution_count": 2
        }
      ]
    },
    {
      "cell_type": "code",
      "metadata": {
        "colab": {
          "base_uri": "https://localhost:8080/"
        },
        "id": "IUOhEau8FOsI",
        "outputId": "5c97d4ad-7df6-41cd-8126-07f066eda762"
      },
      "source": [
        "# check null data\n",
        "df.isnull().sum()"
      ],
      "execution_count": 3,
      "outputs": [
        {
          "output_type": "execute_result",
          "data": {
            "text/plain": [
              "Kode_Bayar                0\n",
              "Kode_Barang            6035\n",
              "Barang                 7489\n",
              "Jumlah                 6035\n",
              "Tanggal_Transaksi      6035\n",
              "Harga_Satuan           6035\n",
              "Kode_Pelanggan       138727\n",
              "Negara                 6035\n",
              "dtype: int64"
            ]
          },
          "metadata": {
            "tags": []
          },
          "execution_count": 3
        }
      ]
    },
    {
      "cell_type": "code",
      "metadata": {
        "colab": {
          "base_uri": "https://localhost:8080/"
        },
        "id": "dcSuUbHSF879",
        "outputId": "2188546e-2793-4ebd-b32c-2f01198e3858"
      },
      "source": [
        "# check how many rows and column\n",
        "df.shape"
      ],
      "execution_count": 4,
      "outputs": [
        {
          "output_type": "execute_result",
          "data": {
            "text/plain": [
              "(541909, 8)"
            ]
          },
          "metadata": {
            "tags": []
          },
          "execution_count": 4
        }
      ]
    },
    {
      "cell_type": "code",
      "metadata": {
        "colab": {
          "base_uri": "https://localhost:8080/",
          "height": 297
        },
        "id": "_ipNriq3QFHa",
        "outputId": "e53b263c-3795-4fbe-da30-dd04852c61fb"
      },
      "source": [
        "df.describe()"
      ],
      "execution_count": 5,
      "outputs": [
        {
          "output_type": "execute_result",
          "data": {
            "text/html": [
              "<div>\n",
              "<style scoped>\n",
              "    .dataframe tbody tr th:only-of-type {\n",
              "        vertical-align: middle;\n",
              "    }\n",
              "\n",
              "    .dataframe tbody tr th {\n",
              "        vertical-align: top;\n",
              "    }\n",
              "\n",
              "    .dataframe thead th {\n",
              "        text-align: right;\n",
              "    }\n",
              "</style>\n",
              "<table border=\"1\" class=\"dataframe\">\n",
              "  <thead>\n",
              "    <tr style=\"text-align: right;\">\n",
              "      <th></th>\n",
              "      <th>Jumlah</th>\n",
              "      <th>Harga_Satuan</th>\n",
              "    </tr>\n",
              "  </thead>\n",
              "  <tbody>\n",
              "    <tr>\n",
              "      <th>count</th>\n",
              "      <td>535874.000000</td>\n",
              "      <td>535874.000000</td>\n",
              "    </tr>\n",
              "    <tr>\n",
              "      <th>mean</th>\n",
              "      <td>9.587927</td>\n",
              "      <td>4.636533</td>\n",
              "    </tr>\n",
              "    <tr>\n",
              "      <th>std</th>\n",
              "      <td>153.292222</td>\n",
              "      <td>97.302232</td>\n",
              "    </tr>\n",
              "    <tr>\n",
              "      <th>min</th>\n",
              "      <td>-74215.000000</td>\n",
              "      <td>-11062.060000</td>\n",
              "    </tr>\n",
              "    <tr>\n",
              "      <th>25%</th>\n",
              "      <td>1.000000</td>\n",
              "      <td>1.250000</td>\n",
              "    </tr>\n",
              "    <tr>\n",
              "      <th>50%</th>\n",
              "      <td>3.000000</td>\n",
              "      <td>2.080000</td>\n",
              "    </tr>\n",
              "    <tr>\n",
              "      <th>75%</th>\n",
              "      <td>10.000000</td>\n",
              "      <td>4.130000</td>\n",
              "    </tr>\n",
              "    <tr>\n",
              "      <th>max</th>\n",
              "      <td>74215.000000</td>\n",
              "      <td>38970.000000</td>\n",
              "    </tr>\n",
              "  </tbody>\n",
              "</table>\n",
              "</div>"
            ],
            "text/plain": [
              "              Jumlah   Harga_Satuan\n",
              "count  535874.000000  535874.000000\n",
              "mean        9.587927       4.636533\n",
              "std       153.292222      97.302232\n",
              "min    -74215.000000  -11062.060000\n",
              "25%         1.000000       1.250000\n",
              "50%         3.000000       2.080000\n",
              "75%        10.000000       4.130000\n",
              "max     74215.000000   38970.000000"
            ]
          },
          "metadata": {
            "tags": []
          },
          "execution_count": 5
        }
      ]
    },
    {
      "cell_type": "markdown",
      "metadata": {
        "id": "cfr6U5OeO2rX"
      },
      "source": [
        "# Data Preprocessing"
      ]
    },
    {
      "cell_type": "markdown",
      "metadata": {
        "id": "jgQIBneVThGM"
      },
      "source": [
        "check cust in every country"
      ]
    },
    {
      "cell_type": "code",
      "metadata": {
        "id": "PGOc8pqHQNy_"
      },
      "source": [
        "customer_count = df[['Kode_Pelanggan', 'Negara']].drop_duplicates()\n",
        "customer_count = customer_count.groupby(['Negara'])['Kode_Pelanggan'].aggregate('count').reset_index().sort_values('Kode_Pelanggan', ascending=False)"
      ],
      "execution_count": 6,
      "outputs": []
    },
    {
      "cell_type": "code",
      "metadata": {
        "colab": {
          "base_uri": "https://localhost:8080/",
          "height": 558
        },
        "id": "81XnGEatQeF-",
        "outputId": "7c3538cc-0665-4a4c-f22c-08124751457a"
      },
      "source": [
        "plt.figure(figsize=(15,7))\n",
        "ax = sns.barplot(x=customer_count['Negara'], y=customer_count['Kode_Pelanggan'])\n",
        "ax.set_xticklabels(ax.get_xticklabels(), rotation=90)\n",
        "\n",
        "for p in ax.patches:\n",
        "    ax.annotate(str(int(p.get_height())), (p.get_x() * 1.005, p.get_height() * 1.005))\n",
        "plt.ylabel('Jumlah')\n",
        "plt.title('Jumlah Transaksi per Negara', fontsize=16)\n",
        "plt.show()"
      ],
      "execution_count": 7,
      "outputs": [
        {
          "output_type": "display_data",
          "data": {
            "image/png": "[encoded data removed]",
            "text/plain": [
              "<Figure size 1080x504 with 1 Axes>"
            ]
          },
          "metadata": {
            "tags": [],
            "needs_background": "light"
          }
        }
      ]
    },
    {
      "cell_type": "markdown",
      "metadata": {
        "id": "IEdD0MqhT64H"
      },
      "source": [
        "Remove data with minus quantity"
      ]
    },
    {
      "cell_type": "code",
      "metadata": {
        "colab": {
          "base_uri": "https://localhost:8080/",
          "height": 204
        },
        "id": "W6SwTHBmShxv",
        "outputId": "79d7ca69-7aee-496d-e1ee-db021bc7c475"
      },
      "source": [
        "df[df['Jumlah'] < 0].head()"
      ],
      "execution_count": 8,
      "outputs": [
        {
          "output_type": "execute_result",
          "data": {
            "text/html": [
              "<div>\n",
              "<style scoped>\n",
              "    .dataframe tbody tr th:only-of-type {\n",
              "        vertical-align: middle;\n",
              "    }\n",
              "\n",
              "    .dataframe tbody tr th {\n",
              "        vertical-align: top;\n",
              "    }\n",
              "\n",
              "    .dataframe thead th {\n",
              "        text-align: right;\n",
              "    }\n",
              "</style>\n",
              "<table border=\"1\" class=\"dataframe\">\n",
              "  <thead>\n",
              "    <tr style=\"text-align: right;\">\n",
              "      <th></th>\n",
              "      <th>Kode_Bayar</th>\n",
              "      <th>Kode_Barang</th>\n",
              "      <th>Barang</th>\n",
              "      <th>Jumlah</th>\n",
              "      <th>Tanggal_Transaksi</th>\n",
              "      <th>Harga_Satuan</th>\n",
              "      <th>Kode_Pelanggan</th>\n",
              "      <th>Negara</th>\n",
              "    </tr>\n",
              "  </thead>\n",
              "  <tbody>\n",
              "    <tr>\n",
              "      <th>141</th>\n",
              "      <td>C536379</td>\n",
              "      <td>D</td>\n",
              "      <td>Discount</td>\n",
              "      <td>-1.0</td>\n",
              "      <td>12/1/2010 9:41</td>\n",
              "      <td>27.50</td>\n",
              "      <td>14527</td>\n",
              "      <td>United Kingdom</td>\n",
              "    </tr>\n",
              "    <tr>\n",
              "      <th>154</th>\n",
              "      <td>C536383</td>\n",
              "      <td>35004C</td>\n",
              "      <td>SET OF 3 COLOURED  FLYING DUCKS</td>\n",
              "      <td>-1.0</td>\n",
              "      <td>12/1/2010 9:49</td>\n",
              "      <td>4.65</td>\n",
              "      <td>15311</td>\n",
              "      <td>United Kingdom</td>\n",
              "    </tr>\n",
              "    <tr>\n",
              "      <th>235</th>\n",
              "      <td>C536391</td>\n",
              "      <td>22556</td>\n",
              "      <td>PLASTERS IN TIN CIRCUS PARADE</td>\n",
              "      <td>-12.0</td>\n",
              "      <td>12/1/2010 10:24</td>\n",
              "      <td>1.65</td>\n",
              "      <td>17548</td>\n",
              "      <td>United Kingdom</td>\n",
              "    </tr>\n",
              "    <tr>\n",
              "      <th>236</th>\n",
              "      <td>C536391</td>\n",
              "      <td>21984</td>\n",
              "      <td>PACK OF 12 PINK PAISLEY TISSUES</td>\n",
              "      <td>-24.0</td>\n",
              "      <td>12/1/2010 10:24</td>\n",
              "      <td>0.29</td>\n",
              "      <td>17548</td>\n",
              "      <td>United Kingdom</td>\n",
              "    </tr>\n",
              "    <tr>\n",
              "      <th>237</th>\n",
              "      <td>C536391</td>\n",
              "      <td>21983</td>\n",
              "      <td>PACK OF 12 BLUE PAISLEY TISSUES</td>\n",
              "      <td>-24.0</td>\n",
              "      <td>12/1/2010 10:24</td>\n",
              "      <td>0.29</td>\n",
              "      <td>17548</td>\n",
              "      <td>United Kingdom</td>\n",
              "    </tr>\n",
              "  </tbody>\n",
              "</table>\n",
              "</div>"
            ],
            "text/plain": [
              "    Kode_Bayar Kode_Barang  ... Kode_Pelanggan          Negara\n",
              "141    C536379           D  ...          14527  United Kingdom\n",
              "154    C536383      35004C  ...          15311  United Kingdom\n",
              "235    C536391       22556  ...          17548  United Kingdom\n",
              "236    C536391       21984  ...          17548  United Kingdom\n",
              "237    C536391       21983  ...          17548  United Kingdom\n",
              "\n",
              "[5 rows x 8 columns]"
            ]
          },
          "metadata": {
            "tags": []
          },
          "execution_count": 8
        }
      ]
    },
    {
      "cell_type": "code",
      "metadata": {
        "id": "DJP9gdAlUEWa"
      },
      "source": [
        "df = df[df['Jumlah'] > 0]"
      ],
      "execution_count": 9,
      "outputs": []
    },
    {
      "cell_type": "markdown",
      "metadata": {
        "id": "mMMsSsgJUdMb"
      },
      "source": [
        "remove data who does not have kode pelangan"
      ]
    },
    {
      "cell_type": "code",
      "metadata": {
        "id": "d9LGusSwUjAS"
      },
      "source": [
        "df = df[pd.notnull(df['Kode_Pelanggan'])]"
      ],
      "execution_count": 10,
      "outputs": []
    },
    {
      "cell_type": "markdown",
      "metadata": {
        "id": "ncBm0o7pUu2e"
      },
      "source": [
        "remove whitespaces in Barang"
      ]
    },
    {
      "cell_type": "code",
      "metadata": {
        "id": "i3bf9PXPUrIS"
      },
      "source": [
        "df['Barang'] = df['Barang'].str.strip()"
      ],
      "execution_count": 11,
      "outputs": []
    },
    {
      "cell_type": "markdown",
      "metadata": {
        "id": "kbnWE6JBWKx0"
      },
      "source": [
        "seperate UK and Not UK"
      ]
    },
    {
      "cell_type": "code",
      "metadata": {
        "id": "ocGenQrlU_gi"
      },
      "source": [
        "df['Export'] = df['Negara'].apply(lambda x: 'UK' if x == 'United Kingdom' else 'Not UK')"
      ],
      "execution_count": 12,
      "outputs": []
    },
    {
      "cell_type": "markdown",
      "metadata": {
        "id": "9LK4v_3GW3MS"
      },
      "source": [
        "convert tanggal transaksi to pd datetime"
      ]
    },
    {
      "cell_type": "code",
      "metadata": {
        "id": "rg2gmRuzWeUm"
      },
      "source": [
        "df['Tanggal_Transaksi'] = pd.to_datetime(df['Tanggal_Transaksi'])"
      ],
      "execution_count": 13,
      "outputs": []
    },
    {
      "cell_type": "code",
      "metadata": {
        "colab": {
          "base_uri": "https://localhost:8080/",
          "height": 204
        },
        "id": "q-VxOndUU4A2",
        "outputId": "550b57b8-4e67-462c-d2f9-4cd4c6ae654d"
      },
      "source": [
        "df.head()"
      ],
      "execution_count": 14,
      "outputs": [
        {
          "output_type": "execute_result",
          "data": {
            "text/html": [
              "<div>\n",
              "<style scoped>\n",
              "    .dataframe tbody tr th:only-of-type {\n",
              "        vertical-align: middle;\n",
              "    }\n",
              "\n",
              "    .dataframe tbody tr th {\n",
              "        vertical-align: top;\n",
              "    }\n",
              "\n",
              "    .dataframe thead th {\n",
              "        text-align: right;\n",
              "    }\n",
              "</style>\n",
              "<table border=\"1\" class=\"dataframe\">\n",
              "  <thead>\n",
              "    <tr style=\"text-align: right;\">\n",
              "      <th></th>\n",
              "      <th>Kode_Bayar</th>\n",
              "      <th>Kode_Barang</th>\n",
              "      <th>Barang</th>\n",
              "      <th>Jumlah</th>\n",
              "      <th>Tanggal_Transaksi</th>\n",
              "      <th>Harga_Satuan</th>\n",
              "      <th>Kode_Pelanggan</th>\n",
              "      <th>Negara</th>\n",
              "      <th>Export</th>\n",
              "    </tr>\n",
              "  </thead>\n",
              "  <tbody>\n",
              "    <tr>\n",
              "      <th>0</th>\n",
              "      <td>536365</td>\n",
              "      <td>85123A</td>\n",
              "      <td>WHITE HANGING HEART T-LIGHT HOLDER</td>\n",
              "      <td>6.0</td>\n",
              "      <td>2010-12-01 08:26:00</td>\n",
              "      <td>2.55</td>\n",
              "      <td>17850</td>\n",
              "      <td>United Kingdom</td>\n",
              "      <td>UK</td>\n",
              "    </tr>\n",
              "    <tr>\n",
              "      <th>1</th>\n",
              "      <td>536365</td>\n",
              "      <td>71053</td>\n",
              "      <td>WHITE METAL LANTERN</td>\n",
              "      <td>6.0</td>\n",
              "      <td>2010-12-01 08:26:00</td>\n",
              "      <td>3.39</td>\n",
              "      <td>17850</td>\n",
              "      <td>United Kingdom</td>\n",
              "      <td>UK</td>\n",
              "    </tr>\n",
              "    <tr>\n",
              "      <th>2</th>\n",
              "      <td>536365</td>\n",
              "      <td>84406B</td>\n",
              "      <td>CREAM CUPID HEARTS COAT HANGER</td>\n",
              "      <td>8.0</td>\n",
              "      <td>2010-12-01 08:26:00</td>\n",
              "      <td>2.75</td>\n",
              "      <td>17850</td>\n",
              "      <td>United Kingdom</td>\n",
              "      <td>UK</td>\n",
              "    </tr>\n",
              "    <tr>\n",
              "      <th>3</th>\n",
              "      <td>536365</td>\n",
              "      <td>84029G</td>\n",
              "      <td>KNITTED UNION FLAG HOT WATER BOTTLE</td>\n",
              "      <td>6.0</td>\n",
              "      <td>2010-12-01 08:26:00</td>\n",
              "      <td>3.39</td>\n",
              "      <td>17850</td>\n",
              "      <td>United Kingdom</td>\n",
              "      <td>UK</td>\n",
              "    </tr>\n",
              "    <tr>\n",
              "      <th>4</th>\n",
              "      <td>536365</td>\n",
              "      <td>84029E</td>\n",
              "      <td>RED WOOLLY HOTTIE WHITE HEART.</td>\n",
              "      <td>6.0</td>\n",
              "      <td>2010-12-01 08:26:00</td>\n",
              "      <td>3.39</td>\n",
              "      <td>17850</td>\n",
              "      <td>United Kingdom</td>\n",
              "      <td>UK</td>\n",
              "    </tr>\n",
              "  </tbody>\n",
              "</table>\n",
              "</div>"
            ],
            "text/plain": [
              "  Kode_Bayar Kode_Barang  ...          Negara  Export\n",
              "0     536365      85123A  ...  United Kingdom      UK\n",
              "1     536365       71053  ...  United Kingdom      UK\n",
              "2     536365      84406B  ...  United Kingdom      UK\n",
              "3     536365      84029G  ...  United Kingdom      UK\n",
              "4     536365      84029E  ...  United Kingdom      UK\n",
              "\n",
              "[5 rows x 9 columns]"
            ]
          },
          "metadata": {
            "tags": []
          },
          "execution_count": 14
        }
      ]
    },
    {
      "cell_type": "markdown",
      "metadata": {
        "id": "8hfYvOduW9Vk"
      },
      "source": [
        "# EDA"
      ]
    },
    {
      "cell_type": "markdown",
      "metadata": {
        "id": "oPzM1_VyYvaL"
      },
      "source": [
        "## Top 10 Items in UK"
      ]
    },
    {
      "cell_type": "code",
      "metadata": {
        "id": "8myeCedRWb2b"
      },
      "source": [
        "df_uk = df.query(\"Export =='UK'\")\n",
        "df_uk_top = df_uk[['Barang','Jumlah']].groupby('Barang').sum().nlargest(10,'Jumlah').reset_index()\n"
      ],
      "execution_count": 15,
      "outputs": []
    },
    {
      "cell_type": "code",
      "metadata": {
        "colab": {
          "base_uri": "https://localhost:8080/",
          "height": 312
        },
        "id": "B0lhMRCCXsMD",
        "outputId": "5fffb845-fd17-469a-8a64-c55c053c1630"
      },
      "source": [
        "sns.barplot(data=df_uk_top,x='Jumlah',y='Barang')\n",
        "plt.title('Top 10 Items in UK')"
      ],
      "execution_count": 16,
      "outputs": [
        {
          "output_type": "execute_result",
          "data": {
            "text/plain": [
              "Text(0.5, 1.0, 'Top 10 Items in UK')"
            ]
          },
          "metadata": {
            "tags": []
          },
          "execution_count": 16
        },
        {
          "output_type": "display_data",
          "data": {
            "image/png": "[encoded data removed]",
            "text/plain": [
              "<Figure size 432x288 with 1 Axes>"
            ]
          },
          "metadata": {
            "tags": [],
            "needs_background": "light"
          }
        }
      ]
    },
    {
      "cell_type": "markdown",
      "metadata": {
        "id": "C3btP_NwYyqK"
      },
      "source": [
        "## Least item in UK"
      ]
    },
    {
      "cell_type": "code",
      "metadata": {
        "colab": {
          "base_uri": "https://localhost:8080/",
          "height": 359
        },
        "id": "EU9bqRl2XlfA",
        "outputId": "f9a3688a-ec1b-4fec-83e5-305102eadf16"
      },
      "source": [
        "df_uk[['Barang','Jumlah']].groupby('Barang').sum().nsmallest(10,'Jumlah').reset_index()"
      ],
      "execution_count": 51,
      "outputs": [
        {
          "output_type": "execute_result",
          "data": {
            "text/html": [
              "<div>\n",
              "<style scoped>\n",
              "    .dataframe tbody tr th:only-of-type {\n",
              "        vertical-align: middle;\n",
              "    }\n",
              "\n",
              "    .dataframe tbody tr th {\n",
              "        vertical-align: top;\n",
              "    }\n",
              "\n",
              "    .dataframe thead th {\n",
              "        text-align: right;\n",
              "    }\n",
              "</style>\n",
              "<table border=\"1\" class=\"dataframe\">\n",
              "  <thead>\n",
              "    <tr style=\"text-align: right;\">\n",
              "      <th></th>\n",
              "      <th>Barang</th>\n",
              "      <th>Jumlah</th>\n",
              "    </tr>\n",
              "  </thead>\n",
              "  <tbody>\n",
              "    <tr>\n",
              "      <th>0</th>\n",
              "      <td>AMBER BERTIE GLASS BEAD BAG CHARM</td>\n",
              "      <td>1.0</td>\n",
              "    </tr>\n",
              "    <tr>\n",
              "      <th>1</th>\n",
              "      <td>AMBER GLASS/SHELL/PEARL NECKLACE</td>\n",
              "      <td>1.0</td>\n",
              "    </tr>\n",
              "    <tr>\n",
              "      <th>2</th>\n",
              "      <td>BAROQUE BUTTERFLY EARRINGS CRYSTAL</td>\n",
              "      <td>1.0</td>\n",
              "    </tr>\n",
              "    <tr>\n",
              "      <th>3</th>\n",
              "      <td>BLACK DROP EARRINGS W LONG BEADS</td>\n",
              "      <td>1.0</td>\n",
              "    </tr>\n",
              "    <tr>\n",
              "      <th>4</th>\n",
              "      <td>BLACK FINE BEAD NECKLACE W TASSEL</td>\n",
              "      <td>1.0</td>\n",
              "    </tr>\n",
              "    <tr>\n",
              "      <th>5</th>\n",
              "      <td>BLACK VINT ART DEC CRYSTAL BRACELET</td>\n",
              "      <td>1.0</td>\n",
              "    </tr>\n",
              "    <tr>\n",
              "      <th>6</th>\n",
              "      <td>BLACKCHRISTMAS TREE 30CM</td>\n",
              "      <td>1.0</td>\n",
              "    </tr>\n",
              "    <tr>\n",
              "      <th>7</th>\n",
              "      <td>BLOSSOM IMAGES SCRAP BOOK SET</td>\n",
              "      <td>1.0</td>\n",
              "    </tr>\n",
              "    <tr>\n",
              "      <th>8</th>\n",
              "      <td>BLUE LEAVES AND BEADS PHONE CHARM</td>\n",
              "      <td>1.0</td>\n",
              "    </tr>\n",
              "    <tr>\n",
              "      <th>9</th>\n",
              "      <td>BLUE NEW BAROQUE FLOCK CANDLESTICK</td>\n",
              "      <td>1.0</td>\n",
              "    </tr>\n",
              "  </tbody>\n",
              "</table>\n",
              "</div>"
            ],
            "text/plain": [
              "                                Barang  Jumlah\n",
              "0    AMBER BERTIE GLASS BEAD BAG CHARM     1.0\n",
              "1     AMBER GLASS/SHELL/PEARL NECKLACE     1.0\n",
              "2   BAROQUE BUTTERFLY EARRINGS CRYSTAL     1.0\n",
              "3     BLACK DROP EARRINGS W LONG BEADS     1.0\n",
              "4    BLACK FINE BEAD NECKLACE W TASSEL     1.0\n",
              "5  BLACK VINT ART DEC CRYSTAL BRACELET     1.0\n",
              "6             BLACKCHRISTMAS TREE 30CM     1.0\n",
              "7        BLOSSOM IMAGES SCRAP BOOK SET     1.0\n",
              "8    BLUE LEAVES AND BEADS PHONE CHARM     1.0\n",
              "9   BLUE NEW BAROQUE FLOCK CANDLESTICK     1.0"
            ]
          },
          "metadata": {
            "tags": []
          },
          "execution_count": 51
        }
      ]
    },
    {
      "cell_type": "code",
      "metadata": {
        "colab": {
          "base_uri": "https://localhost:8080/"
        },
        "id": "tJBYbmsopywJ",
        "outputId": "76070955-3443-4847-cdcc-955af39c1a8c"
      },
      "source": [
        "df_low = df_uk[['Barang','Jumlah']].groupby('Barang').sum().reset_index()\n",
        "df_low[df_low['Jumlah'] < 5].count()"
      ],
      "execution_count": 58,
      "outputs": [
        {
          "output_type": "execute_result",
          "data": {
            "text/plain": [
              "Barang    216\n",
              "Jumlah    216\n",
              "dtype: int64"
            ]
          },
          "metadata": {
            "tags": []
          },
          "execution_count": 58
        }
      ]
    },
    {
      "cell_type": "markdown",
      "metadata": {
        "id": "3wPN4vk6Y1Sd"
      },
      "source": [
        "## Top 10 items outside UK"
      ]
    },
    {
      "cell_type": "code",
      "metadata": {
        "id": "6LlZ6dnyYY05"
      },
      "source": [
        "df_nuk = df.query(\"Export =='Not UK'\")\n",
        "df_nuk_top = df_nuk[['Barang','Jumlah']].groupby('Barang').sum().nlargest(10,'Jumlah').reset_index()"
      ],
      "execution_count": 18,
      "outputs": []
    },
    {
      "cell_type": "code",
      "metadata": {
        "colab": {
          "base_uri": "https://localhost:8080/",
          "height": 296
        },
        "id": "2mNRuFhtZABk",
        "outputId": "09394a97-e826-43e6-88cb-d5ec9e3363c5"
      },
      "source": [
        "sns.barplot(data=df_nuk_top,y='Barang',x='Jumlah')"
      ],
      "execution_count": 19,
      "outputs": [
        {
          "output_type": "execute_result",
          "data": {
            "text/plain": [
              "<matplotlib.axes._subplots.AxesSubplot at 0x7f4a9fcffed0>"
            ]
          },
          "metadata": {
            "tags": []
          },
          "execution_count": 19
        },
        {
          "output_type": "display_data",
          "data": {
            "image/png": "[encoded data removed]",
            "text/plain": [
              "<Figure size 432x288 with 1 Axes>"
            ]
          },
          "metadata": {
            "tags": [],
            "needs_background": "light"
          }
        }
      ]
    },
    {
      "cell_type": "markdown",
      "metadata": {
        "id": "KpFy4qDtZ62y"
      },
      "source": [
        "## Least item outside UK"
      ]
    },
    {
      "cell_type": "code",
      "metadata": {
        "colab": {
          "base_uri": "https://localhost:8080/",
          "height": 359
        },
        "id": "Z7lCwgl_ZFlJ",
        "outputId": "a5f3a791-6332-4acf-f629-283481e2ef17"
      },
      "source": [
        "df_nuk[['Barang','Jumlah']].groupby('Barang').sum().nsmallest(10,'Jumlah').reset_index()"
      ],
      "execution_count": 20,
      "outputs": [
        {
          "output_type": "execute_result",
          "data": {
            "text/html": [
              "<div>\n",
              "<style scoped>\n",
              "    .dataframe tbody tr th:only-of-type {\n",
              "        vertical-align: middle;\n",
              "    }\n",
              "\n",
              "    .dataframe tbody tr th {\n",
              "        vertical-align: top;\n",
              "    }\n",
              "\n",
              "    .dataframe thead th {\n",
              "        text-align: right;\n",
              "    }\n",
              "</style>\n",
              "<table border=\"1\" class=\"dataframe\">\n",
              "  <thead>\n",
              "    <tr style=\"text-align: right;\">\n",
              "      <th></th>\n",
              "      <th>Barang</th>\n",
              "      <th>Jumlah</th>\n",
              "    </tr>\n",
              "  </thead>\n",
              "  <tbody>\n",
              "    <tr>\n",
              "      <th>0</th>\n",
              "      <td>BLACK MINI TAPE MEASURE</td>\n",
              "      <td>1.0</td>\n",
              "    </tr>\n",
              "    <tr>\n",
              "      <th>1</th>\n",
              "      <td>CAST IRON HOOK GARDEN TROWEL</td>\n",
              "      <td>1.0</td>\n",
              "    </tr>\n",
              "    <tr>\n",
              "      <th>2</th>\n",
              "      <td>CHAMBRE HOOK</td>\n",
              "      <td>1.0</td>\n",
              "    </tr>\n",
              "    <tr>\n",
              "      <th>3</th>\n",
              "      <td>CROCHET WHITE RABBIT KEYRING</td>\n",
              "      <td>1.0</td>\n",
              "    </tr>\n",
              "    <tr>\n",
              "      <th>4</th>\n",
              "      <td>DANISH ROSE BEDSIDE CABINET</td>\n",
              "      <td>1.0</td>\n",
              "    </tr>\n",
              "    <tr>\n",
              "      <th>5</th>\n",
              "      <td>DANISH ROSE FOLDING CHAIR</td>\n",
              "      <td>1.0</td>\n",
              "    </tr>\n",
              "    <tr>\n",
              "      <th>6</th>\n",
              "      <td>FAUX FUR CHOCOLATE THROW</td>\n",
              "      <td>1.0</td>\n",
              "    </tr>\n",
              "    <tr>\n",
              "      <th>7</th>\n",
              "      <td>FRYING PAN RED POLKADOT</td>\n",
              "      <td>1.0</td>\n",
              "    </tr>\n",
              "    <tr>\n",
              "      <th>8</th>\n",
              "      <td>GLASS JAR KINGS CHOICE</td>\n",
              "      <td>1.0</td>\n",
              "    </tr>\n",
              "    <tr>\n",
              "      <th>9</th>\n",
              "      <td>High Resolution Image</td>\n",
              "      <td>1.0</td>\n",
              "    </tr>\n",
              "  </tbody>\n",
              "</table>\n",
              "</div>"
            ],
            "text/plain": [
              "                         Barang  Jumlah\n",
              "0       BLACK MINI TAPE MEASURE     1.0\n",
              "1  CAST IRON HOOK GARDEN TROWEL     1.0\n",
              "2                  CHAMBRE HOOK     1.0\n",
              "3  CROCHET WHITE RABBIT KEYRING     1.0\n",
              "4   DANISH ROSE BEDSIDE CABINET     1.0\n",
              "5     DANISH ROSE FOLDING CHAIR     1.0\n",
              "6      FAUX FUR CHOCOLATE THROW     1.0\n",
              "7       FRYING PAN RED POLKADOT     1.0\n",
              "8        GLASS JAR KINGS CHOICE     1.0\n",
              "9         High Resolution Image     1.0"
            ]
          },
          "metadata": {
            "tags": []
          },
          "execution_count": 20
        }
      ]
    },
    {
      "cell_type": "markdown",
      "metadata": {
        "id": "Erb2AxxNaGgD"
      },
      "source": [
        "## Most loyal customers"
      ]
    },
    {
      "cell_type": "code",
      "metadata": {
        "id": "yx_dFqJsa1a6"
      },
      "source": [
        "customer_loyal = df[['Kode_Pelanggan','Harga_Satuan']].groupby(['Kode_Pelanggan']).sum().sort_values(by='Harga_Satuan', ascending=False) \n",
        "customer_total = customer_loyal['Harga_Satuan'].head(10)\n",
        "customer_number = customer_loyal.index[:10]"
      ],
      "execution_count": 21,
      "outputs": []
    },
    {
      "cell_type": "code",
      "metadata": {
        "colab": {
          "base_uri": "https://localhost:8080/",
          "height": 514
        },
        "id": "VhQJKGqKcywJ",
        "outputId": "38f93794-e82f-4e9b-fa9f-cf5b7828c646"
      },
      "source": [
        "plt.figure(figsize=(15,8))\n",
        "ax = sns.barplot(x=customer_number, y=customer_total)\n",
        "\n",
        "for p in ax.patches:\n",
        "    ax.annotate(str(int(p.get_height())), (p.get_x() * 1.005, p.get_height() * 1.005))\n",
        "plt.title(\"Most Loyal Customer\")\n",
        "plt.show()"
      ],
      "execution_count": 22,
      "outputs": [
        {
          "output_type": "display_data",
          "data": {
            "image/png": "[encoded data removed]",
            "text/plain": [
              "<Figure size 1080x576 with 1 Axes>"
            ]
          },
          "metadata": {
            "tags": [],
            "needs_background": "light"
          }
        }
      ]
    },
    {
      "cell_type": "markdown",
      "metadata": {
        "id": "e05LGtDsf-vx"
      },
      "source": [
        "# Customer Segmentation"
      ]
    },
    {
      "cell_type": "markdown",
      "metadata": {
        "id": "rUs2SRUUg-oJ"
      },
      "source": [
        "## RFM Analysis"
      ]
    },
    {
      "cell_type": "markdown",
      "metadata": {
        "id": "LbHSr67ghBgi"
      },
      "source": [
        "* Recency: when is the last time the user transaction?\n",
        "* Frequency: how many times does the user take this action?\n",
        "* Monetary value: what is the sum of monetary value from this user throughout his/her lifetime?\n",
        "\n",
        "use scale 1-4 to determine RFM Score"
      ]
    },
    {
      "cell_type": "markdown",
      "metadata": {
        "id": "pjHtSrdBhwYo"
      },
      "source": [
        "Create Total Price Feature"
      ]
    },
    {
      "cell_type": "code",
      "metadata": {
        "id": "Cv2omODOc03V"
      },
      "source": [
        "df['Total'] = df['Jumlah'] * df['Harga_Satuan']"
      ],
      "execution_count": 23,
      "outputs": []
    },
    {
      "cell_type": "markdown",
      "metadata": {
        "id": "kUGr1_eIhzJO"
      },
      "source": [
        "See the min and max date of transaction"
      ]
    },
    {
      "cell_type": "code",
      "metadata": {
        "colab": {
          "base_uri": "https://localhost:8080/"
        },
        "id": "Hlmw_3gUhoo9",
        "outputId": "c2a5e3b1-2b3c-47dd-c025-4155f5e7ddd4"
      },
      "source": [
        "print(\"Min Date\",df['Tanggal_Transaksi'].min(),\"Max Date\",df['Tanggal_Transaksi'].max())"
      ],
      "execution_count": 24,
      "outputs": [
        {
          "output_type": "stream",
          "text": [
            "Min Date 2010-12-01 08:26:00 Max Date 2011-12-09 12:50:00\n"
          ],
          "name": "stdout"
        }
      ]
    },
    {
      "cell_type": "markdown",
      "metadata": {
        "id": "IUhYalD6iGjf"
      },
      "source": [
        "create the latest transaction variable and create rfm data"
      ]
    },
    {
      "cell_type": "code",
      "metadata": {
        "colab": {
          "base_uri": "https://localhost:8080/",
          "height": 235
        },
        "id": "BtGXwNshiCRg",
        "outputId": "817d0a40-c03f-4ba7-f000-92490efd07b5"
      },
      "source": [
        "now = np.datetime64(\"2011-12-10\")\n",
        "df_rfm = df.groupby('Kode_Pelanggan').agg({'Tanggal_Transaksi': lambda x: (now - x.max()).days,\n",
        "                                           'Kode_Bayar' : lambda x: len(x),\n",
        "                                           'Total' : lambda x: x.sum()})\n",
        "df_rfm.rename(columns={'Tanggal_Transaksi':'rec','Kode_Bayar':'freq','Total':'mon'},inplace=True)\n",
        "df_rfm.head()"
      ],
      "execution_count": 25,
      "outputs": [
        {
          "output_type": "execute_result",
          "data": {
            "text/html": [
              "<div>\n",
              "<style scoped>\n",
              "    .dataframe tbody tr th:only-of-type {\n",
              "        vertical-align: middle;\n",
              "    }\n",
              "\n",
              "    .dataframe tbody tr th {\n",
              "        vertical-align: top;\n",
              "    }\n",
              "\n",
              "    .dataframe thead th {\n",
              "        text-align: right;\n",
              "    }\n",
              "</style>\n",
              "<table border=\"1\" class=\"dataframe\">\n",
              "  <thead>\n",
              "    <tr style=\"text-align: right;\">\n",
              "      <th></th>\n",
              "      <th>rec</th>\n",
              "      <th>freq</th>\n",
              "      <th>mon</th>\n",
              "    </tr>\n",
              "    <tr>\n",
              "      <th>Kode_Pelanggan</th>\n",
              "      <th></th>\n",
              "      <th></th>\n",
              "      <th></th>\n",
              "    </tr>\n",
              "  </thead>\n",
              "  <tbody>\n",
              "    <tr>\n",
              "      <th>12346</th>\n",
              "      <td>325</td>\n",
              "      <td>1</td>\n",
              "      <td>77183.60</td>\n",
              "    </tr>\n",
              "    <tr>\n",
              "      <th>12347</th>\n",
              "      <td>2</td>\n",
              "      <td>181</td>\n",
              "      <td>4299.80</td>\n",
              "    </tr>\n",
              "    <tr>\n",
              "      <th>12348</th>\n",
              "      <td>75</td>\n",
              "      <td>31</td>\n",
              "      <td>1797.24</td>\n",
              "    </tr>\n",
              "    <tr>\n",
              "      <th>12349</th>\n",
              "      <td>18</td>\n",
              "      <td>73</td>\n",
              "      <td>1757.55</td>\n",
              "    </tr>\n",
              "    <tr>\n",
              "      <th>12350</th>\n",
              "      <td>310</td>\n",
              "      <td>17</td>\n",
              "      <td>334.40</td>\n",
              "    </tr>\n",
              "  </tbody>\n",
              "</table>\n",
              "</div>"
            ],
            "text/plain": [
              "                rec  freq       mon\n",
              "Kode_Pelanggan                     \n",
              "12346           325     1  77183.60\n",
              "12347             2   181   4299.80\n",
              "12348            75    31   1797.24\n",
              "12349            18    73   1757.55\n",
              "12350           310    17    334.40"
            ]
          },
          "metadata": {
            "tags": []
          },
          "execution_count": 25
        }
      ]
    },
    {
      "cell_type": "markdown",
      "metadata": {
        "id": "ra-_U9e2lnjp"
      },
      "source": [
        "get RFM data distribution"
      ]
    },
    {
      "cell_type": "code",
      "metadata": {
        "colab": {
          "base_uri": "https://localhost:8080/",
          "height": 142
        },
        "id": "8WqdS_unlnQX",
        "outputId": "091b5f20-1789-4291-f921-5e5fea28183c"
      },
      "source": [
        "quantile = df_rfm.quantile(q=[.25,.5,.75])\n",
        "quantile"
      ],
      "execution_count": 26,
      "outputs": [
        {
          "output_type": "execute_result",
          "data": {
            "text/html": [
              "<div>\n",
              "<style scoped>\n",
              "    .dataframe tbody tr th:only-of-type {\n",
              "        vertical-align: middle;\n",
              "    }\n",
              "\n",
              "    .dataframe tbody tr th {\n",
              "        vertical-align: top;\n",
              "    }\n",
              "\n",
              "    .dataframe thead th {\n",
              "        text-align: right;\n",
              "    }\n",
              "</style>\n",
              "<table border=\"1\" class=\"dataframe\">\n",
              "  <thead>\n",
              "    <tr style=\"text-align: right;\">\n",
              "      <th></th>\n",
              "      <th>rec</th>\n",
              "      <th>freq</th>\n",
              "      <th>mon</th>\n",
              "    </tr>\n",
              "  </thead>\n",
              "  <tbody>\n",
              "    <tr>\n",
              "      <th>0.25</th>\n",
              "      <td>17.0</td>\n",
              "      <td>17.0</td>\n",
              "      <td>305.62</td>\n",
              "    </tr>\n",
              "    <tr>\n",
              "      <th>0.50</th>\n",
              "      <td>50.0</td>\n",
              "      <td>41.0</td>\n",
              "      <td>667.81</td>\n",
              "    </tr>\n",
              "    <tr>\n",
              "      <th>0.75</th>\n",
              "      <td>142.0</td>\n",
              "      <td>99.0</td>\n",
              "      <td>1652.58</td>\n",
              "    </tr>\n",
              "  </tbody>\n",
              "</table>\n",
              "</div>"
            ],
            "text/plain": [
              "        rec  freq      mon\n",
              "0.25   17.0  17.0   305.62\n",
              "0.50   50.0  41.0   667.81\n",
              "0.75  142.0  99.0  1652.58"
            ]
          },
          "metadata": {
            "tags": []
          },
          "execution_count": 26
        }
      ]
    },
    {
      "cell_type": "markdown",
      "metadata": {
        "id": "54_Hm-EgmAKY"
      },
      "source": [
        "create a function for RFM Score"
      ]
    },
    {
      "cell_type": "code",
      "metadata": {
        "id": "w83S-aQxis3b"
      },
      "source": [
        "# the low score is more better\n",
        "def recScore(data,column):\n",
        "  if data <= quantile[column][.25]:\n",
        "    return 1\n",
        "  elif data <= quantile[column][.5]:\n",
        "    return 2\n",
        "  elif data <= quantile[column][.75]:\n",
        "    return 3\n",
        "  else:\n",
        "    return 4\n",
        "\n",
        "# higher score is better\n",
        "def freqMonScore(data,column):\n",
        "  if data <= quantile[column][.25]:\n",
        "    return 4\n",
        "  elif data <= quantile[column][.5]:\n",
        "    return 3\n",
        "  elif data <= quantile[column][.75]:\n",
        "    return 2\n",
        "  else:\n",
        "    return 1\n"
      ],
      "execution_count": 27,
      "outputs": []
    },
    {
      "cell_type": "code",
      "metadata": {
        "colab": {
          "base_uri": "https://localhost:8080/",
          "height": 235
        },
        "id": "hFe0einnqL5F",
        "outputId": "f43a49af-9aae-41bf-f16d-08b2f8487e39"
      },
      "source": [
        "df_rfm['R'] = df_rfm['rec'].apply(lambda x: recScore(x,'rec'))\n",
        "df_rfm['F'] = df_rfm['freq'].apply(lambda x: freqMonScore(x,'freq'))\n",
        "df_rfm['M'] = df_rfm['mon'].apply(lambda x: freqMonScore(x,'mon'))\n",
        "df_rfm.head()"
      ],
      "execution_count": 28,
      "outputs": [
        {
          "output_type": "execute_result",
          "data": {
            "text/html": [
              "<div>\n",
              "<style scoped>\n",
              "    .dataframe tbody tr th:only-of-type {\n",
              "        vertical-align: middle;\n",
              "    }\n",
              "\n",
              "    .dataframe tbody tr th {\n",
              "        vertical-align: top;\n",
              "    }\n",
              "\n",
              "    .dataframe thead th {\n",
              "        text-align: right;\n",
              "    }\n",
              "</style>\n",
              "<table border=\"1\" class=\"dataframe\">\n",
              "  <thead>\n",
              "    <tr style=\"text-align: right;\">\n",
              "      <th></th>\n",
              "      <th>rec</th>\n",
              "      <th>freq</th>\n",
              "      <th>mon</th>\n",
              "      <th>R</th>\n",
              "      <th>F</th>\n",
              "      <th>M</th>\n",
              "    </tr>\n",
              "    <tr>\n",
              "      <th>Kode_Pelanggan</th>\n",
              "      <th></th>\n",
              "      <th></th>\n",
              "      <th></th>\n",
              "      <th></th>\n",
              "      <th></th>\n",
              "      <th></th>\n",
              "    </tr>\n",
              "  </thead>\n",
              "  <tbody>\n",
              "    <tr>\n",
              "      <th>12346</th>\n",
              "      <td>325</td>\n",
              "      <td>1</td>\n",
              "      <td>77183.60</td>\n",
              "      <td>4</td>\n",
              "      <td>4</td>\n",
              "      <td>1</td>\n",
              "    </tr>\n",
              "    <tr>\n",
              "      <th>12347</th>\n",
              "      <td>2</td>\n",
              "      <td>181</td>\n",
              "      <td>4299.80</td>\n",
              "      <td>1</td>\n",
              "      <td>1</td>\n",
              "      <td>1</td>\n",
              "    </tr>\n",
              "    <tr>\n",
              "      <th>12348</th>\n",
              "      <td>75</td>\n",
              "      <td>31</td>\n",
              "      <td>1797.24</td>\n",
              "      <td>3</td>\n",
              "      <td>3</td>\n",
              "      <td>1</td>\n",
              "    </tr>\n",
              "    <tr>\n",
              "      <th>12349</th>\n",
              "      <td>18</td>\n",
              "      <td>73</td>\n",
              "      <td>1757.55</td>\n",
              "      <td>2</td>\n",
              "      <td>2</td>\n",
              "      <td>1</td>\n",
              "    </tr>\n",
              "    <tr>\n",
              "      <th>12350</th>\n",
              "      <td>310</td>\n",
              "      <td>17</td>\n",
              "      <td>334.40</td>\n",
              "      <td>4</td>\n",
              "      <td>4</td>\n",
              "      <td>3</td>\n",
              "    </tr>\n",
              "  </tbody>\n",
              "</table>\n",
              "</div>"
            ],
            "text/plain": [
              "                rec  freq       mon  R  F  M\n",
              "Kode_Pelanggan                              \n",
              "12346           325     1  77183.60  4  4  1\n",
              "12347             2   181   4299.80  1  1  1\n",
              "12348            75    31   1797.24  3  3  1\n",
              "12349            18    73   1757.55  2  2  1\n",
              "12350           310    17    334.40  4  4  3"
            ]
          },
          "metadata": {
            "tags": []
          },
          "execution_count": 28
        }
      ]
    },
    {
      "cell_type": "markdown",
      "metadata": {
        "id": "RMuvEflQunZP"
      },
      "source": [
        "set rfmScore columns"
      ]
    },
    {
      "cell_type": "code",
      "metadata": {
        "colab": {
          "base_uri": "https://localhost:8080/",
          "height": 235
        },
        "id": "85OsMDheqiVl",
        "outputId": "dfa72d8d-fab3-49d3-edcc-1eda1644007b"
      },
      "source": [
        "df_rfm['rfmScore'] = df_rfm.R.map(str) + df_rfm.M.map(str) + df_rfm.M.map(str)\n",
        "df_rfm['rfmScore'] = df_rfm['rfmScore'].astype('int')\n",
        "df_rfm.head()"
      ],
      "execution_count": 29,
      "outputs": [
        {
          "output_type": "execute_result",
          "data": {
            "text/html": [
              "<div>\n",
              "<style scoped>\n",
              "    .dataframe tbody tr th:only-of-type {\n",
              "        vertical-align: middle;\n",
              "    }\n",
              "\n",
              "    .dataframe tbody tr th {\n",
              "        vertical-align: top;\n",
              "    }\n",
              "\n",
              "    .dataframe thead th {\n",
              "        text-align: right;\n",
              "    }\n",
              "</style>\n",
              "<table border=\"1\" class=\"dataframe\">\n",
              "  <thead>\n",
              "    <tr style=\"text-align: right;\">\n",
              "      <th></th>\n",
              "      <th>rec</th>\n",
              "      <th>freq</th>\n",
              "      <th>mon</th>\n",
              "      <th>R</th>\n",
              "      <th>F</th>\n",
              "      <th>M</th>\n",
              "      <th>rfmScore</th>\n",
              "    </tr>\n",
              "    <tr>\n",
              "      <th>Kode_Pelanggan</th>\n",
              "      <th></th>\n",
              "      <th></th>\n",
              "      <th></th>\n",
              "      <th></th>\n",
              "      <th></th>\n",
              "      <th></th>\n",
              "      <th></th>\n",
              "    </tr>\n",
              "  </thead>\n",
              "  <tbody>\n",
              "    <tr>\n",
              "      <th>12346</th>\n",
              "      <td>325</td>\n",
              "      <td>1</td>\n",
              "      <td>77183.60</td>\n",
              "      <td>4</td>\n",
              "      <td>4</td>\n",
              "      <td>1</td>\n",
              "      <td>411</td>\n",
              "    </tr>\n",
              "    <tr>\n",
              "      <th>12347</th>\n",
              "      <td>2</td>\n",
              "      <td>181</td>\n",
              "      <td>4299.80</td>\n",
              "      <td>1</td>\n",
              "      <td>1</td>\n",
              "      <td>1</td>\n",
              "      <td>111</td>\n",
              "    </tr>\n",
              "    <tr>\n",
              "      <th>12348</th>\n",
              "      <td>75</td>\n",
              "      <td>31</td>\n",
              "      <td>1797.24</td>\n",
              "      <td>3</td>\n",
              "      <td>3</td>\n",
              "      <td>1</td>\n",
              "      <td>311</td>\n",
              "    </tr>\n",
              "    <tr>\n",
              "      <th>12349</th>\n",
              "      <td>18</td>\n",
              "      <td>73</td>\n",
              "      <td>1757.55</td>\n",
              "      <td>2</td>\n",
              "      <td>2</td>\n",
              "      <td>1</td>\n",
              "      <td>211</td>\n",
              "    </tr>\n",
              "    <tr>\n",
              "      <th>12350</th>\n",
              "      <td>310</td>\n",
              "      <td>17</td>\n",
              "      <td>334.40</td>\n",
              "      <td>4</td>\n",
              "      <td>4</td>\n",
              "      <td>3</td>\n",
              "      <td>433</td>\n",
              "    </tr>\n",
              "  </tbody>\n",
              "</table>\n",
              "</div>"
            ],
            "text/plain": [
              "                rec  freq       mon  R  F  M  rfmScore\n",
              "Kode_Pelanggan                                        \n",
              "12346           325     1  77183.60  4  4  1       411\n",
              "12347             2   181   4299.80  1  1  1       111\n",
              "12348            75    31   1797.24  3  3  1       311\n",
              "12349            18    73   1757.55  2  2  1       211\n",
              "12350           310    17    334.40  4  4  3       433"
            ]
          },
          "metadata": {
            "tags": []
          },
          "execution_count": 29
        }
      ]
    },
    {
      "cell_type": "markdown",
      "metadata": {
        "id": "aZ-9OKzKuwe2"
      },
      "source": [
        "## Using KMeans Clustering"
      ]
    },
    {
      "cell_type": "code",
      "metadata": {
        "id": "LfQvdRaNueJO"
      },
      "source": [
        "from sklearn.cluster import KMeans\n",
        "\n",
        "rfm_feature = df_rfm[['R','F','M','rfmScore']]"
      ],
      "execution_count": 30,
      "outputs": []
    },
    {
      "cell_type": "code",
      "metadata": {
        "id": "xPrmEVVuwNgW"
      },
      "source": [
        "# searching the best clusters\n",
        "clusters = []\n",
        "for i in range(2,11):\n",
        "    km = KMeans(n_clusters=i).fit(rfm_feature)\n",
        "    clusters.append(km.inertia_)"
      ],
      "execution_count": 31,
      "outputs": []
    },
    {
      "cell_type": "code",
      "metadata": {
        "colab": {
          "base_uri": "https://localhost:8080/",
          "height": 312
        },
        "id": "mkb7Z0s5wU2d",
        "outputId": "bfe91ba6-5dd4-4599-b8b2-7cab517d015a"
      },
      "source": [
        "plt.plot(list(range(2,11)),clusters)\n",
        "plt.title(\"Elbow Method\")\n",
        "plt.xlabel(\"Clusters\")\n",
        "plt.ylabel(\"Inertia\")"
      ],
      "execution_count": 32,
      "outputs": [
        {
          "output_type": "execute_result",
          "data": {
            "text/plain": [
              "Text(0, 0.5, 'Inertia')"
            ]
          },
          "metadata": {
            "tags": []
          },
          "execution_count": 32
        },
        {
          "output_type": "display_data",
          "data": {
            "image/png": "[encoded data removed]",
            "text/plain": [
              "<Figure size 432x288 with 1 Axes>"
            ]
          },
          "metadata": {
            "tags": [],
            "needs_background": "light"
          }
        }
      ]
    },
    {
      "cell_type": "code",
      "metadata": {
        "colab": {
          "base_uri": "https://localhost:8080/"
        },
        "id": "OkxRbyWXcEt1",
        "outputId": "50174484-6d4d-48b7-e8ff-dce7a550a55d"
      },
      "source": [
        "from yellowbrick.cluster import SilhouetteVisualizer"
      ],
      "execution_count": 33,
      "outputs": [
        {
          "output_type": "stream",
          "text": [
            "/usr/local/lib/python3.7/dist-packages/sklearn/utils/deprecation.py:144: FutureWarning: The sklearn.metrics.classification module is  deprecated in version 0.22 and will be removed in version 0.24. The corresponding classes / functions should instead be imported from sklearn.metrics. Anything that cannot be imported from sklearn.metrics is now part of the private API.\n",
            "  warnings.warn(message, FutureWarning)\n"
          ],
          "name": "stderr"
        }
      ]
    },
    {
      "cell_type": "code",
      "metadata": {
        "colab": {
          "base_uri": "https://localhost:8080/",
          "height": 483
        },
        "id": "4YojQ4EQcGPu",
        "outputId": "61d1d6f3-11c0-4e95-e39a-952de2f36b4d"
      },
      "source": [
        "fig, ax = plt.subplots(2, 2, figsize=(15,8))\n",
        "for i in [2, 3, 4, 5]:\n",
        "    '''\n",
        "    Create KMeans instance for different number of clusters\n",
        "    '''\n",
        "    km = KMeans(n_clusters=i, init='k-means++', n_init=10, max_iter=100, random_state=42)\n",
        "    q, mod = divmod(i, 2)\n",
        "    '''\n",
        "    Create SilhouetteVisualizer instance with KMeans instance\n",
        "    Fit the visualizer\n",
        "    '''\n",
        "    visualizer = SilhouetteVisualizer(km, colors='yellowbrick', ax=ax[q-1][mod])\n",
        "    visualizer.fit(rfm_feature)"
      ],
      "execution_count": 34,
      "outputs": [
        {
          "output_type": "display_data",
          "data": {
            "image/png": "[encoded data removed]",
            "text/plain": [
              "<Figure size 1080x576 with 4 Axes>"
            ]
          },
          "metadata": {
            "tags": []
          }
        }
      ]
    },
    {
      "cell_type": "code",
      "metadata": {
        "id": "YmvtsnrFwsX3"
      },
      "source": [
        "# KMeans with 4 cluster\n",
        "km = KMeans(n_clusters=4).fit(rfm_feature)\n",
        "label = km.predict(rfm_feature)\n",
        "df_rfm['Labels'] = label"
      ],
      "execution_count": 35,
      "outputs": []
    },
    {
      "cell_type": "code",
      "metadata": {
        "colab": {
          "base_uri": "https://localhost:8080/",
          "height": 235
        },
        "id": "u2EfC0wCxETb",
        "outputId": "2523d151-9b95-46e6-a19e-b6f71cda4560"
      },
      "source": [
        "df_rfm.head()"
      ],
      "execution_count": 36,
      "outputs": [
        {
          "output_type": "execute_result",
          "data": {
            "text/html": [
              "<div>\n",
              "<style scoped>\n",
              "    .dataframe tbody tr th:only-of-type {\n",
              "        vertical-align: middle;\n",
              "    }\n",
              "\n",
              "    .dataframe tbody tr th {\n",
              "        vertical-align: top;\n",
              "    }\n",
              "\n",
              "    .dataframe thead th {\n",
              "        text-align: right;\n",
              "    }\n",
              "</style>\n",
              "<table border=\"1\" class=\"dataframe\">\n",
              "  <thead>\n",
              "    <tr style=\"text-align: right;\">\n",
              "      <th></th>\n",
              "      <th>rec</th>\n",
              "      <th>freq</th>\n",
              "      <th>mon</th>\n",
              "      <th>R</th>\n",
              "      <th>F</th>\n",
              "      <th>M</th>\n",
              "      <th>rfmScore</th>\n",
              "      <th>Labels</th>\n",
              "    </tr>\n",
              "    <tr>\n",
              "      <th>Kode_Pelanggan</th>\n",
              "      <th></th>\n",
              "      <th></th>\n",
              "      <th></th>\n",
              "      <th></th>\n",
              "      <th></th>\n",
              "      <th></th>\n",
              "      <th></th>\n",
              "      <th></th>\n",
              "    </tr>\n",
              "  </thead>\n",
              "  <tbody>\n",
              "    <tr>\n",
              "      <th>12346</th>\n",
              "      <td>325</td>\n",
              "      <td>1</td>\n",
              "      <td>77183.60</td>\n",
              "      <td>4</td>\n",
              "      <td>4</td>\n",
              "      <td>1</td>\n",
              "      <td>411</td>\n",
              "      <td>1</td>\n",
              "    </tr>\n",
              "    <tr>\n",
              "      <th>12347</th>\n",
              "      <td>2</td>\n",
              "      <td>181</td>\n",
              "      <td>4299.80</td>\n",
              "      <td>1</td>\n",
              "      <td>1</td>\n",
              "      <td>1</td>\n",
              "      <td>111</td>\n",
              "      <td>2</td>\n",
              "    </tr>\n",
              "    <tr>\n",
              "      <th>12348</th>\n",
              "      <td>75</td>\n",
              "      <td>31</td>\n",
              "      <td>1797.24</td>\n",
              "      <td>3</td>\n",
              "      <td>3</td>\n",
              "      <td>1</td>\n",
              "      <td>311</td>\n",
              "      <td>3</td>\n",
              "    </tr>\n",
              "    <tr>\n",
              "      <th>12349</th>\n",
              "      <td>18</td>\n",
              "      <td>73</td>\n",
              "      <td>1757.55</td>\n",
              "      <td>2</td>\n",
              "      <td>2</td>\n",
              "      <td>1</td>\n",
              "      <td>211</td>\n",
              "      <td>0</td>\n",
              "    </tr>\n",
              "    <tr>\n",
              "      <th>12350</th>\n",
              "      <td>310</td>\n",
              "      <td>17</td>\n",
              "      <td>334.40</td>\n",
              "      <td>4</td>\n",
              "      <td>4</td>\n",
              "      <td>3</td>\n",
              "      <td>433</td>\n",
              "      <td>1</td>\n",
              "    </tr>\n",
              "  </tbody>\n",
              "</table>\n",
              "</div>"
            ],
            "text/plain": [
              "                rec  freq       mon  R  F  M  rfmScore  Labels\n",
              "Kode_Pelanggan                                                \n",
              "12346           325     1  77183.60  4  4  1       411       1\n",
              "12347             2   181   4299.80  1  1  1       111       2\n",
              "12348            75    31   1797.24  3  3  1       311       3\n",
              "12349            18    73   1757.55  2  2  1       211       0\n",
              "12350           310    17    334.40  4  4  3       433       1"
            ]
          },
          "metadata": {
            "tags": []
          },
          "execution_count": 36
        }
      ]
    },
    {
      "cell_type": "markdown",
      "metadata": {
        "id": "NC9VcBi_xXEk"
      },
      "source": [
        "See each Labels criteria"
      ]
    },
    {
      "cell_type": "markdown",
      "metadata": {
        "id": "7t3hWe9Oxwih"
      },
      "source": [
        "Daily Customer, High Spender"
      ]
    },
    {
      "cell_type": "code",
      "metadata": {
        "colab": {
          "base_uri": "https://localhost:8080/",
          "height": 235
        },
        "id": "UQsHWCI3xGwT",
        "outputId": "73f16123-3e16-4dfd-9f0e-b743fe51ea4f"
      },
      "source": [
        "df_rfm[df_rfm['Labels'] == 0].head()"
      ],
      "execution_count": 37,
      "outputs": [
        {
          "output_type": "execute_result",
          "data": {
            "text/html": [
              "<div>\n",
              "<style scoped>\n",
              "    .dataframe tbody tr th:only-of-type {\n",
              "        vertical-align: middle;\n",
              "    }\n",
              "\n",
              "    .dataframe tbody tr th {\n",
              "        vertical-align: top;\n",
              "    }\n",
              "\n",
              "    .dataframe thead th {\n",
              "        text-align: right;\n",
              "    }\n",
              "</style>\n",
              "<table border=\"1\" class=\"dataframe\">\n",
              "  <thead>\n",
              "    <tr style=\"text-align: right;\">\n",
              "      <th></th>\n",
              "      <th>rec</th>\n",
              "      <th>freq</th>\n",
              "      <th>mon</th>\n",
              "      <th>R</th>\n",
              "      <th>F</th>\n",
              "      <th>M</th>\n",
              "      <th>rfmScore</th>\n",
              "      <th>Labels</th>\n",
              "    </tr>\n",
              "    <tr>\n",
              "      <th>Kode_Pelanggan</th>\n",
              "      <th></th>\n",
              "      <th></th>\n",
              "      <th></th>\n",
              "      <th></th>\n",
              "      <th></th>\n",
              "      <th></th>\n",
              "      <th></th>\n",
              "      <th></th>\n",
              "    </tr>\n",
              "  </thead>\n",
              "  <tbody>\n",
              "    <tr>\n",
              "      <th>12349</th>\n",
              "      <td>18</td>\n",
              "      <td>73</td>\n",
              "      <td>1757.55</td>\n",
              "      <td>2</td>\n",
              "      <td>2</td>\n",
              "      <td>1</td>\n",
              "      <td>211</td>\n",
              "      <td>0</td>\n",
              "    </tr>\n",
              "    <tr>\n",
              "      <th>12352</th>\n",
              "      <td>36</td>\n",
              "      <td>85</td>\n",
              "      <td>2506.04</td>\n",
              "      <td>2</td>\n",
              "      <td>2</td>\n",
              "      <td>1</td>\n",
              "      <td>211</td>\n",
              "      <td>0</td>\n",
              "    </tr>\n",
              "    <tr>\n",
              "      <th>12356</th>\n",
              "      <td>22</td>\n",
              "      <td>59</td>\n",
              "      <td>2811.43</td>\n",
              "      <td>2</td>\n",
              "      <td>2</td>\n",
              "      <td>1</td>\n",
              "      <td>211</td>\n",
              "      <td>0</td>\n",
              "    </tr>\n",
              "    <tr>\n",
              "      <th>12357</th>\n",
              "      <td>33</td>\n",
              "      <td>125</td>\n",
              "      <td>6065.71</td>\n",
              "      <td>2</td>\n",
              "      <td>1</td>\n",
              "      <td>1</td>\n",
              "      <td>211</td>\n",
              "      <td>0</td>\n",
              "    </tr>\n",
              "    <tr>\n",
              "      <th>12371</th>\n",
              "      <td>44</td>\n",
              "      <td>63</td>\n",
              "      <td>1887.96</td>\n",
              "      <td>2</td>\n",
              "      <td>2</td>\n",
              "      <td>1</td>\n",
              "      <td>211</td>\n",
              "      <td>0</td>\n",
              "    </tr>\n",
              "  </tbody>\n",
              "</table>\n",
              "</div>"
            ],
            "text/plain": [
              "                rec  freq      mon  R  F  M  rfmScore  Labels\n",
              "Kode_Pelanggan                                               \n",
              "12349            18    73  1757.55  2  2  1       211       0\n",
              "12352            36    85  2506.04  2  2  1       211       0\n",
              "12356            22    59  2811.43  2  2  1       211       0\n",
              "12357            33   125  6065.71  2  1  1       211       0\n",
              "12371            44    63  1887.96  2  2  1       211       0"
            ]
          },
          "metadata": {
            "tags": []
          },
          "execution_count": 37
        }
      ]
    },
    {
      "cell_type": "code",
      "metadata": {
        "colab": {
          "base_uri": "https://localhost:8080/"
        },
        "id": "5CGWyWEEwVnQ",
        "outputId": "95cf8b7d-70e4-4447-9cd2-e1727a064d27"
      },
      "source": [
        "len(df_rfm[df_rfm['Labels'] == 0])"
      ],
      "execution_count": 61,
      "outputs": [
        {
          "output_type": "execute_result",
          "data": {
            "text/plain": [
              "1073"
            ]
          },
          "metadata": {
            "tags": []
          },
          "execution_count": 61
        }
      ]
    },
    {
      "cell_type": "markdown",
      "metadata": {
        "id": "NHXCIHE1yFUE"
      },
      "source": [
        "Lost Customer, Low Spender"
      ]
    },
    {
      "cell_type": "code",
      "metadata": {
        "colab": {
          "base_uri": "https://localhost:8080/",
          "height": 235
        },
        "id": "o3rkAi8UxcsH",
        "outputId": "4b0ba962-e2bd-47b7-e317-a415621ab371"
      },
      "source": [
        "df_rfm[df_rfm['Labels'] == 1].head()"
      ],
      "execution_count": 38,
      "outputs": [
        {
          "output_type": "execute_result",
          "data": {
            "text/html": [
              "<div>\n",
              "<style scoped>\n",
              "    .dataframe tbody tr th:only-of-type {\n",
              "        vertical-align: middle;\n",
              "    }\n",
              "\n",
              "    .dataframe tbody tr th {\n",
              "        vertical-align: top;\n",
              "    }\n",
              "\n",
              "    .dataframe thead th {\n",
              "        text-align: right;\n",
              "    }\n",
              "</style>\n",
              "<table border=\"1\" class=\"dataframe\">\n",
              "  <thead>\n",
              "    <tr style=\"text-align: right;\">\n",
              "      <th></th>\n",
              "      <th>rec</th>\n",
              "      <th>freq</th>\n",
              "      <th>mon</th>\n",
              "      <th>R</th>\n",
              "      <th>F</th>\n",
              "      <th>M</th>\n",
              "      <th>rfmScore</th>\n",
              "      <th>Labels</th>\n",
              "    </tr>\n",
              "    <tr>\n",
              "      <th>Kode_Pelanggan</th>\n",
              "      <th></th>\n",
              "      <th></th>\n",
              "      <th></th>\n",
              "      <th></th>\n",
              "      <th></th>\n",
              "      <th></th>\n",
              "      <th></th>\n",
              "      <th></th>\n",
              "    </tr>\n",
              "  </thead>\n",
              "  <tbody>\n",
              "    <tr>\n",
              "      <th>12346</th>\n",
              "      <td>325</td>\n",
              "      <td>1</td>\n",
              "      <td>77183.6</td>\n",
              "      <td>4</td>\n",
              "      <td>4</td>\n",
              "      <td>1</td>\n",
              "      <td>411</td>\n",
              "      <td>1</td>\n",
              "    </tr>\n",
              "    <tr>\n",
              "      <th>12350</th>\n",
              "      <td>310</td>\n",
              "      <td>17</td>\n",
              "      <td>334.4</td>\n",
              "      <td>4</td>\n",
              "      <td>4</td>\n",
              "      <td>3</td>\n",
              "      <td>433</td>\n",
              "      <td>1</td>\n",
              "    </tr>\n",
              "    <tr>\n",
              "      <th>12353</th>\n",
              "      <td>204</td>\n",
              "      <td>4</td>\n",
              "      <td>89.0</td>\n",
              "      <td>4</td>\n",
              "      <td>4</td>\n",
              "      <td>4</td>\n",
              "      <td>444</td>\n",
              "      <td>1</td>\n",
              "    </tr>\n",
              "    <tr>\n",
              "      <th>12354</th>\n",
              "      <td>232</td>\n",
              "      <td>58</td>\n",
              "      <td>1079.4</td>\n",
              "      <td>4</td>\n",
              "      <td>2</td>\n",
              "      <td>2</td>\n",
              "      <td>422</td>\n",
              "      <td>1</td>\n",
              "    </tr>\n",
              "    <tr>\n",
              "      <th>12355</th>\n",
              "      <td>214</td>\n",
              "      <td>13</td>\n",
              "      <td>459.4</td>\n",
              "      <td>4</td>\n",
              "      <td>4</td>\n",
              "      <td>3</td>\n",
              "      <td>433</td>\n",
              "      <td>1</td>\n",
              "    </tr>\n",
              "  </tbody>\n",
              "</table>\n",
              "</div>"
            ],
            "text/plain": [
              "                rec  freq      mon  R  F  M  rfmScore  Labels\n",
              "Kode_Pelanggan                                               \n",
              "12346           325     1  77183.6  4  4  1       411       1\n",
              "12350           310    17    334.4  4  4  3       433       1\n",
              "12353           204     4     89.0  4  4  4       444       1\n",
              "12354           232    58   1079.4  4  2  2       422       1\n",
              "12355           214    13    459.4  4  4  3       433       1"
            ]
          },
          "metadata": {
            "tags": []
          },
          "execution_count": 38
        }
      ]
    },
    {
      "cell_type": "code",
      "metadata": {
        "colab": {
          "base_uri": "https://localhost:8080/"
        },
        "id": "iLfJwGQswOWV",
        "outputId": "da6fe455-7b3a-4c7f-8157-1133420dec12"
      },
      "source": [
        "len(df_rfm[df_rfm['Labels'] == 1])"
      ],
      "execution_count": 59,
      "outputs": [
        {
          "output_type": "execute_result",
          "data": {
            "text/plain": [
              "1080"
            ]
          },
          "metadata": {
            "tags": []
          },
          "execution_count": 59
        }
      ]
    },
    {
      "cell_type": "markdown",
      "metadata": {
        "id": "Y_0wLdI9yho4"
      },
      "source": [
        "Average User"
      ]
    },
    {
      "cell_type": "code",
      "metadata": {
        "colab": {
          "base_uri": "https://localhost:8080/",
          "height": 390
        },
        "id": "GshwFWdZxe0v",
        "outputId": "9f2d12a5-5008-4a9b-bf92-a2019fb0ef68"
      },
      "source": [
        "df_rfm[df_rfm['Labels'] == 2].head(10)"
      ],
      "execution_count": 39,
      "outputs": [
        {
          "output_type": "execute_result",
          "data": {
            "text/html": [
              "<div>\n",
              "<style scoped>\n",
              "    .dataframe tbody tr th:only-of-type {\n",
              "        vertical-align: middle;\n",
              "    }\n",
              "\n",
              "    .dataframe tbody tr th {\n",
              "        vertical-align: top;\n",
              "    }\n",
              "\n",
              "    .dataframe thead th {\n",
              "        text-align: right;\n",
              "    }\n",
              "</style>\n",
              "<table border=\"1\" class=\"dataframe\">\n",
              "  <thead>\n",
              "    <tr style=\"text-align: right;\">\n",
              "      <th></th>\n",
              "      <th>rec</th>\n",
              "      <th>freq</th>\n",
              "      <th>mon</th>\n",
              "      <th>R</th>\n",
              "      <th>F</th>\n",
              "      <th>M</th>\n",
              "      <th>rfmScore</th>\n",
              "      <th>Labels</th>\n",
              "    </tr>\n",
              "    <tr>\n",
              "      <th>Kode_Pelanggan</th>\n",
              "      <th></th>\n",
              "      <th></th>\n",
              "      <th></th>\n",
              "      <th></th>\n",
              "      <th></th>\n",
              "      <th></th>\n",
              "      <th></th>\n",
              "      <th></th>\n",
              "    </tr>\n",
              "  </thead>\n",
              "  <tbody>\n",
              "    <tr>\n",
              "      <th>12347</th>\n",
              "      <td>2</td>\n",
              "      <td>181</td>\n",
              "      <td>4299.80</td>\n",
              "      <td>1</td>\n",
              "      <td>1</td>\n",
              "      <td>1</td>\n",
              "      <td>111</td>\n",
              "      <td>2</td>\n",
              "    </tr>\n",
              "    <tr>\n",
              "      <th>12358</th>\n",
              "      <td>1</td>\n",
              "      <td>19</td>\n",
              "      <td>1168.06</td>\n",
              "      <td>1</td>\n",
              "      <td>3</td>\n",
              "      <td>2</td>\n",
              "      <td>122</td>\n",
              "      <td>2</td>\n",
              "    </tr>\n",
              "    <tr>\n",
              "      <th>12362</th>\n",
              "      <td>3</td>\n",
              "      <td>266</td>\n",
              "      <td>5226.23</td>\n",
              "      <td>1</td>\n",
              "      <td>1</td>\n",
              "      <td>1</td>\n",
              "      <td>111</td>\n",
              "      <td>2</td>\n",
              "    </tr>\n",
              "    <tr>\n",
              "      <th>12364</th>\n",
              "      <td>7</td>\n",
              "      <td>84</td>\n",
              "      <td>1308.06</td>\n",
              "      <td>1</td>\n",
              "      <td>2</td>\n",
              "      <td>2</td>\n",
              "      <td>122</td>\n",
              "      <td>2</td>\n",
              "    </tr>\n",
              "    <tr>\n",
              "      <th>12367</th>\n",
              "      <td>4</td>\n",
              "      <td>11</td>\n",
              "      <td>168.90</td>\n",
              "      <td>1</td>\n",
              "      <td>4</td>\n",
              "      <td>4</td>\n",
              "      <td>144</td>\n",
              "      <td>2</td>\n",
              "    </tr>\n",
              "    <tr>\n",
              "      <th>12375</th>\n",
              "      <td>10</td>\n",
              "      <td>17</td>\n",
              "      <td>457.50</td>\n",
              "      <td>1</td>\n",
              "      <td>4</td>\n",
              "      <td>3</td>\n",
              "      <td>133</td>\n",
              "      <td>2</td>\n",
              "    </tr>\n",
              "    <tr>\n",
              "      <th>12381</th>\n",
              "      <td>4</td>\n",
              "      <td>86</td>\n",
              "      <td>1821.91</td>\n",
              "      <td>1</td>\n",
              "      <td>2</td>\n",
              "      <td>1</td>\n",
              "      <td>111</td>\n",
              "      <td>2</td>\n",
              "    </tr>\n",
              "    <tr>\n",
              "      <th>12388</th>\n",
              "      <td>15</td>\n",
              "      <td>100</td>\n",
              "      <td>2780.66</td>\n",
              "      <td>1</td>\n",
              "      <td>1</td>\n",
              "      <td>1</td>\n",
              "      <td>111</td>\n",
              "      <td>2</td>\n",
              "    </tr>\n",
              "    <tr>\n",
              "      <th>12417</th>\n",
              "      <td>3</td>\n",
              "      <td>191</td>\n",
              "      <td>3625.25</td>\n",
              "      <td>1</td>\n",
              "      <td>1</td>\n",
              "      <td>1</td>\n",
              "      <td>111</td>\n",
              "      <td>2</td>\n",
              "    </tr>\n",
              "    <tr>\n",
              "      <th>12421</th>\n",
              "      <td>15</td>\n",
              "      <td>45</td>\n",
              "      <td>807.04</td>\n",
              "      <td>1</td>\n",
              "      <td>2</td>\n",
              "      <td>2</td>\n",
              "      <td>122</td>\n",
              "      <td>2</td>\n",
              "    </tr>\n",
              "  </tbody>\n",
              "</table>\n",
              "</div>"
            ],
            "text/plain": [
              "                rec  freq      mon  R  F  M  rfmScore  Labels\n",
              "Kode_Pelanggan                                               \n",
              "12347             2   181  4299.80  1  1  1       111       2\n",
              "12358             1    19  1168.06  1  3  2       122       2\n",
              "12362             3   266  5226.23  1  1  1       111       2\n",
              "12364             7    84  1308.06  1  2  2       122       2\n",
              "12367             4    11   168.90  1  4  4       144       2\n",
              "12375            10    17   457.50  1  4  3       133       2\n",
              "12381             4    86  1821.91  1  2  1       111       2\n",
              "12388            15   100  2780.66  1  1  1       111       2\n",
              "12417             3   191  3625.25  1  1  1       111       2\n",
              "12421            15    45   807.04  1  2  2       122       2"
            ]
          },
          "metadata": {
            "tags": []
          },
          "execution_count": 39
        }
      ]
    },
    {
      "cell_type": "code",
      "metadata": {
        "colab": {
          "base_uri": "https://localhost:8080/"
        },
        "id": "bLFd29KcwSCc",
        "outputId": "b62ff7c1-e3e1-4793-b0e3-9d32a787e24c"
      },
      "source": [
        "len(df_rfm[df_rfm['Labels'] == 2])"
      ],
      "execution_count": 60,
      "outputs": [
        {
          "output_type": "execute_result",
          "data": {
            "text/plain": [
              "1102"
            ]
          },
          "metadata": {
            "tags": []
          },
          "execution_count": 60
        }
      ]
    },
    {
      "cell_type": "markdown",
      "metadata": {
        "id": "MGD7x1CI5zhG"
      },
      "source": [
        "Lost Customer, Big Spender"
      ]
    },
    {
      "cell_type": "code",
      "metadata": {
        "colab": {
          "base_uri": "https://localhost:8080/",
          "height": 390
        },
        "id": "X1Uc8jG_xgH9",
        "outputId": "908bc9dc-aa5d-4374-9129-9091961017cb"
      },
      "source": [
        "df_rfm[df_rfm['Labels'] == 3].head(10)"
      ],
      "execution_count": 40,
      "outputs": [
        {
          "output_type": "execute_result",
          "data": {
            "text/html": [
              "<div>\n",
              "<style scoped>\n",
              "    .dataframe tbody tr th:only-of-type {\n",
              "        vertical-align: middle;\n",
              "    }\n",
              "\n",
              "    .dataframe tbody tr th {\n",
              "        vertical-align: top;\n",
              "    }\n",
              "\n",
              "    .dataframe thead th {\n",
              "        text-align: right;\n",
              "    }\n",
              "</style>\n",
              "<table border=\"1\" class=\"dataframe\">\n",
              "  <thead>\n",
              "    <tr style=\"text-align: right;\">\n",
              "      <th></th>\n",
              "      <th>rec</th>\n",
              "      <th>freq</th>\n",
              "      <th>mon</th>\n",
              "      <th>R</th>\n",
              "      <th>F</th>\n",
              "      <th>M</th>\n",
              "      <th>rfmScore</th>\n",
              "      <th>Labels</th>\n",
              "    </tr>\n",
              "    <tr>\n",
              "      <th>Kode_Pelanggan</th>\n",
              "      <th></th>\n",
              "      <th></th>\n",
              "      <th></th>\n",
              "      <th></th>\n",
              "      <th></th>\n",
              "      <th></th>\n",
              "      <th></th>\n",
              "      <th></th>\n",
              "    </tr>\n",
              "  </thead>\n",
              "  <tbody>\n",
              "    <tr>\n",
              "      <th>12348</th>\n",
              "      <td>75</td>\n",
              "      <td>31</td>\n",
              "      <td>1797.24</td>\n",
              "      <td>3</td>\n",
              "      <td>3</td>\n",
              "      <td>1</td>\n",
              "      <td>311</td>\n",
              "      <td>3</td>\n",
              "    </tr>\n",
              "    <tr>\n",
              "      <th>12359</th>\n",
              "      <td>57</td>\n",
              "      <td>246</td>\n",
              "      <td>6355.78</td>\n",
              "      <td>3</td>\n",
              "      <td>1</td>\n",
              "      <td>1</td>\n",
              "      <td>311</td>\n",
              "      <td>3</td>\n",
              "    </tr>\n",
              "    <tr>\n",
              "      <th>12360</th>\n",
              "      <td>52</td>\n",
              "      <td>128</td>\n",
              "      <td>2657.02</td>\n",
              "      <td>3</td>\n",
              "      <td>1</td>\n",
              "      <td>1</td>\n",
              "      <td>311</td>\n",
              "      <td>3</td>\n",
              "    </tr>\n",
              "    <tr>\n",
              "      <th>12363</th>\n",
              "      <td>109</td>\n",
              "      <td>23</td>\n",
              "      <td>552.00</td>\n",
              "      <td>3</td>\n",
              "      <td>3</td>\n",
              "      <td>3</td>\n",
              "      <td>333</td>\n",
              "      <td>3</td>\n",
              "    </tr>\n",
              "    <tr>\n",
              "      <th>12370</th>\n",
              "      <td>51</td>\n",
              "      <td>163</td>\n",
              "      <td>3412.19</td>\n",
              "      <td>3</td>\n",
              "      <td>1</td>\n",
              "      <td>1</td>\n",
              "      <td>311</td>\n",
              "      <td>3</td>\n",
              "    </tr>\n",
              "    <tr>\n",
              "      <th>12372</th>\n",
              "      <td>71</td>\n",
              "      <td>52</td>\n",
              "      <td>1298.04</td>\n",
              "      <td>3</td>\n",
              "      <td>2</td>\n",
              "      <td>2</td>\n",
              "      <td>322</td>\n",
              "      <td>3</td>\n",
              "    </tr>\n",
              "    <tr>\n",
              "      <th>12378</th>\n",
              "      <td>129</td>\n",
              "      <td>218</td>\n",
              "      <td>3957.62</td>\n",
              "      <td>3</td>\n",
              "      <td>1</td>\n",
              "      <td>1</td>\n",
              "      <td>311</td>\n",
              "      <td>3</td>\n",
              "    </tr>\n",
              "    <tr>\n",
              "      <th>12379</th>\n",
              "      <td>81</td>\n",
              "      <td>40</td>\n",
              "      <td>852.24</td>\n",
              "      <td>3</td>\n",
              "      <td>3</td>\n",
              "      <td>2</td>\n",
              "      <td>322</td>\n",
              "      <td>3</td>\n",
              "    </tr>\n",
              "    <tr>\n",
              "      <th>12390</th>\n",
              "      <td>79</td>\n",
              "      <td>32</td>\n",
              "      <td>549.84</td>\n",
              "      <td>3</td>\n",
              "      <td>3</td>\n",
              "      <td>3</td>\n",
              "      <td>333</td>\n",
              "      <td>3</td>\n",
              "    </tr>\n",
              "    <tr>\n",
              "      <th>12393</th>\n",
              "      <td>72</td>\n",
              "      <td>63</td>\n",
              "      <td>1572.40</td>\n",
              "      <td>3</td>\n",
              "      <td>2</td>\n",
              "      <td>2</td>\n",
              "      <td>322</td>\n",
              "      <td>3</td>\n",
              "    </tr>\n",
              "  </tbody>\n",
              "</table>\n",
              "</div>"
            ],
            "text/plain": [
              "                rec  freq      mon  R  F  M  rfmScore  Labels\n",
              "Kode_Pelanggan                                               \n",
              "12348            75    31  1797.24  3  3  1       311       3\n",
              "12359            57   246  6355.78  3  1  1       311       3\n",
              "12360            52   128  2657.02  3  1  1       311       3\n",
              "12363           109    23   552.00  3  3  3       333       3\n",
              "12370            51   163  3412.19  3  1  1       311       3\n",
              "12372            71    52  1298.04  3  2  2       322       3\n",
              "12378           129   218  3957.62  3  1  1       311       3\n",
              "12379            81    40   852.24  3  3  2       322       3\n",
              "12390            79    32   549.84  3  3  3       333       3\n",
              "12393            72    63  1572.40  3  2  2       322       3"
            ]
          },
          "metadata": {
            "tags": []
          },
          "execution_count": 40
        }
      ]
    },
    {
      "cell_type": "code",
      "metadata": {
        "colab": {
          "base_uri": "https://localhost:8080/"
        },
        "id": "MS3JWM-2wYka",
        "outputId": "a2c37ae5-42ef-4d5b-f0e8-a520c92c5372"
      },
      "source": [
        "len(df_rfm[df_rfm['Labels'] == 3])"
      ],
      "execution_count": 62,
      "outputs": [
        {
          "output_type": "execute_result",
          "data": {
            "text/plain": [
              "1082"
            ]
          },
          "metadata": {
            "tags": []
          },
          "execution_count": 62
        }
      ]
    },
    {
      "cell_type": "markdown",
      "metadata": {
        "id": "ctBr28F6ezDp"
      },
      "source": [
        "# Hidden Insight"
      ]
    },
    {
      "cell_type": "code",
      "metadata": {
        "colab": {
          "base_uri": "https://localhost:8080/"
        },
        "id": "X-Oygfa6e1Gf",
        "outputId": "adf8efa4-5a61-4ad7-b93e-bd481054787b"
      },
      "source": [
        "print(\"Best Customers:\",len(df_rfm[df_rfm['rfmScore'] == 111]))\n",
        "print(\"Loyal Customers:\",len(df_rfm[df_rfm['F'] == 1]))\n",
        "print(\"Big Spenders:\",len(df_rfm[df_rfm['M'] == 1]))\n",
        "print(\"Almost Lost:\",len(df_rfm[df_rfm['rfmScore'] == 311]))\n",
        "print(\"Lost Customers:\",len(df_rfm[df_rfm['rfmScore'] == 411]))\n",
        "print(\"Lost Cheap Customers:\",len(df_rfm[df_rfm['rfmScore'] == 444]))"
      ],
      "execution_count": 41,
      "outputs": [
        {
          "output_type": "stream",
          "text": [
            "Best Customers: 550\n",
            "Loyal Customers: 1083\n",
            "Big Spenders: 1084\n",
            "Almost Lost: 185\n",
            "Lost Customers: 52\n",
            "Lost Cheap Customers: 517\n"
          ],
          "name": "stdout"
        }
      ]
    },
    {
      "cell_type": "code",
      "metadata": {
        "id": "iFac6dUcjzSk"
      },
      "source": [
        ""
      ],
      "execution_count": null,
      "outputs": []
    }
  ]
}