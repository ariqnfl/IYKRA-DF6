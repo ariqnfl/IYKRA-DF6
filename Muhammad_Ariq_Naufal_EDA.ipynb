{
 "metadata": {
  "language_info": {
   "codemirror_mode": {
    "name": "ipython",
    "version": 3
   },
   "file_extension": ".py",
   "mimetype": "text/x-python",
   "name": "python",
   "nbconvert_exporter": "python",
   "pygments_lexer": "ipython3",
   "version": "3.9.1"
  },
  "orig_nbformat": 4,
  "kernelspec": {
   "name": "python3",
   "display_name": "Python 3.9.1 64-bit"
  },
  "interpreter": {
   "hash": "5d0bad64bdd597fceaf821ae55cd4eafaddd6b8529648f3b641098014c6f2d9a"
  }
 },
 "nbformat": 4,
 "nbformat_minor": 2,
 "cells": [
  {
   "source": [
    "# Practice Case EDA\n",
    "Muhammad Ariq Naufal\n",
    "\n",
    "DF6"
   ],
   "cell_type": "markdown",
   "metadata": {}
  },
  {
   "source": [
    "### Import Library"
   ],
   "cell_type": "markdown",
   "metadata": {}
  },
  {
   "cell_type": "code",
   "execution_count": 1,
   "metadata": {},
   "outputs": [],
   "source": [
    "# import library\n",
    "import pandas as pd\n",
    "import matplotlib.pyplot as plt\n",
    "import numpy as np\n",
    "import seaborn as sns"
   ]
  },
  {
   "source": [
    "## Data Preprocessing"
   ],
   "cell_type": "markdown",
   "metadata": {}
  },
  {
   "cell_type": "code",
   "execution_count": 2,
   "metadata": {},
   "outputs": [
    {
     "output_type": "execute_result",
     "data": {
      "text/plain": [
       "              Team                        category  general_league_position  \\\n",
       "0  Manchester City                Champions League                        1   \n",
       "1        Liverpool                Champions League                        2   \n",
       "2          Chelsea  Champions League Qualification                        3   \n",
       "3        Tottenham  Champions League Qualification                        4   \n",
       "4          Arsenal                   Europa League                        5   \n",
       "\n",
       "   finance _live_games_televised  finance _tv_revenue  general_matches_played  \\\n",
       "0                             26            150986355                      38   \n",
       "1                             29            152425146                      38   \n",
       "2                             25            146030216                      38   \n",
       "3                             26            145230801                      38   \n",
       "4                             25            142193180                      38   \n",
       "\n",
       "   general_won  general_draw  general_lost  attack_scored  ...  defence_saves  \\\n",
       "0           32             2             4             95  ...             58   \n",
       "1           30             7             1             89  ...             76   \n",
       "2           21             9             8             63  ...             85   \n",
       "3           23             2            13             67  ...            121   \n",
       "4           21             7            10             73  ...            133   \n",
       "\n",
       "   defence_blocks  defence_interceptions  defence_tackles  \\\n",
       "0              63                    362              518   \n",
       "1              78                    314              610   \n",
       "2              73                    351              618   \n",
       "3             112                    326              626   \n",
       "4             118                    412              609   \n",
       "\n",
       "   defence_tackles_last_man  defence_clearances  defence_clearances_headed  \\\n",
       "0                         0                 543                        295   \n",
       "1                         2                 639                        317   \n",
       "2                         2                 593                        330   \n",
       "3                         3                 770                        411   \n",
       "4                         2                 762                        404   \n",
       "\n",
       "   defence_penalty_conceeded attack_posession  attack_pass_accuracy  \n",
       "0                          4             64.0                  89.0  \n",
       "1                          1             58.8                  84.4  \n",
       "2                          2             59.9                  87.6  \n",
       "3                          5             56.7                  83.2  \n",
       "4                          7             56.1                  83.3  \n",
       "\n",
       "[5 rows x 44 columns]"
      ],
      "text/html": "<div>\n<style scoped>\n    .dataframe tbody tr th:only-of-type {\n        vertical-align: middle;\n    }\n\n    .dataframe tbody tr th {\n        vertical-align: top;\n    }\n\n    .dataframe thead th {\n        text-align: right;\n    }\n</style>\n<table border=\"1\" class=\"dataframe\">\n  <thead>\n    <tr style=\"text-align: right;\">\n      <th></th>\n      <th>Team</th>\n      <th>category</th>\n      <th>general_league_position</th>\n      <th>finance _live_games_televised</th>\n      <th>finance _tv_revenue</th>\n      <th>general_matches_played</th>\n      <th>general_won</th>\n      <th>general_draw</th>\n      <th>general_lost</th>\n      <th>attack_scored</th>\n      <th>...</th>\n      <th>defence_saves</th>\n      <th>defence_blocks</th>\n      <th>defence_interceptions</th>\n      <th>defence_tackles</th>\n      <th>defence_tackles_last_man</th>\n      <th>defence_clearances</th>\n      <th>defence_clearances_headed</th>\n      <th>defence_penalty_conceeded</th>\n      <th>attack_posession</th>\n      <th>attack_pass_accuracy</th>\n    </tr>\n  </thead>\n  <tbody>\n    <tr>\n      <th>0</th>\n      <td>Manchester City</td>\n      <td>Champions League</td>\n      <td>1</td>\n      <td>26</td>\n      <td>150986355</td>\n      <td>38</td>\n      <td>32</td>\n      <td>2</td>\n      <td>4</td>\n      <td>95</td>\n      <td>...</td>\n      <td>58</td>\n      <td>63</td>\n      <td>362</td>\n      <td>518</td>\n      <td>0</td>\n      <td>543</td>\n      <td>295</td>\n      <td>4</td>\n      <td>64.0</td>\n      <td>89.0</td>\n    </tr>\n    <tr>\n      <th>1</th>\n      <td>Liverpool</td>\n      <td>Champions League</td>\n      <td>2</td>\n      <td>29</td>\n      <td>152425146</td>\n      <td>38</td>\n      <td>30</td>\n      <td>7</td>\n      <td>1</td>\n      <td>89</td>\n      <td>...</td>\n      <td>76</td>\n      <td>78</td>\n      <td>314</td>\n      <td>610</td>\n      <td>2</td>\n      <td>639</td>\n      <td>317</td>\n      <td>1</td>\n      <td>58.8</td>\n      <td>84.4</td>\n    </tr>\n    <tr>\n      <th>2</th>\n      <td>Chelsea</td>\n      <td>Champions League Qualification</td>\n      <td>3</td>\n      <td>25</td>\n      <td>146030216</td>\n      <td>38</td>\n      <td>21</td>\n      <td>9</td>\n      <td>8</td>\n      <td>63</td>\n      <td>...</td>\n      <td>85</td>\n      <td>73</td>\n      <td>351</td>\n      <td>618</td>\n      <td>2</td>\n      <td>593</td>\n      <td>330</td>\n      <td>2</td>\n      <td>59.9</td>\n      <td>87.6</td>\n    </tr>\n    <tr>\n      <th>3</th>\n      <td>Tottenham</td>\n      <td>Champions League Qualification</td>\n      <td>4</td>\n      <td>26</td>\n      <td>145230801</td>\n      <td>38</td>\n      <td>23</td>\n      <td>2</td>\n      <td>13</td>\n      <td>67</td>\n      <td>...</td>\n      <td>121</td>\n      <td>112</td>\n      <td>326</td>\n      <td>626</td>\n      <td>3</td>\n      <td>770</td>\n      <td>411</td>\n      <td>5</td>\n      <td>56.7</td>\n      <td>83.2</td>\n    </tr>\n    <tr>\n      <th>4</th>\n      <td>Arsenal</td>\n      <td>Europa League</td>\n      <td>5</td>\n      <td>25</td>\n      <td>142193180</td>\n      <td>38</td>\n      <td>21</td>\n      <td>7</td>\n      <td>10</td>\n      <td>73</td>\n      <td>...</td>\n      <td>133</td>\n      <td>118</td>\n      <td>412</td>\n      <td>609</td>\n      <td>2</td>\n      <td>762</td>\n      <td>404</td>\n      <td>7</td>\n      <td>56.1</td>\n      <td>83.3</td>\n    </tr>\n  </tbody>\n</table>\n<p>5 rows × 44 columns</p>\n</div>"
     },
     "metadata": {},
     "execution_count": 2
    }
   ],
   "source": [
    "# load dataset\n",
    "df = pd.read_csv('epl_1819.csv')\n",
    "df.head()"
   ]
  },
  {
   "cell_type": "code",
   "execution_count": 3,
   "metadata": {},
   "outputs": [
    {
     "output_type": "stream",
     "name": "stdout",
     "text": [
      "<class 'pandas.core.frame.DataFrame'>\nRangeIndex: 20 entries, 0 to 19\nData columns (total 44 columns):\n #   Column                         Non-Null Count  Dtype  \n---  ------                         --------------  -----  \n 0   Team                           20 non-null     object \n 1   category                       20 non-null     object \n 2   general_league_position        20 non-null     int64  \n 3   finance _live_games_televised  20 non-null     int64  \n 4   finance _tv_revenue            20 non-null     int64  \n 5   general_matches_played         20 non-null     int64  \n 6   general_won                    20 non-null     int64  \n 7   general_draw                   20 non-null     int64  \n 8   general_lost                   20 non-null     int64  \n 9   attack_scored                  20 non-null     int64  \n 10  defence_goals_conceeded        20 non-null     int64  \n 11  general_goal_difference        20 non-null     int64  \n 12  general_points                 20 non-null     int64  \n 13  general_squad_size             20 non-null     int64  \n 14  general_squad_average_age      20 non-null     float64\n 15  general_squad_foreigners       20 non-null     int64  \n 16  finance _team_market           20 non-null     int64  \n 17  finance _market_average        20 non-null     int64  \n 18  attack_passes                  20 non-null     object \n 19  attack_passes_through          20 non-null     int64  \n 20  attack_passes_long             20 non-null     object \n 21  attack_passes_back             20 non-null     object \n 22  attack_crosses                 20 non-null     int64  \n 23  attack_corners_taken           20 non-null     int64  \n 24  attack_shots                   20 non-null     int64  \n 25  attack_shots_on_target         20 non-null     int64  \n 26  attack_goals_headed            20 non-null     int64  \n 27  attack_goals_penalty           20 non-null     int64  \n 28  attack_goals_box               20 non-null     int64  \n 29  attack_goals_outsidebox        20 non-null     int64  \n 30  general_card_yellow            20 non-null     int64  \n 31  general_card_red               20 non-null     int64  \n 32  attack_goals_counter           20 non-null     int64  \n 33  attack_goals_freekick          20 non-null     int64  \n 34  defence_saves                  20 non-null     int64  \n 35  defence_blocks                 20 non-null     int64  \n 36  defence_interceptions          20 non-null     int64  \n 37  defence_tackles                20 non-null     int64  \n 38  defence_tackles_last_man       20 non-null     int64  \n 39  defence_clearances             20 non-null     object \n 40  defence_clearances_headed      20 non-null     int64  \n 41  defence_penalty_conceeded      20 non-null     int64  \n 42  attack_posession               20 non-null     float64\n 43  attack_pass_accuracy           20 non-null     float64\ndtypes: float64(3), int64(35), object(6)\nmemory usage: 7.0+ KB\n"
     ]
    }
   ],
   "source": [
    "df.info()"
   ]
  },
  {
   "source": [
    "There are some columns that have `object` data type and must be changed\n",
    "attack_passes,attack_passes_long,attack_passes_back,defence_clearances"
   ],
   "cell_type": "markdown",
   "metadata": {}
  },
  {
   "cell_type": "code",
   "execution_count": 4,
   "metadata": {},
   "outputs": [
    {
     "output_type": "execute_result",
     "data": {
      "text/plain": [
       "0    26,581\n",
       "1    23,638\n",
       "2    25,070\n",
       "3    21,295\n",
       "4    20,805\n",
       "Name: attack_passes, dtype: object"
      ]
     },
     "metadata": {},
     "execution_count": 4
    }
   ],
   "source": [
    "df['attack_passes'].head()"
   ]
  },
  {
   "cell_type": "code",
   "execution_count": 5,
   "metadata": {},
   "outputs": [
    {
     "output_type": "execute_result",
     "data": {
      "text/plain": [
       "0    1,814\n",
       "1    2,250\n",
       "2    1,774\n",
       "3    2,267\n",
       "4    2,062\n",
       "Name: attack_passes_long, dtype: object"
      ]
     },
     "metadata": {},
     "execution_count": 5
    }
   ],
   "source": [
    "df['attack_passes_long'].head()"
   ]
  },
  {
   "cell_type": "code",
   "execution_count": 6,
   "metadata": {},
   "outputs": [
    {
     "output_type": "execute_result",
     "data": {
      "text/plain": [
       "0    4,240\n",
       "1    3,416\n",
       "2    3,874\n",
       "3    3,191\n",
       "4    3,102\n",
       "Name: attack_passes_back, dtype: object"
      ]
     },
     "metadata": {},
     "execution_count": 6
    }
   ],
   "source": [
    "df['attack_passes_back'].head()"
   ]
  },
  {
   "cell_type": "code",
   "execution_count": 7,
   "metadata": {},
   "outputs": [
    {
     "output_type": "execute_result",
     "data": {
      "text/plain": [
       "0       543\n",
       "1       639\n",
       "2       593\n",
       "3       770\n",
       "4       762\n",
       "5       785\n",
       "6       824\n",
       "7       825\n",
       "8       945\n",
       "9       855\n",
       "10      956\n",
       "11      940\n",
       "12    1,120\n",
       "13    1,019\n",
       "14    1,080\n",
       "Name: defence_clearances, dtype: object"
      ]
     },
     "metadata": {},
     "execution_count": 7
    }
   ],
   "source": [
    "df['defence_clearances'].head(15)"
   ]
  },
  {
   "cell_type": "code",
   "execution_count": 8,
   "metadata": {},
   "outputs": [],
   "source": [
    "# apply lambda func to these columns and change with str.replace\n",
    "df['attack_passes'] = df['attack_passes'].str.replace(',','')\n",
    "df['attack_passes_long'] = df['attack_passes_long'].str.replace(',','')\n",
    "df['attack_passes_back'] = df['attack_passes_back'].str.replace(',','')\n",
    "df['defence_clearances'] = df['defence_clearances'].str.replace(',','')"
   ]
  },
  {
   "cell_type": "code",
   "execution_count": 9,
   "metadata": {},
   "outputs": [
    {
     "output_type": "execute_result",
     "data": {
      "text/plain": [
       "                 Team                        category  \\\n",
       "0     Manchester City                Champions League   \n",
       "1           Liverpool                Champions League   \n",
       "2             Chelsea  Champions League Qualification   \n",
       "3           Tottenham  Champions League Qualification   \n",
       "4             Arsenal                   Europa League   \n",
       "5   Manchester United                   Europa League   \n",
       "6       Wolverhampton     Europa League Qualification   \n",
       "7             Everton            No UEFA Competitions   \n",
       "8           Leicester            No UEFA Competitions   \n",
       "9            West Ham            No UEFA Competitions   \n",
       "10            Watford            No UEFA Competitions   \n",
       "11     Crystal Palace            No UEFA Competitions   \n",
       "12          Newcastle            No UEFA Competitions   \n",
       "13        Bournemouth            No UEFA Competitions   \n",
       "14            Burnley            No UEFA Competitions   \n",
       "15        Southampton            No UEFA Competitions   \n",
       "16           Brighton            No UEFA Competitions   \n",
       "17            Cardiff                       Relegated   \n",
       "18             Fulham                       Relegated   \n",
       "19       Huddersfield                       Relegated   \n",
       "\n",
       "    general_league_position  finance _live_games_televised  \\\n",
       "0                         1                             26   \n",
       "1                         2                             29   \n",
       "2                         3                             25   \n",
       "3                         4                             26   \n",
       "4                         5                             25   \n",
       "5                         6                             27   \n",
       "6                         7                             15   \n",
       "7                         8                             18   \n",
       "8                         9                             15   \n",
       "9                        10                             16   \n",
       "10                       11                             10   \n",
       "11                       12                             12   \n",
       "12                       13                             19   \n",
       "13                       14                             10   \n",
       "14                       15                             11   \n",
       "15                       16                             10   \n",
       "16                       17                             13   \n",
       "17                       18                             12   \n",
       "18                       19                             13   \n",
       "19                       20                             10   \n",
       "\n",
       "    finance _tv_revenue  general_matches_played  general_won  general_draw  \\\n",
       "0             150986355                      38           32             2   \n",
       "1             152425146                      38           30             7   \n",
       "2             146030216                      38           21             9   \n",
       "3             145230801                      38           23             2   \n",
       "4             142193180                      38           21             7   \n",
       "5             142512868                      38           19             9   \n",
       "6             127165114                      38           16             9   \n",
       "7             128603905                      38           15             9   \n",
       "8             123328078                      38           15             7   \n",
       "9             122528663                      38           15             7   \n",
       "10            113895527                      38           14             8   \n",
       "11            114215215                      38           14             7   \n",
       "12            120130418                      38           12             9   \n",
       "13            108139973                      38           13             6   \n",
       "14            107340558                      38           11             7   \n",
       "15            104302937                      38            9            12   \n",
       "16            105741728                      38            9             9   \n",
       "17            102704107                      38           10             4   \n",
       "18            101904692                      38            7             5   \n",
       "19             96628865                      38            3             7   \n",
       "\n",
       "    general_lost  attack_scored  ...  defence_saves  defence_blocks  \\\n",
       "0              4             95  ...             58              63   \n",
       "1              1             89  ...             76              78   \n",
       "2              8             63  ...             85              73   \n",
       "3             13             67  ...            121             112   \n",
       "4             10             73  ...            133             118   \n",
       "5             10             65  ...            122             128   \n",
       "6             13             47  ...            100             148   \n",
       "7             14             54  ...             94              85   \n",
       "8             16             51  ...             90              96   \n",
       "9             16             52  ...            148             141   \n",
       "10            16             52  ...            127             120   \n",
       "11            17             51  ...            113             141   \n",
       "12            17             42  ...             95             134   \n",
       "13            19             56  ...            110             152   \n",
       "14            20             45  ...            140             222   \n",
       "15            17             45  ...            114             153   \n",
       "16            20             35  ...            111             170   \n",
       "17            24             34  ...            141             147   \n",
       "18            26             34  ...            147             144   \n",
       "19            28             22  ...            114             130   \n",
       "\n",
       "    defence_interceptions  defence_tackles  defence_tackles_last_man  \\\n",
       "0                     362              518                         0   \n",
       "1                     314              610                         2   \n",
       "2                     351              618                         2   \n",
       "3                     326              626                         3   \n",
       "4                     412              609                         2   \n",
       "5                     355              581                         2   \n",
       "6                     501              720                         2   \n",
       "7                     456              700                         4   \n",
       "8                     436              676                         4   \n",
       "9                     457              723                         5   \n",
       "10                    426              655                         8   \n",
       "11                    446              730                         2   \n",
       "12                    506              714                         4   \n",
       "13                    371              526                         5   \n",
       "14                    365              583                         5   \n",
       "15                    548              699                         4   \n",
       "16                    463              681                         4   \n",
       "17                    528              655                         4   \n",
       "18                    433              591                         0   \n",
       "19                    530              710                         2   \n",
       "\n",
       "    defence_clearances  defence_clearances_headed  defence_penalty_conceeded  \\\n",
       "0                  543                        295                          4   \n",
       "1                  639                        317                          1   \n",
       "2                  593                        330                          2   \n",
       "3                  770                        411                          5   \n",
       "4                  762                        404                          7   \n",
       "5                  785                        370                          6   \n",
       "6                  824                        464                          4   \n",
       "7                  825                        430                          5   \n",
       "8                  945                        500                          5   \n",
       "9                  855                        397                          5   \n",
       "10                 956                        447                          5   \n",
       "11                 940                        467                          5   \n",
       "12                1120                        564                          7   \n",
       "13                1019                        515                          5   \n",
       "14                1080                        539                          5   \n",
       "15                1068                        502                          3   \n",
       "16                 921                        499                         10   \n",
       "17                 978                        448                          8   \n",
       "18                 971                        443                          7   \n",
       "19                 658                        246                          8   \n",
       "\n",
       "   attack_posession  attack_pass_accuracy  \n",
       "0              64.0                  89.0  \n",
       "1              58.8                  84.4  \n",
       "2              59.9                  87.6  \n",
       "3              56.7                  83.2  \n",
       "4              56.1                  83.3  \n",
       "5              53.3                  82.3  \n",
       "6              47.4                  78.2  \n",
       "7              51.0                  77.3  \n",
       "8              50.8                  79.2  \n",
       "9              49.0                  78.7  \n",
       "10             47.4                  76.1  \n",
       "11             46.6                  76.8  \n",
       "12             42.9                  72.9  \n",
       "13             47.7                  78.1  \n",
       "14             43.4                  70.3  \n",
       "15             45.4                  74.0  \n",
       "16             44.1                  74.8  \n",
       "17             39.1                  63.9  \n",
       "18             49.2                  80.3  \n",
       "19             47.1                  75.8  \n",
       "\n",
       "[20 rows x 44 columns]"
      ],
      "text/html": "<div>\n<style scoped>\n    .dataframe tbody tr th:only-of-type {\n        vertical-align: middle;\n    }\n\n    .dataframe tbody tr th {\n        vertical-align: top;\n    }\n\n    .dataframe thead th {\n        text-align: right;\n    }\n</style>\n<table border=\"1\" class=\"dataframe\">\n  <thead>\n    <tr style=\"text-align: right;\">\n      <th></th>\n      <th>Team</th>\n      <th>category</th>\n      <th>general_league_position</th>\n      <th>finance _live_games_televised</th>\n      <th>finance _tv_revenue</th>\n      <th>general_matches_played</th>\n      <th>general_won</th>\n      <th>general_draw</th>\n      <th>general_lost</th>\n      <th>attack_scored</th>\n      <th>...</th>\n      <th>defence_saves</th>\n      <th>defence_blocks</th>\n      <th>defence_interceptions</th>\n      <th>defence_tackles</th>\n      <th>defence_tackles_last_man</th>\n      <th>defence_clearances</th>\n      <th>defence_clearances_headed</th>\n      <th>defence_penalty_conceeded</th>\n      <th>attack_posession</th>\n      <th>attack_pass_accuracy</th>\n    </tr>\n  </thead>\n  <tbody>\n    <tr>\n      <th>0</th>\n      <td>Manchester City</td>\n      <td>Champions League</td>\n      <td>1</td>\n      <td>26</td>\n      <td>150986355</td>\n      <td>38</td>\n      <td>32</td>\n      <td>2</td>\n      <td>4</td>\n      <td>95</td>\n      <td>...</td>\n      <td>58</td>\n      <td>63</td>\n      <td>362</td>\n      <td>518</td>\n      <td>0</td>\n      <td>543</td>\n      <td>295</td>\n      <td>4</td>\n      <td>64.0</td>\n      <td>89.0</td>\n    </tr>\n    <tr>\n      <th>1</th>\n      <td>Liverpool</td>\n      <td>Champions League</td>\n      <td>2</td>\n      <td>29</td>\n      <td>152425146</td>\n      <td>38</td>\n      <td>30</td>\n      <td>7</td>\n      <td>1</td>\n      <td>89</td>\n      <td>...</td>\n      <td>76</td>\n      <td>78</td>\n      <td>314</td>\n      <td>610</td>\n      <td>2</td>\n      <td>639</td>\n      <td>317</td>\n      <td>1</td>\n      <td>58.8</td>\n      <td>84.4</td>\n    </tr>\n    <tr>\n      <th>2</th>\n      <td>Chelsea</td>\n      <td>Champions League Qualification</td>\n      <td>3</td>\n      <td>25</td>\n      <td>146030216</td>\n      <td>38</td>\n      <td>21</td>\n      <td>9</td>\n      <td>8</td>\n      <td>63</td>\n      <td>...</td>\n      <td>85</td>\n      <td>73</td>\n      <td>351</td>\n      <td>618</td>\n      <td>2</td>\n      <td>593</td>\n      <td>330</td>\n      <td>2</td>\n      <td>59.9</td>\n      <td>87.6</td>\n    </tr>\n    <tr>\n      <th>3</th>\n      <td>Tottenham</td>\n      <td>Champions League Qualification</td>\n      <td>4</td>\n      <td>26</td>\n      <td>145230801</td>\n      <td>38</td>\n      <td>23</td>\n      <td>2</td>\n      <td>13</td>\n      <td>67</td>\n      <td>...</td>\n      <td>121</td>\n      <td>112</td>\n      <td>326</td>\n      <td>626</td>\n      <td>3</td>\n      <td>770</td>\n      <td>411</td>\n      <td>5</td>\n      <td>56.7</td>\n      <td>83.2</td>\n    </tr>\n    <tr>\n      <th>4</th>\n      <td>Arsenal</td>\n      <td>Europa League</td>\n      <td>5</td>\n      <td>25</td>\n      <td>142193180</td>\n      <td>38</td>\n      <td>21</td>\n      <td>7</td>\n      <td>10</td>\n      <td>73</td>\n      <td>...</td>\n      <td>133</td>\n      <td>118</td>\n      <td>412</td>\n      <td>609</td>\n      <td>2</td>\n      <td>762</td>\n      <td>404</td>\n      <td>7</td>\n      <td>56.1</td>\n      <td>83.3</td>\n    </tr>\n    <tr>\n      <th>5</th>\n      <td>Manchester United</td>\n      <td>Europa League</td>\n      <td>6</td>\n      <td>27</td>\n      <td>142512868</td>\n      <td>38</td>\n      <td>19</td>\n      <td>9</td>\n      <td>10</td>\n      <td>65</td>\n      <td>...</td>\n      <td>122</td>\n      <td>128</td>\n      <td>355</td>\n      <td>581</td>\n      <td>2</td>\n      <td>785</td>\n      <td>370</td>\n      <td>6</td>\n      <td>53.3</td>\n      <td>82.3</td>\n    </tr>\n    <tr>\n      <th>6</th>\n      <td>Wolverhampton</td>\n      <td>Europa League Qualification</td>\n      <td>7</td>\n      <td>15</td>\n      <td>127165114</td>\n      <td>38</td>\n      <td>16</td>\n      <td>9</td>\n      <td>13</td>\n      <td>47</td>\n      <td>...</td>\n      <td>100</td>\n      <td>148</td>\n      <td>501</td>\n      <td>720</td>\n      <td>2</td>\n      <td>824</td>\n      <td>464</td>\n      <td>4</td>\n      <td>47.4</td>\n      <td>78.2</td>\n    </tr>\n    <tr>\n      <th>7</th>\n      <td>Everton</td>\n      <td>No UEFA Competitions</td>\n      <td>8</td>\n      <td>18</td>\n      <td>128603905</td>\n      <td>38</td>\n      <td>15</td>\n      <td>9</td>\n      <td>14</td>\n      <td>54</td>\n      <td>...</td>\n      <td>94</td>\n      <td>85</td>\n      <td>456</td>\n      <td>700</td>\n      <td>4</td>\n      <td>825</td>\n      <td>430</td>\n      <td>5</td>\n      <td>51.0</td>\n      <td>77.3</td>\n    </tr>\n    <tr>\n      <th>8</th>\n      <td>Leicester</td>\n      <td>No UEFA Competitions</td>\n      <td>9</td>\n      <td>15</td>\n      <td>123328078</td>\n      <td>38</td>\n      <td>15</td>\n      <td>7</td>\n      <td>16</td>\n      <td>51</td>\n      <td>...</td>\n      <td>90</td>\n      <td>96</td>\n      <td>436</td>\n      <td>676</td>\n      <td>4</td>\n      <td>945</td>\n      <td>500</td>\n      <td>5</td>\n      <td>50.8</td>\n      <td>79.2</td>\n    </tr>\n    <tr>\n      <th>9</th>\n      <td>West Ham</td>\n      <td>No UEFA Competitions</td>\n      <td>10</td>\n      <td>16</td>\n      <td>122528663</td>\n      <td>38</td>\n      <td>15</td>\n      <td>7</td>\n      <td>16</td>\n      <td>52</td>\n      <td>...</td>\n      <td>148</td>\n      <td>141</td>\n      <td>457</td>\n      <td>723</td>\n      <td>5</td>\n      <td>855</td>\n      <td>397</td>\n      <td>5</td>\n      <td>49.0</td>\n      <td>78.7</td>\n    </tr>\n    <tr>\n      <th>10</th>\n      <td>Watford</td>\n      <td>No UEFA Competitions</td>\n      <td>11</td>\n      <td>10</td>\n      <td>113895527</td>\n      <td>38</td>\n      <td>14</td>\n      <td>8</td>\n      <td>16</td>\n      <td>52</td>\n      <td>...</td>\n      <td>127</td>\n      <td>120</td>\n      <td>426</td>\n      <td>655</td>\n      <td>8</td>\n      <td>956</td>\n      <td>447</td>\n      <td>5</td>\n      <td>47.4</td>\n      <td>76.1</td>\n    </tr>\n    <tr>\n      <th>11</th>\n      <td>Crystal Palace</td>\n      <td>No UEFA Competitions</td>\n      <td>12</td>\n      <td>12</td>\n      <td>114215215</td>\n      <td>38</td>\n      <td>14</td>\n      <td>7</td>\n      <td>17</td>\n      <td>51</td>\n      <td>...</td>\n      <td>113</td>\n      <td>141</td>\n      <td>446</td>\n      <td>730</td>\n      <td>2</td>\n      <td>940</td>\n      <td>467</td>\n      <td>5</td>\n      <td>46.6</td>\n      <td>76.8</td>\n    </tr>\n    <tr>\n      <th>12</th>\n      <td>Newcastle</td>\n      <td>No UEFA Competitions</td>\n      <td>13</td>\n      <td>19</td>\n      <td>120130418</td>\n      <td>38</td>\n      <td>12</td>\n      <td>9</td>\n      <td>17</td>\n      <td>42</td>\n      <td>...</td>\n      <td>95</td>\n      <td>134</td>\n      <td>506</td>\n      <td>714</td>\n      <td>4</td>\n      <td>1120</td>\n      <td>564</td>\n      <td>7</td>\n      <td>42.9</td>\n      <td>72.9</td>\n    </tr>\n    <tr>\n      <th>13</th>\n      <td>Bournemouth</td>\n      <td>No UEFA Competitions</td>\n      <td>14</td>\n      <td>10</td>\n      <td>108139973</td>\n      <td>38</td>\n      <td>13</td>\n      <td>6</td>\n      <td>19</td>\n      <td>56</td>\n      <td>...</td>\n      <td>110</td>\n      <td>152</td>\n      <td>371</td>\n      <td>526</td>\n      <td>5</td>\n      <td>1019</td>\n      <td>515</td>\n      <td>5</td>\n      <td>47.7</td>\n      <td>78.1</td>\n    </tr>\n    <tr>\n      <th>14</th>\n      <td>Burnley</td>\n      <td>No UEFA Competitions</td>\n      <td>15</td>\n      <td>11</td>\n      <td>107340558</td>\n      <td>38</td>\n      <td>11</td>\n      <td>7</td>\n      <td>20</td>\n      <td>45</td>\n      <td>...</td>\n      <td>140</td>\n      <td>222</td>\n      <td>365</td>\n      <td>583</td>\n      <td>5</td>\n      <td>1080</td>\n      <td>539</td>\n      <td>5</td>\n      <td>43.4</td>\n      <td>70.3</td>\n    </tr>\n    <tr>\n      <th>15</th>\n      <td>Southampton</td>\n      <td>No UEFA Competitions</td>\n      <td>16</td>\n      <td>10</td>\n      <td>104302937</td>\n      <td>38</td>\n      <td>9</td>\n      <td>12</td>\n      <td>17</td>\n      <td>45</td>\n      <td>...</td>\n      <td>114</td>\n      <td>153</td>\n      <td>548</td>\n      <td>699</td>\n      <td>4</td>\n      <td>1068</td>\n      <td>502</td>\n      <td>3</td>\n      <td>45.4</td>\n      <td>74.0</td>\n    </tr>\n    <tr>\n      <th>16</th>\n      <td>Brighton</td>\n      <td>No UEFA Competitions</td>\n      <td>17</td>\n      <td>13</td>\n      <td>105741728</td>\n      <td>38</td>\n      <td>9</td>\n      <td>9</td>\n      <td>20</td>\n      <td>35</td>\n      <td>...</td>\n      <td>111</td>\n      <td>170</td>\n      <td>463</td>\n      <td>681</td>\n      <td>4</td>\n      <td>921</td>\n      <td>499</td>\n      <td>10</td>\n      <td>44.1</td>\n      <td>74.8</td>\n    </tr>\n    <tr>\n      <th>17</th>\n      <td>Cardiff</td>\n      <td>Relegated</td>\n      <td>18</td>\n      <td>12</td>\n      <td>102704107</td>\n      <td>38</td>\n      <td>10</td>\n      <td>4</td>\n      <td>24</td>\n      <td>34</td>\n      <td>...</td>\n      <td>141</td>\n      <td>147</td>\n      <td>528</td>\n      <td>655</td>\n      <td>4</td>\n      <td>978</td>\n      <td>448</td>\n      <td>8</td>\n      <td>39.1</td>\n      <td>63.9</td>\n    </tr>\n    <tr>\n      <th>18</th>\n      <td>Fulham</td>\n      <td>Relegated</td>\n      <td>19</td>\n      <td>13</td>\n      <td>101904692</td>\n      <td>38</td>\n      <td>7</td>\n      <td>5</td>\n      <td>26</td>\n      <td>34</td>\n      <td>...</td>\n      <td>147</td>\n      <td>144</td>\n      <td>433</td>\n      <td>591</td>\n      <td>0</td>\n      <td>971</td>\n      <td>443</td>\n      <td>7</td>\n      <td>49.2</td>\n      <td>80.3</td>\n    </tr>\n    <tr>\n      <th>19</th>\n      <td>Huddersfield</td>\n      <td>Relegated</td>\n      <td>20</td>\n      <td>10</td>\n      <td>96628865</td>\n      <td>38</td>\n      <td>3</td>\n      <td>7</td>\n      <td>28</td>\n      <td>22</td>\n      <td>...</td>\n      <td>114</td>\n      <td>130</td>\n      <td>530</td>\n      <td>710</td>\n      <td>2</td>\n      <td>658</td>\n      <td>246</td>\n      <td>8</td>\n      <td>47.1</td>\n      <td>75.8</td>\n    </tr>\n  </tbody>\n</table>\n<p>20 rows × 44 columns</p>\n</div>"
     },
     "metadata": {},
     "execution_count": 9
    }
   ],
   "source": [
    "df"
   ]
  },
  {
   "source": [
    "but the data type still object, it must changed to `int`"
   ],
   "cell_type": "markdown",
   "metadata": {}
  },
  {
   "cell_type": "code",
   "execution_count": 10,
   "metadata": {},
   "outputs": [
    {
     "output_type": "stream",
     "name": "stdout",
     "text": [
      "<class 'pandas.core.frame.DataFrame'>\nRangeIndex: 20 entries, 0 to 19\nData columns (total 4 columns):\n #   Column              Non-Null Count  Dtype \n---  ------              --------------  ----- \n 0   attack_passes       20 non-null     object\n 1   attack_passes_long  20 non-null     object\n 2   attack_passes_back  20 non-null     object\n 3   defence_clearances  20 non-null     object\ndtypes: object(4)\nmemory usage: 768.0+ bytes\n"
     ]
    }
   ],
   "source": [
    "df[['attack_passes','attack_passes_long','attack_passes_back','defence_clearances']].info()"
   ]
  },
  {
   "cell_type": "code",
   "execution_count": 11,
   "metadata": {},
   "outputs": [],
   "source": [
    "# change dtype to integer\n",
    "df['attack_passes'] = df['attack_passes'].astype('int')\n",
    "df['attack_passes_long'] = df['attack_passes_long'].astype('int')\n",
    "df['attack_passes_back'] = df['attack_passes_back'].astype('int')\n",
    "df['defence_clearances'] = df['defence_clearances'].astype('int')"
   ]
  },
  {
   "cell_type": "code",
   "execution_count": 12,
   "metadata": {},
   "outputs": [
    {
     "output_type": "stream",
     "name": "stdout",
     "text": [
      "<class 'pandas.core.frame.DataFrame'>\nRangeIndex: 20 entries, 0 to 19\nData columns (total 4 columns):\n #   Column              Non-Null Count  Dtype\n---  ------              --------------  -----\n 0   attack_passes       20 non-null     int32\n 1   attack_passes_long  20 non-null     int32\n 2   attack_passes_back  20 non-null     int32\n 3   defence_clearances  20 non-null     int32\ndtypes: int32(4)\nmemory usage: 448.0 bytes\n"
     ]
    }
   ],
   "source": [
    "df[['attack_passes','attack_passes_long','attack_passes_back','defence_clearances']].info()"
   ]
  },
  {
   "source": [
    "checking null data"
   ],
   "cell_type": "markdown",
   "metadata": {}
  },
  {
   "cell_type": "code",
   "execution_count": 13,
   "metadata": {},
   "outputs": [
    {
     "output_type": "execute_result",
     "data": {
      "text/plain": [
       "Team                             0\n",
       "category                         0\n",
       "general_league_position          0\n",
       "finance _live_games_televised    0\n",
       "finance _tv_revenue              0\n",
       "general_matches_played           0\n",
       "general_won                      0\n",
       "general_draw                     0\n",
       "general_lost                     0\n",
       "attack_scored                    0\n",
       "defence_goals_conceeded          0\n",
       "general_goal_difference          0\n",
       "general_points                   0\n",
       "general_squad_size               0\n",
       "general_squad_average_age        0\n",
       "general_squad_foreigners         0\n",
       "finance _team_market             0\n",
       "finance _market_average          0\n",
       "attack_passes                    0\n",
       "attack_passes_through            0\n",
       "attack_passes_long               0\n",
       "attack_passes_back               0\n",
       "attack_crosses                   0\n",
       "attack_corners_taken             0\n",
       "attack_shots                     0\n",
       "attack_shots_on_target           0\n",
       "attack_goals_headed              0\n",
       "attack_goals_penalty             0\n",
       "attack_goals_box                 0\n",
       "attack_goals_outsidebox          0\n",
       "general_card_yellow              0\n",
       "general_card_red                 0\n",
       "attack_goals_counter             0\n",
       "attack_goals_freekick            0\n",
       "defence_saves                    0\n",
       "defence_blocks                   0\n",
       "defence_interceptions            0\n",
       "defence_tackles                  0\n",
       "defence_tackles_last_man         0\n",
       "defence_clearances               0\n",
       "defence_clearances_headed        0\n",
       "defence_penalty_conceeded        0\n",
       "attack_posession                 0\n",
       "attack_pass_accuracy             0\n",
       "dtype: int64"
      ]
     },
     "metadata": {},
     "execution_count": 13
    }
   ],
   "source": [
    "df.isnull().sum()"
   ]
  },
  {
   "source": [
    "# How is the point distribution of the epl team? and which team is an anomaly?"
   ],
   "cell_type": "markdown",
   "metadata": {}
  },
  {
   "cell_type": "code",
   "execution_count": 14,
   "metadata": {},
   "outputs": [
    {
     "output_type": "execute_result",
     "data": {
      "text/plain": [
       "<seaborn.axisgrid.FacetGrid at 0x20c05238d30>"
      ]
     },
     "metadata": {},
     "execution_count": 14
    },
    {
     "output_type": "display_data",
     "data": {
      "text/plain": "<Figure size 360x360 with 1 Axes>",
      "image/svg+xml": "<?xml version=\"1.0\" encoding=\"utf-8\" standalone=\"no\"?>\r\n<!DOCTYPE svg PUBLIC \"-//W3C//DTD SVG 1.1//EN\"\r\n  \"http://www.w3.org/Graphics/SVG/1.1/DTD/svg11.dtd\">\r\n<svg height=\"351.528125pt\" version=\"1.1\" viewBox=\"0 0 352.544842 351.528125\" width=\"352.544842pt\" xmlns=\"http://www.w3.org/2000/svg\" xmlns:xlink=\"http://www.w3.org/1999/xlink\">\r\n <metadata>\r\n  <rdf:RDF xmlns:cc=\"http://creativecommons.org/ns#\" xmlns:dc=\"http://purl.org/dc/elements/1.1/\" xmlns:rdf=\"http://www.w3.org/1999/02/22-rdf-syntax-ns#\">\r\n   <cc:Work>\r\n    <dc:type rdf:resource=\"http://purl.org/dc/dcmitype/StillImage\"/>\r\n    <dc:date>2021-06-30T02:23:02.097641</dc:date>\r\n    <dc:format>image/svg+xml</dc:format>\r\n    <dc:creator>\r\n     <cc:Agent>\r\n      <dc:title>Matplotlib v3.4.2, https://matplotlib.org/</dc:title>\r\n     </cc:Agent>\r\n    </dc:creator>\r\n   </cc:Work>\r\n  </rdf:RDF>\r\n </metadata>\r\n <defs>\r\n  <style type=\"text/css\">*{stroke-linecap:butt;stroke-linejoin:round;}</style>\r\n </defs>\r\n <g id=\"figure_1\">\r\n  <g id=\"patch_1\">\r\n   <path d=\"M 0 351.528125 \r\nL 352.544842 351.528125 \r\nL 352.544842 0 \r\nL 0 0 \r\nz\r\n\" style=\"fill:none;\"/>\r\n  </g>\r\n  <g id=\"axes_1\">\r\n   <g id=\"patch_2\">\r\n    <path d=\"M 34.240625 313.69375 \r\nL 342.989253 313.69375 \r\nL 342.989253 7.2 \r\nL 34.240625 7.2 \r\nz\r\n\" style=\"fill:#ffffff;\"/>\r\n   </g>\r\n   <g id=\"patch_3\">\r\n    <path clip-path=\"url(#p422d14d174)\" d=\"M 48.274654 313.69375 \r\nL 95.054749 313.69375 \r\nL 95.054749 230.29409 \r\nL 48.274654 230.29409 \r\nz\r\n\" style=\"fill:#1f77b4;fill-opacity:0.75;stroke:#000000;stroke-linejoin:miter;\"/>\r\n   </g>\r\n   <g id=\"patch_4\">\r\n    <path clip-path=\"url(#p422d14d174)\" d=\"M 95.054749 313.69375 \r\nL 141.834844 313.69375 \r\nL 141.834844 146.89443 \r\nL 95.054749 146.89443 \r\nz\r\n\" style=\"fill:#1f77b4;fill-opacity:0.75;stroke:#000000;stroke-linejoin:miter;\"/>\r\n   </g>\r\n   <g id=\"patch_5\">\r\n    <path clip-path=\"url(#p422d14d174)\" d=\"M 141.834844 313.69375 \r\nL 188.614939 313.69375 \r\nL 188.614939 21.79494 \r\nL 141.834844 21.79494 \r\nz\r\n\" style=\"fill:#1f77b4;fill-opacity:0.75;stroke:#000000;stroke-linejoin:miter;\"/>\r\n   </g>\r\n   <g id=\"patch_6\">\r\n    <path clip-path=\"url(#p422d14d174)\" d=\"M 188.614939 313.69375 \r\nL 235.395034 313.69375 \r\nL 235.395034 188.59426 \r\nL 188.614939 188.59426 \r\nz\r\n\" style=\"fill:#1f77b4;fill-opacity:0.75;stroke:#000000;stroke-linejoin:miter;\"/>\r\n   </g>\r\n   <g id=\"patch_7\">\r\n    <path clip-path=\"url(#p422d14d174)\" d=\"M 235.395034 313.69375 \r\nL 282.175129 313.69375 \r\nL 282.175129 230.29409 \r\nL 235.395034 230.29409 \r\nz\r\n\" style=\"fill:#1f77b4;fill-opacity:0.75;stroke:#000000;stroke-linejoin:miter;\"/>\r\n   </g>\r\n   <g id=\"patch_8\">\r\n    <path clip-path=\"url(#p422d14d174)\" d=\"M 282.175129 313.69375 \r\nL 328.955225 313.69375 \r\nL 328.955225 230.29409 \r\nL 282.175129 230.29409 \r\nz\r\n\" style=\"fill:#1f77b4;fill-opacity:0.75;stroke:#000000;stroke-linejoin:miter;\"/>\r\n   </g>\r\n   <g id=\"matplotlib.axis_1\">\r\n    <g id=\"xtick_1\">\r\n     <g id=\"line2d_1\">\r\n      <defs>\r\n       <path d=\"M 0 0 \r\nL 0 3.5 \r\n\" id=\"m986e328816\" style=\"stroke:#000000;stroke-width:0.8;\"/>\r\n      </defs>\r\n      <g>\r\n       <use style=\"stroke:#000000;stroke-width:0.8;\" x=\"61.966389\" xlink:href=\"#m986e328816\" y=\"313.69375\"/>\r\n      </g>\r\n     </g>\r\n     <g id=\"text_1\">\r\n      <!-- 20 -->\r\n      <g transform=\"translate(55.603889 328.292187)scale(0.1 -0.1)\">\r\n       <defs>\r\n        <path d=\"M 1228 531 \r\nL 3431 531 \r\nL 3431 0 \r\nL 469 0 \r\nL 469 531 \r\nQ 828 903 1448 1529 \r\nQ 2069 2156 2228 2338 \r\nQ 2531 2678 2651 2914 \r\nQ 2772 3150 2772 3378 \r\nQ 2772 3750 2511 3984 \r\nQ 2250 4219 1831 4219 \r\nQ 1534 4219 1204 4116 \r\nQ 875 4013 500 3803 \r\nL 500 4441 \r\nQ 881 4594 1212 4672 \r\nQ 1544 4750 1819 4750 \r\nQ 2544 4750 2975 4387 \r\nQ 3406 4025 3406 3419 \r\nQ 3406 3131 3298 2873 \r\nQ 3191 2616 2906 2266 \r\nQ 2828 2175 2409 1742 \r\nQ 1991 1309 1228 531 \r\nz\r\n\" id=\"DejaVuSans-32\" transform=\"scale(0.015625)\"/>\r\n        <path d=\"M 2034 4250 \r\nQ 1547 4250 1301 3770 \r\nQ 1056 3291 1056 2328 \r\nQ 1056 1369 1301 889 \r\nQ 1547 409 2034 409 \r\nQ 2525 409 2770 889 \r\nQ 3016 1369 3016 2328 \r\nQ 3016 3291 2770 3770 \r\nQ 2525 4250 2034 4250 \r\nz\r\nM 2034 4750 \r\nQ 2819 4750 3233 4129 \r\nQ 3647 3509 3647 2328 \r\nQ 3647 1150 3233 529 \r\nQ 2819 -91 2034 -91 \r\nQ 1250 -91 836 529 \r\nQ 422 1150 422 2328 \r\nQ 422 3509 836 4129 \r\nQ 1250 4750 2034 4750 \r\nz\r\n\" id=\"DejaVuSans-30\" transform=\"scale(0.015625)\"/>\r\n       </defs>\r\n       <use xlink:href=\"#DejaVuSans-32\"/>\r\n       <use x=\"63.623047\" xlink:href=\"#DejaVuSans-30\"/>\r\n      </g>\r\n     </g>\r\n    </g>\r\n    <g id=\"xtick_2\">\r\n     <g id=\"line2d_2\">\r\n      <g>\r\n       <use style=\"stroke:#000000;stroke-width:0.8;\" x=\"130.425065\" xlink:href=\"#m986e328816\" y=\"313.69375\"/>\r\n      </g>\r\n     </g>\r\n     <g id=\"text_2\">\r\n      <!-- 40 -->\r\n      <g transform=\"translate(124.062565 328.292187)scale(0.1 -0.1)\">\r\n       <defs>\r\n        <path d=\"M 2419 4116 \r\nL 825 1625 \r\nL 2419 1625 \r\nL 2419 4116 \r\nz\r\nM 2253 4666 \r\nL 3047 4666 \r\nL 3047 1625 \r\nL 3713 1625 \r\nL 3713 1100 \r\nL 3047 1100 \r\nL 3047 0 \r\nL 2419 0 \r\nL 2419 1100 \r\nL 313 1100 \r\nL 313 1709 \r\nL 2253 4666 \r\nz\r\n\" id=\"DejaVuSans-34\" transform=\"scale(0.015625)\"/>\r\n       </defs>\r\n       <use xlink:href=\"#DejaVuSans-34\"/>\r\n       <use x=\"63.623047\" xlink:href=\"#DejaVuSans-30\"/>\r\n      </g>\r\n     </g>\r\n    </g>\r\n    <g id=\"xtick_3\">\r\n     <g id=\"line2d_3\">\r\n      <g>\r\n       <use style=\"stroke:#000000;stroke-width:0.8;\" x=\"198.88374\" xlink:href=\"#m986e328816\" y=\"313.69375\"/>\r\n      </g>\r\n     </g>\r\n     <g id=\"text_3\">\r\n      <!-- 60 -->\r\n      <g transform=\"translate(192.52124 328.292187)scale(0.1 -0.1)\">\r\n       <defs>\r\n        <path d=\"M 2113 2584 \r\nQ 1688 2584 1439 2293 \r\nQ 1191 2003 1191 1497 \r\nQ 1191 994 1439 701 \r\nQ 1688 409 2113 409 \r\nQ 2538 409 2786 701 \r\nQ 3034 994 3034 1497 \r\nQ 3034 2003 2786 2293 \r\nQ 2538 2584 2113 2584 \r\nz\r\nM 3366 4563 \r\nL 3366 3988 \r\nQ 3128 4100 2886 4159 \r\nQ 2644 4219 2406 4219 \r\nQ 1781 4219 1451 3797 \r\nQ 1122 3375 1075 2522 \r\nQ 1259 2794 1537 2939 \r\nQ 1816 3084 2150 3084 \r\nQ 2853 3084 3261 2657 \r\nQ 3669 2231 3669 1497 \r\nQ 3669 778 3244 343 \r\nQ 2819 -91 2113 -91 \r\nQ 1303 -91 875 529 \r\nQ 447 1150 447 2328 \r\nQ 447 3434 972 4092 \r\nQ 1497 4750 2381 4750 \r\nQ 2619 4750 2861 4703 \r\nQ 3103 4656 3366 4563 \r\nz\r\n\" id=\"DejaVuSans-36\" transform=\"scale(0.015625)\"/>\r\n       </defs>\r\n       <use xlink:href=\"#DejaVuSans-36\"/>\r\n       <use x=\"63.623047\" xlink:href=\"#DejaVuSans-30\"/>\r\n      </g>\r\n     </g>\r\n    </g>\r\n    <g id=\"xtick_4\">\r\n     <g id=\"line2d_4\">\r\n      <g>\r\n       <use style=\"stroke:#000000;stroke-width:0.8;\" x=\"267.342416\" xlink:href=\"#m986e328816\" y=\"313.69375\"/>\r\n      </g>\r\n     </g>\r\n     <g id=\"text_4\">\r\n      <!-- 80 -->\r\n      <g transform=\"translate(260.979916 328.292187)scale(0.1 -0.1)\">\r\n       <defs>\r\n        <path d=\"M 2034 2216 \r\nQ 1584 2216 1326 1975 \r\nQ 1069 1734 1069 1313 \r\nQ 1069 891 1326 650 \r\nQ 1584 409 2034 409 \r\nQ 2484 409 2743 651 \r\nQ 3003 894 3003 1313 \r\nQ 3003 1734 2745 1975 \r\nQ 2488 2216 2034 2216 \r\nz\r\nM 1403 2484 \r\nQ 997 2584 770 2862 \r\nQ 544 3141 544 3541 \r\nQ 544 4100 942 4425 \r\nQ 1341 4750 2034 4750 \r\nQ 2731 4750 3128 4425 \r\nQ 3525 4100 3525 3541 \r\nQ 3525 3141 3298 2862 \r\nQ 3072 2584 2669 2484 \r\nQ 3125 2378 3379 2068 \r\nQ 3634 1759 3634 1313 \r\nQ 3634 634 3220 271 \r\nQ 2806 -91 2034 -91 \r\nQ 1263 -91 848 271 \r\nQ 434 634 434 1313 \r\nQ 434 1759 690 2068 \r\nQ 947 2378 1403 2484 \r\nz\r\nM 1172 3481 \r\nQ 1172 3119 1398 2916 \r\nQ 1625 2713 2034 2713 \r\nQ 2441 2713 2670 2916 \r\nQ 2900 3119 2900 3481 \r\nQ 2900 3844 2670 4047 \r\nQ 2441 4250 2034 4250 \r\nQ 1625 4250 1398 4047 \r\nQ 1172 3844 1172 3481 \r\nz\r\n\" id=\"DejaVuSans-38\" transform=\"scale(0.015625)\"/>\r\n       </defs>\r\n       <use xlink:href=\"#DejaVuSans-38\"/>\r\n       <use x=\"63.623047\" xlink:href=\"#DejaVuSans-30\"/>\r\n      </g>\r\n     </g>\r\n    </g>\r\n    <g id=\"xtick_5\">\r\n     <g id=\"line2d_5\">\r\n      <g>\r\n       <use style=\"stroke:#000000;stroke-width:0.8;\" x=\"335.801092\" xlink:href=\"#m986e328816\" y=\"313.69375\"/>\r\n      </g>\r\n     </g>\r\n     <g id=\"text_5\">\r\n      <!-- 100 -->\r\n      <g transform=\"translate(326.257342 328.292187)scale(0.1 -0.1)\">\r\n       <defs>\r\n        <path d=\"M 794 531 \r\nL 1825 531 \r\nL 1825 4091 \r\nL 703 3866 \r\nL 703 4441 \r\nL 1819 4666 \r\nL 2450 4666 \r\nL 2450 531 \r\nL 3481 531 \r\nL 3481 0 \r\nL 794 0 \r\nL 794 531 \r\nz\r\n\" id=\"DejaVuSans-31\" transform=\"scale(0.015625)\"/>\r\n       </defs>\r\n       <use xlink:href=\"#DejaVuSans-31\"/>\r\n       <use x=\"63.623047\" xlink:href=\"#DejaVuSans-30\"/>\r\n       <use x=\"127.246094\" xlink:href=\"#DejaVuSans-30\"/>\r\n      </g>\r\n     </g>\r\n    </g>\r\n    <g id=\"text_6\">\r\n     <!-- general_points -->\r\n     <g transform=\"translate(151.754002 341.970312)scale(0.1 -0.1)\">\r\n      <defs>\r\n       <path d=\"M 2906 1791 \r\nQ 2906 2416 2648 2759 \r\nQ 2391 3103 1925 3103 \r\nQ 1463 3103 1205 2759 \r\nQ 947 2416 947 1791 \r\nQ 947 1169 1205 825 \r\nQ 1463 481 1925 481 \r\nQ 2391 481 2648 825 \r\nQ 2906 1169 2906 1791 \r\nz\r\nM 3481 434 \r\nQ 3481 -459 3084 -895 \r\nQ 2688 -1331 1869 -1331 \r\nQ 1566 -1331 1297 -1286 \r\nQ 1028 -1241 775 -1147 \r\nL 775 -588 \r\nQ 1028 -725 1275 -790 \r\nQ 1522 -856 1778 -856 \r\nQ 2344 -856 2625 -561 \r\nQ 2906 -266 2906 331 \r\nL 2906 616 \r\nQ 2728 306 2450 153 \r\nQ 2172 0 1784 0 \r\nQ 1141 0 747 490 \r\nQ 353 981 353 1791 \r\nQ 353 2603 747 3093 \r\nQ 1141 3584 1784 3584 \r\nQ 2172 3584 2450 3431 \r\nQ 2728 3278 2906 2969 \r\nL 2906 3500 \r\nL 3481 3500 \r\nL 3481 434 \r\nz\r\n\" id=\"DejaVuSans-67\" transform=\"scale(0.015625)\"/>\r\n       <path d=\"M 3597 1894 \r\nL 3597 1613 \r\nL 953 1613 \r\nQ 991 1019 1311 708 \r\nQ 1631 397 2203 397 \r\nQ 2534 397 2845 478 \r\nQ 3156 559 3463 722 \r\nL 3463 178 \r\nQ 3153 47 2828 -22 \r\nQ 2503 -91 2169 -91 \r\nQ 1331 -91 842 396 \r\nQ 353 884 353 1716 \r\nQ 353 2575 817 3079 \r\nQ 1281 3584 2069 3584 \r\nQ 2775 3584 3186 3129 \r\nQ 3597 2675 3597 1894 \r\nz\r\nM 3022 2063 \r\nQ 3016 2534 2758 2815 \r\nQ 2500 3097 2075 3097 \r\nQ 1594 3097 1305 2825 \r\nQ 1016 2553 972 2059 \r\nL 3022 2063 \r\nz\r\n\" id=\"DejaVuSans-65\" transform=\"scale(0.015625)\"/>\r\n       <path d=\"M 3513 2113 \r\nL 3513 0 \r\nL 2938 0 \r\nL 2938 2094 \r\nQ 2938 2591 2744 2837 \r\nQ 2550 3084 2163 3084 \r\nQ 1697 3084 1428 2787 \r\nQ 1159 2491 1159 1978 \r\nL 1159 0 \r\nL 581 0 \r\nL 581 3500 \r\nL 1159 3500 \r\nL 1159 2956 \r\nQ 1366 3272 1645 3428 \r\nQ 1925 3584 2291 3584 \r\nQ 2894 3584 3203 3211 \r\nQ 3513 2838 3513 2113 \r\nz\r\n\" id=\"DejaVuSans-6e\" transform=\"scale(0.015625)\"/>\r\n       <path d=\"M 2631 2963 \r\nQ 2534 3019 2420 3045 \r\nQ 2306 3072 2169 3072 \r\nQ 1681 3072 1420 2755 \r\nQ 1159 2438 1159 1844 \r\nL 1159 0 \r\nL 581 0 \r\nL 581 3500 \r\nL 1159 3500 \r\nL 1159 2956 \r\nQ 1341 3275 1631 3429 \r\nQ 1922 3584 2338 3584 \r\nQ 2397 3584 2469 3576 \r\nQ 2541 3569 2628 3553 \r\nL 2631 2963 \r\nz\r\n\" id=\"DejaVuSans-72\" transform=\"scale(0.015625)\"/>\r\n       <path d=\"M 2194 1759 \r\nQ 1497 1759 1228 1600 \r\nQ 959 1441 959 1056 \r\nQ 959 750 1161 570 \r\nQ 1363 391 1709 391 \r\nQ 2188 391 2477 730 \r\nQ 2766 1069 2766 1631 \r\nL 2766 1759 \r\nL 2194 1759 \r\nz\r\nM 3341 1997 \r\nL 3341 0 \r\nL 2766 0 \r\nL 2766 531 \r\nQ 2569 213 2275 61 \r\nQ 1981 -91 1556 -91 \r\nQ 1019 -91 701 211 \r\nQ 384 513 384 1019 \r\nQ 384 1609 779 1909 \r\nQ 1175 2209 1959 2209 \r\nL 2766 2209 \r\nL 2766 2266 \r\nQ 2766 2663 2505 2880 \r\nQ 2244 3097 1772 3097 \r\nQ 1472 3097 1187 3025 \r\nQ 903 2953 641 2809 \r\nL 641 3341 \r\nQ 956 3463 1253 3523 \r\nQ 1550 3584 1831 3584 \r\nQ 2591 3584 2966 3190 \r\nQ 3341 2797 3341 1997 \r\nz\r\n\" id=\"DejaVuSans-61\" transform=\"scale(0.015625)\"/>\r\n       <path d=\"M 603 4863 \r\nL 1178 4863 \r\nL 1178 0 \r\nL 603 0 \r\nL 603 4863 \r\nz\r\n\" id=\"DejaVuSans-6c\" transform=\"scale(0.015625)\"/>\r\n       <path d=\"M 3263 -1063 \r\nL 3263 -1509 \r\nL -63 -1509 \r\nL -63 -1063 \r\nL 3263 -1063 \r\nz\r\n\" id=\"DejaVuSans-5f\" transform=\"scale(0.015625)\"/>\r\n       <path d=\"M 1159 525 \r\nL 1159 -1331 \r\nL 581 -1331 \r\nL 581 3500 \r\nL 1159 3500 \r\nL 1159 2969 \r\nQ 1341 3281 1617 3432 \r\nQ 1894 3584 2278 3584 \r\nQ 2916 3584 3314 3078 \r\nQ 3713 2572 3713 1747 \r\nQ 3713 922 3314 415 \r\nQ 2916 -91 2278 -91 \r\nQ 1894 -91 1617 61 \r\nQ 1341 213 1159 525 \r\nz\r\nM 3116 1747 \r\nQ 3116 2381 2855 2742 \r\nQ 2594 3103 2138 3103 \r\nQ 1681 3103 1420 2742 \r\nQ 1159 2381 1159 1747 \r\nQ 1159 1113 1420 752 \r\nQ 1681 391 2138 391 \r\nQ 2594 391 2855 752 \r\nQ 3116 1113 3116 1747 \r\nz\r\n\" id=\"DejaVuSans-70\" transform=\"scale(0.015625)\"/>\r\n       <path d=\"M 1959 3097 \r\nQ 1497 3097 1228 2736 \r\nQ 959 2375 959 1747 \r\nQ 959 1119 1226 758 \r\nQ 1494 397 1959 397 \r\nQ 2419 397 2687 759 \r\nQ 2956 1122 2956 1747 \r\nQ 2956 2369 2687 2733 \r\nQ 2419 3097 1959 3097 \r\nz\r\nM 1959 3584 \r\nQ 2709 3584 3137 3096 \r\nQ 3566 2609 3566 1747 \r\nQ 3566 888 3137 398 \r\nQ 2709 -91 1959 -91 \r\nQ 1206 -91 779 398 \r\nQ 353 888 353 1747 \r\nQ 353 2609 779 3096 \r\nQ 1206 3584 1959 3584 \r\nz\r\n\" id=\"DejaVuSans-6f\" transform=\"scale(0.015625)\"/>\r\n       <path d=\"M 603 3500 \r\nL 1178 3500 \r\nL 1178 0 \r\nL 603 0 \r\nL 603 3500 \r\nz\r\nM 603 4863 \r\nL 1178 4863 \r\nL 1178 4134 \r\nL 603 4134 \r\nL 603 4863 \r\nz\r\n\" id=\"DejaVuSans-69\" transform=\"scale(0.015625)\"/>\r\n       <path d=\"M 1172 4494 \r\nL 1172 3500 \r\nL 2356 3500 \r\nL 2356 3053 \r\nL 1172 3053 \r\nL 1172 1153 \r\nQ 1172 725 1289 603 \r\nQ 1406 481 1766 481 \r\nL 2356 481 \r\nL 2356 0 \r\nL 1766 0 \r\nQ 1100 0 847 248 \r\nQ 594 497 594 1153 \r\nL 594 3053 \r\nL 172 3053 \r\nL 172 3500 \r\nL 594 3500 \r\nL 594 4494 \r\nL 1172 4494 \r\nz\r\n\" id=\"DejaVuSans-74\" transform=\"scale(0.015625)\"/>\r\n       <path d=\"M 2834 3397 \r\nL 2834 2853 \r\nQ 2591 2978 2328 3040 \r\nQ 2066 3103 1784 3103 \r\nQ 1356 3103 1142 2972 \r\nQ 928 2841 928 2578 \r\nQ 928 2378 1081 2264 \r\nQ 1234 2150 1697 2047 \r\nL 1894 2003 \r\nQ 2506 1872 2764 1633 \r\nQ 3022 1394 3022 966 \r\nQ 3022 478 2636 193 \r\nQ 2250 -91 1575 -91 \r\nQ 1294 -91 989 -36 \r\nQ 684 19 347 128 \r\nL 347 722 \r\nQ 666 556 975 473 \r\nQ 1284 391 1588 391 \r\nQ 1994 391 2212 530 \r\nQ 2431 669 2431 922 \r\nQ 2431 1156 2273 1281 \r\nQ 2116 1406 1581 1522 \r\nL 1381 1569 \r\nQ 847 1681 609 1914 \r\nQ 372 2147 372 2553 \r\nQ 372 3047 722 3315 \r\nQ 1072 3584 1716 3584 \r\nQ 2034 3584 2315 3537 \r\nQ 2597 3491 2834 3397 \r\nz\r\n\" id=\"DejaVuSans-73\" transform=\"scale(0.015625)\"/>\r\n      </defs>\r\n      <use xlink:href=\"#DejaVuSans-67\"/>\r\n      <use x=\"63.476562\" xlink:href=\"#DejaVuSans-65\"/>\r\n      <use x=\"125\" xlink:href=\"#DejaVuSans-6e\"/>\r\n      <use x=\"188.378906\" xlink:href=\"#DejaVuSans-65\"/>\r\n      <use x=\"249.902344\" xlink:href=\"#DejaVuSans-72\"/>\r\n      <use x=\"291.015625\" xlink:href=\"#DejaVuSans-61\"/>\r\n      <use x=\"352.294922\" xlink:href=\"#DejaVuSans-6c\"/>\r\n      <use x=\"380.078125\" xlink:href=\"#DejaVuSans-5f\"/>\r\n      <use x=\"430.078125\" xlink:href=\"#DejaVuSans-70\"/>\r\n      <use x=\"493.554688\" xlink:href=\"#DejaVuSans-6f\"/>\r\n      <use x=\"554.736328\" xlink:href=\"#DejaVuSans-69\"/>\r\n      <use x=\"582.519531\" xlink:href=\"#DejaVuSans-6e\"/>\r\n      <use x=\"645.898438\" xlink:href=\"#DejaVuSans-74\"/>\r\n      <use x=\"685.107422\" xlink:href=\"#DejaVuSans-73\"/>\r\n     </g>\r\n    </g>\r\n   </g>\r\n   <g id=\"matplotlib.axis_2\">\r\n    <g id=\"ytick_1\">\r\n     <g id=\"line2d_6\">\r\n      <defs>\r\n       <path d=\"M 0 0 \r\nL -3.5 0 \r\n\" id=\"mf4fa6a7181\" style=\"stroke:#000000;stroke-width:0.8;\"/>\r\n      </defs>\r\n      <g>\r\n       <use style=\"stroke:#000000;stroke-width:0.8;\" x=\"34.240625\" xlink:href=\"#mf4fa6a7181\" y=\"313.69375\"/>\r\n      </g>\r\n     </g>\r\n     <g id=\"text_7\">\r\n      <!-- 0 -->\r\n      <g transform=\"translate(20.878125 317.492969)scale(0.1 -0.1)\">\r\n       <use xlink:href=\"#DejaVuSans-30\"/>\r\n      </g>\r\n     </g>\r\n    </g>\r\n    <g id=\"ytick_2\">\r\n     <g id=\"line2d_7\">\r\n      <g>\r\n       <use style=\"stroke:#000000;stroke-width:0.8;\" x=\"34.240625\" xlink:href=\"#mf4fa6a7181\" y=\"271.99392\"/>\r\n      </g>\r\n     </g>\r\n     <g id=\"text_8\">\r\n      <!-- 1 -->\r\n      <g transform=\"translate(20.878125 275.793139)scale(0.1 -0.1)\">\r\n       <use xlink:href=\"#DejaVuSans-31\"/>\r\n      </g>\r\n     </g>\r\n    </g>\r\n    <g id=\"ytick_3\">\r\n     <g id=\"line2d_8\">\r\n      <g>\r\n       <use style=\"stroke:#000000;stroke-width:0.8;\" x=\"34.240625\" xlink:href=\"#mf4fa6a7181\" y=\"230.29409\"/>\r\n      </g>\r\n     </g>\r\n     <g id=\"text_9\">\r\n      <!-- 2 -->\r\n      <g transform=\"translate(20.878125 234.093309)scale(0.1 -0.1)\">\r\n       <use xlink:href=\"#DejaVuSans-32\"/>\r\n      </g>\r\n     </g>\r\n    </g>\r\n    <g id=\"ytick_4\">\r\n     <g id=\"line2d_9\">\r\n      <g>\r\n       <use style=\"stroke:#000000;stroke-width:0.8;\" x=\"34.240625\" xlink:href=\"#mf4fa6a7181\" y=\"188.59426\"/>\r\n      </g>\r\n     </g>\r\n     <g id=\"text_10\">\r\n      <!-- 3 -->\r\n      <g transform=\"translate(20.878125 192.393479)scale(0.1 -0.1)\">\r\n       <defs>\r\n        <path d=\"M 2597 2516 \r\nQ 3050 2419 3304 2112 \r\nQ 3559 1806 3559 1356 \r\nQ 3559 666 3084 287 \r\nQ 2609 -91 1734 -91 \r\nQ 1441 -91 1130 -33 \r\nQ 819 25 488 141 \r\nL 488 750 \r\nQ 750 597 1062 519 \r\nQ 1375 441 1716 441 \r\nQ 2309 441 2620 675 \r\nQ 2931 909 2931 1356 \r\nQ 2931 1769 2642 2001 \r\nQ 2353 2234 1838 2234 \r\nL 1294 2234 \r\nL 1294 2753 \r\nL 1863 2753 \r\nQ 2328 2753 2575 2939 \r\nQ 2822 3125 2822 3475 \r\nQ 2822 3834 2567 4026 \r\nQ 2313 4219 1838 4219 \r\nQ 1578 4219 1281 4162 \r\nQ 984 4106 628 3988 \r\nL 628 4550 \r\nQ 988 4650 1302 4700 \r\nQ 1616 4750 1894 4750 \r\nQ 2613 4750 3031 4423 \r\nQ 3450 4097 3450 3541 \r\nQ 3450 3153 3228 2886 \r\nQ 3006 2619 2597 2516 \r\nz\r\n\" id=\"DejaVuSans-33\" transform=\"scale(0.015625)\"/>\r\n       </defs>\r\n       <use xlink:href=\"#DejaVuSans-33\"/>\r\n      </g>\r\n     </g>\r\n    </g>\r\n    <g id=\"ytick_5\">\r\n     <g id=\"line2d_10\">\r\n      <g>\r\n       <use style=\"stroke:#000000;stroke-width:0.8;\" x=\"34.240625\" xlink:href=\"#mf4fa6a7181\" y=\"146.89443\"/>\r\n      </g>\r\n     </g>\r\n     <g id=\"text_11\">\r\n      <!-- 4 -->\r\n      <g transform=\"translate(20.878125 150.693649)scale(0.1 -0.1)\">\r\n       <use xlink:href=\"#DejaVuSans-34\"/>\r\n      </g>\r\n     </g>\r\n    </g>\r\n    <g id=\"ytick_6\">\r\n     <g id=\"line2d_11\">\r\n      <g>\r\n       <use style=\"stroke:#000000;stroke-width:0.8;\" x=\"34.240625\" xlink:href=\"#mf4fa6a7181\" y=\"105.1946\"/>\r\n      </g>\r\n     </g>\r\n     <g id=\"text_12\">\r\n      <!-- 5 -->\r\n      <g transform=\"translate(20.878125 108.993819)scale(0.1 -0.1)\">\r\n       <defs>\r\n        <path d=\"M 691 4666 \r\nL 3169 4666 \r\nL 3169 4134 \r\nL 1269 4134 \r\nL 1269 2991 \r\nQ 1406 3038 1543 3061 \r\nQ 1681 3084 1819 3084 \r\nQ 2600 3084 3056 2656 \r\nQ 3513 2228 3513 1497 \r\nQ 3513 744 3044 326 \r\nQ 2575 -91 1722 -91 \r\nQ 1428 -91 1123 -41 \r\nQ 819 9 494 109 \r\nL 494 744 \r\nQ 775 591 1075 516 \r\nQ 1375 441 1709 441 \r\nQ 2250 441 2565 725 \r\nQ 2881 1009 2881 1497 \r\nQ 2881 1984 2565 2268 \r\nQ 2250 2553 1709 2553 \r\nQ 1456 2553 1204 2497 \r\nQ 953 2441 691 2322 \r\nL 691 4666 \r\nz\r\n\" id=\"DejaVuSans-35\" transform=\"scale(0.015625)\"/>\r\n       </defs>\r\n       <use xlink:href=\"#DejaVuSans-35\"/>\r\n      </g>\r\n     </g>\r\n    </g>\r\n    <g id=\"ytick_7\">\r\n     <g id=\"line2d_12\">\r\n      <g>\r\n       <use style=\"stroke:#000000;stroke-width:0.8;\" x=\"34.240625\" xlink:href=\"#mf4fa6a7181\" y=\"63.49477\"/>\r\n      </g>\r\n     </g>\r\n     <g id=\"text_13\">\r\n      <!-- 6 -->\r\n      <g transform=\"translate(20.878125 67.293989)scale(0.1 -0.1)\">\r\n       <use xlink:href=\"#DejaVuSans-36\"/>\r\n      </g>\r\n     </g>\r\n    </g>\r\n    <g id=\"ytick_8\">\r\n     <g id=\"line2d_13\">\r\n      <g>\r\n       <use style=\"stroke:#000000;stroke-width:0.8;\" x=\"34.240625\" xlink:href=\"#mf4fa6a7181\" y=\"21.79494\"/>\r\n      </g>\r\n     </g>\r\n     <g id=\"text_14\">\r\n      <!-- 7 -->\r\n      <g transform=\"translate(20.878125 25.594159)scale(0.1 -0.1)\">\r\n       <defs>\r\n        <path d=\"M 525 4666 \r\nL 3525 4666 \r\nL 3525 4397 \r\nL 1831 0 \r\nL 1172 0 \r\nL 2766 4134 \r\nL 525 4134 \r\nL 525 4666 \r\nz\r\n\" id=\"DejaVuSans-37\" transform=\"scale(0.015625)\"/>\r\n       </defs>\r\n       <use xlink:href=\"#DejaVuSans-37\"/>\r\n      </g>\r\n     </g>\r\n    </g>\r\n    <g id=\"text_15\">\r\n     <!-- Count -->\r\n     <g transform=\"translate(14.798438 175.295312)rotate(-90)scale(0.1 -0.1)\">\r\n      <defs>\r\n       <path d=\"M 4122 4306 \r\nL 4122 3641 \r\nQ 3803 3938 3442 4084 \r\nQ 3081 4231 2675 4231 \r\nQ 1875 4231 1450 3742 \r\nQ 1025 3253 1025 2328 \r\nQ 1025 1406 1450 917 \r\nQ 1875 428 2675 428 \r\nQ 3081 428 3442 575 \r\nQ 3803 722 4122 1019 \r\nL 4122 359 \r\nQ 3791 134 3420 21 \r\nQ 3050 -91 2638 -91 \r\nQ 1578 -91 968 557 \r\nQ 359 1206 359 2328 \r\nQ 359 3453 968 4101 \r\nQ 1578 4750 2638 4750 \r\nQ 3056 4750 3426 4639 \r\nQ 3797 4528 4122 4306 \r\nz\r\n\" id=\"DejaVuSans-43\" transform=\"scale(0.015625)\"/>\r\n       <path d=\"M 544 1381 \r\nL 544 3500 \r\nL 1119 3500 \r\nL 1119 1403 \r\nQ 1119 906 1312 657 \r\nQ 1506 409 1894 409 \r\nQ 2359 409 2629 706 \r\nQ 2900 1003 2900 1516 \r\nL 2900 3500 \r\nL 3475 3500 \r\nL 3475 0 \r\nL 2900 0 \r\nL 2900 538 \r\nQ 2691 219 2414 64 \r\nQ 2138 -91 1772 -91 \r\nQ 1169 -91 856 284 \r\nQ 544 659 544 1381 \r\nz\r\nM 1991 3584 \r\nL 1991 3584 \r\nz\r\n\" id=\"DejaVuSans-75\" transform=\"scale(0.015625)\"/>\r\n      </defs>\r\n      <use xlink:href=\"#DejaVuSans-43\"/>\r\n      <use x=\"69.824219\" xlink:href=\"#DejaVuSans-6f\"/>\r\n      <use x=\"131.005859\" xlink:href=\"#DejaVuSans-75\"/>\r\n      <use x=\"194.384766\" xlink:href=\"#DejaVuSans-6e\"/>\r\n      <use x=\"257.763672\" xlink:href=\"#DejaVuSans-74\"/>\r\n     </g>\r\n    </g>\r\n   </g>\r\n   <g id=\"patch_9\">\r\n    <path d=\"M 34.240625 313.69375 \r\nL 34.240625 7.2 \r\n\" style=\"fill:none;stroke:#000000;stroke-linecap:square;stroke-linejoin:miter;stroke-width:0.8;\"/>\r\n   </g>\r\n   <g id=\"patch_10\">\r\n    <path d=\"M 34.240625 313.69375 \r\nL 342.989253 313.69375 \r\n\" style=\"fill:none;stroke:#000000;stroke-linecap:square;stroke-linejoin:miter;stroke-width:0.8;\"/>\r\n   </g>\r\n  </g>\r\n </g>\r\n <defs>\r\n  <clipPath id=\"p422d14d174\">\r\n   <rect height=\"306.49375\" width=\"308.748628\" x=\"34.240625\" y=\"7.2\"/>\r\n  </clipPath>\r\n </defs>\r\n</svg>\r\n",
      "image/png": "[encoded data removed]"
     },
     "metadata": {
      "needs_background": "light"
     }
    }
   ],
   "source": [
    "sns.displot(df['general_points'])"
   ]
  },
  {
   "cell_type": "code",
   "execution_count": 15,
   "metadata": {},
   "outputs": [
    {
     "output_type": "execute_result",
     "data": {
      "text/plain": [
       "count    20.000000\n",
       "mean     53.450000\n",
       "std      21.007455\n",
       "min      16.000000\n",
       "25%      39.750000\n",
       "50%      51.000000\n",
       "75%      67.000000\n",
       "max      98.000000\n",
       "Name: general_points, dtype: float64"
      ]
     },
     "metadata": {},
     "execution_count": 15
    }
   ],
   "source": [
    "df['general_points'].describe()"
   ]
  },
  {
   "source": [
    "from the `dist plot` and after seeing the `mean` and `median` there is some indicates that the data is skew to the right"
   ],
   "cell_type": "markdown",
   "metadata": {}
  },
  {
   "cell_type": "code",
   "execution_count": 16,
   "metadata": {},
   "outputs": [
    {
     "output_type": "stream",
     "name": "stderr",
     "text": [
      "C:\\Users\\Arnfl\\AppData\\Local\\Programs\\Python\\Python39\\lib\\site-packages\\seaborn\\_decorators.py:36: FutureWarning: Pass the following variable as a keyword arg: x. From version 0.12, the only valid positional argument will be `data`, and passing other arguments without an explicit keyword will result in an error or misinterpretation.\n  warnings.warn(\n"
     ]
    },
    {
     "output_type": "execute_result",
     "data": {
      "text/plain": [
       "<AxesSubplot:xlabel='general_points'>"
      ]
     },
     "metadata": {},
     "execution_count": 16
    },
    {
     "output_type": "display_data",
     "data": {
      "text/plain": "<Figure size 432x288 with 1 Axes>",
      "image/svg+xml": "<?xml version=\"1.0\" encoding=\"utf-8\" standalone=\"no\"?>\r\n<!DOCTYPE svg PUBLIC \"-//W3C//DTD SVG 1.1//EN\"\r\n  \"http://www.w3.org/Graphics/SVG/1.1/DTD/svg11.dtd\">\r\n<svg height=\"262.474375pt\" version=\"1.1\" viewBox=\"0 0 354.449072 262.474375\" width=\"354.449072pt\" xmlns=\"http://www.w3.org/2000/svg\" xmlns:xlink=\"http://www.w3.org/1999/xlink\">\r\n <metadata>\r\n  <rdf:RDF xmlns:cc=\"http://creativecommons.org/ns#\" xmlns:dc=\"http://purl.org/dc/elements/1.1/\" xmlns:rdf=\"http://www.w3.org/1999/02/22-rdf-syntax-ns#\">\r\n   <cc:Work>\r\n    <dc:type rdf:resource=\"http://purl.org/dc/dcmitype/StillImage\"/>\r\n    <dc:date>2021-06-30T02:26:58.921081</dc:date>\r\n    <dc:format>image/svg+xml</dc:format>\r\n    <dc:creator>\r\n     <cc:Agent>\r\n      <dc:title>Matplotlib v3.4.2, https://matplotlib.org/</dc:title>\r\n     </cc:Agent>\r\n    </dc:creator>\r\n   </cc:Work>\r\n  </rdf:RDF>\r\n </metadata>\r\n <defs>\r\n  <style type=\"text/css\">*{stroke-linecap:butt;stroke-linejoin:round;}</style>\r\n </defs>\r\n <g id=\"figure_1\">\r\n  <g id=\"patch_1\">\r\n   <path d=\"M 0 262.474375 \r\nL 354.449072 262.474375 \r\nL 354.449072 0 \r\nL 0 0 \r\nz\r\n\" style=\"fill:none;\"/>\r\n  </g>\r\n  <g id=\"axes_1\">\r\n   <g id=\"patch_2\">\r\n    <path d=\"M 10.7 224.64 \r\nL 345.5 224.64 \r\nL 345.5 7.2 \r\nL 10.7 7.2 \r\nz\r\n\" style=\"fill:#ffffff;\"/>\r\n   </g>\r\n   <g id=\"patch_3\">\r\n    <path clip-path=\"url(#peabf69d78f)\" d=\"M 114.072284 28.944 \r\nL 114.072284 202.896 \r\nL 215.217517 202.896 \r\nL 215.217517 28.944 \r\nL 114.072284 28.944 \r\nz\r\n\" style=\"fill:#3274a1;stroke:#3f3f3f;stroke-linejoin:miter;stroke-width:1.5;\"/>\r\n   </g>\r\n   <g id=\"matplotlib.axis_1\">\r\n    <g id=\"xtick_1\">\r\n     <g id=\"line2d_1\">\r\n      <defs>\r\n       <path d=\"M 0 0 \r\nL 0 3.5 \r\n\" id=\"ma5ad1184a4\" style=\"stroke:#000000;stroke-width:0.8;\"/>\r\n      </defs>\r\n      <g>\r\n       <use style=\"stroke:#000000;stroke-width:0.8;\" x=\"40.765188\" xlink:href=\"#ma5ad1184a4\" y=\"224.64\"/>\r\n      </g>\r\n     </g>\r\n     <g id=\"text_1\">\r\n      <!-- 20 -->\r\n      <g transform=\"translate(34.402688 239.238438)scale(0.1 -0.1)\">\r\n       <defs>\r\n        <path d=\"M 1228 531 \r\nL 3431 531 \r\nL 3431 0 \r\nL 469 0 \r\nL 469 531 \r\nQ 828 903 1448 1529 \r\nQ 2069 2156 2228 2338 \r\nQ 2531 2678 2651 2914 \r\nQ 2772 3150 2772 3378 \r\nQ 2772 3750 2511 3984 \r\nQ 2250 4219 1831 4219 \r\nQ 1534 4219 1204 4116 \r\nQ 875 4013 500 3803 \r\nL 500 4441 \r\nQ 881 4594 1212 4672 \r\nQ 1544 4750 1819 4750 \r\nQ 2544 4750 2975 4387 \r\nQ 3406 4025 3406 3419 \r\nQ 3406 3131 3298 2873 \r\nQ 3191 2616 2906 2266 \r\nQ 2828 2175 2409 1742 \r\nQ 1991 1309 1228 531 \r\nz\r\n\" id=\"DejaVuSans-32\" transform=\"scale(0.015625)\"/>\r\n        <path d=\"M 2034 4250 \r\nQ 1547 4250 1301 3770 \r\nQ 1056 3291 1056 2328 \r\nQ 1056 1369 1301 889 \r\nQ 1547 409 2034 409 \r\nQ 2525 409 2770 889 \r\nQ 3016 1369 3016 2328 \r\nQ 3016 3291 2770 3770 \r\nQ 2525 4250 2034 4250 \r\nz\r\nM 2034 4750 \r\nQ 2819 4750 3233 4129 \r\nQ 3647 3509 3647 2328 \r\nQ 3647 1150 3233 529 \r\nQ 2819 -91 2034 -91 \r\nQ 1250 -91 836 529 \r\nQ 422 1150 422 2328 \r\nQ 422 3509 836 4129 \r\nQ 1250 4750 2034 4750 \r\nz\r\n\" id=\"DejaVuSans-30\" transform=\"scale(0.015625)\"/>\r\n       </defs>\r\n       <use xlink:href=\"#DejaVuSans-32\"/>\r\n       <use x=\"63.623047\" xlink:href=\"#DejaVuSans-30\"/>\r\n      </g>\r\n     </g>\r\n    </g>\r\n    <g id=\"xtick_2\">\r\n     <g id=\"line2d_2\">\r\n      <g>\r\n       <use style=\"stroke:#000000;stroke-width:0.8;\" x=\"115.000222\" xlink:href=\"#ma5ad1184a4\" y=\"224.64\"/>\r\n      </g>\r\n     </g>\r\n     <g id=\"text_2\">\r\n      <!-- 40 -->\r\n      <g transform=\"translate(108.637722 239.238438)scale(0.1 -0.1)\">\r\n       <defs>\r\n        <path d=\"M 2419 4116 \r\nL 825 1625 \r\nL 2419 1625 \r\nL 2419 4116 \r\nz\r\nM 2253 4666 \r\nL 3047 4666 \r\nL 3047 1625 \r\nL 3713 1625 \r\nL 3713 1100 \r\nL 3047 1100 \r\nL 3047 0 \r\nL 2419 0 \r\nL 2419 1100 \r\nL 313 1100 \r\nL 313 1709 \r\nL 2253 4666 \r\nz\r\n\" id=\"DejaVuSans-34\" transform=\"scale(0.015625)\"/>\r\n       </defs>\r\n       <use xlink:href=\"#DejaVuSans-34\"/>\r\n       <use x=\"63.623047\" xlink:href=\"#DejaVuSans-30\"/>\r\n      </g>\r\n     </g>\r\n    </g>\r\n    <g id=\"xtick_3\">\r\n     <g id=\"line2d_3\">\r\n      <g>\r\n       <use style=\"stroke:#000000;stroke-width:0.8;\" x=\"189.235255\" xlink:href=\"#ma5ad1184a4\" y=\"224.64\"/>\r\n      </g>\r\n     </g>\r\n     <g id=\"text_3\">\r\n      <!-- 60 -->\r\n      <g transform=\"translate(182.872755 239.238438)scale(0.1 -0.1)\">\r\n       <defs>\r\n        <path d=\"M 2113 2584 \r\nQ 1688 2584 1439 2293 \r\nQ 1191 2003 1191 1497 \r\nQ 1191 994 1439 701 \r\nQ 1688 409 2113 409 \r\nQ 2538 409 2786 701 \r\nQ 3034 994 3034 1497 \r\nQ 3034 2003 2786 2293 \r\nQ 2538 2584 2113 2584 \r\nz\r\nM 3366 4563 \r\nL 3366 3988 \r\nQ 3128 4100 2886 4159 \r\nQ 2644 4219 2406 4219 \r\nQ 1781 4219 1451 3797 \r\nQ 1122 3375 1075 2522 \r\nQ 1259 2794 1537 2939 \r\nQ 1816 3084 2150 3084 \r\nQ 2853 3084 3261 2657 \r\nQ 3669 2231 3669 1497 \r\nQ 3669 778 3244 343 \r\nQ 2819 -91 2113 -91 \r\nQ 1303 -91 875 529 \r\nQ 447 1150 447 2328 \r\nQ 447 3434 972 4092 \r\nQ 1497 4750 2381 4750 \r\nQ 2619 4750 2861 4703 \r\nQ 3103 4656 3366 4563 \r\nz\r\n\" id=\"DejaVuSans-36\" transform=\"scale(0.015625)\"/>\r\n       </defs>\r\n       <use xlink:href=\"#DejaVuSans-36\"/>\r\n       <use x=\"63.623047\" xlink:href=\"#DejaVuSans-30\"/>\r\n      </g>\r\n     </g>\r\n    </g>\r\n    <g id=\"xtick_4\">\r\n     <g id=\"line2d_4\">\r\n      <g>\r\n       <use style=\"stroke:#000000;stroke-width:0.8;\" x=\"263.470288\" xlink:href=\"#ma5ad1184a4\" y=\"224.64\"/>\r\n      </g>\r\n     </g>\r\n     <g id=\"text_4\">\r\n      <!-- 80 -->\r\n      <g transform=\"translate(257.107788 239.238438)scale(0.1 -0.1)\">\r\n       <defs>\r\n        <path d=\"M 2034 2216 \r\nQ 1584 2216 1326 1975 \r\nQ 1069 1734 1069 1313 \r\nQ 1069 891 1326 650 \r\nQ 1584 409 2034 409 \r\nQ 2484 409 2743 651 \r\nQ 3003 894 3003 1313 \r\nQ 3003 1734 2745 1975 \r\nQ 2488 2216 2034 2216 \r\nz\r\nM 1403 2484 \r\nQ 997 2584 770 2862 \r\nQ 544 3141 544 3541 \r\nQ 544 4100 942 4425 \r\nQ 1341 4750 2034 4750 \r\nQ 2731 4750 3128 4425 \r\nQ 3525 4100 3525 3541 \r\nQ 3525 3141 3298 2862 \r\nQ 3072 2584 2669 2484 \r\nQ 3125 2378 3379 2068 \r\nQ 3634 1759 3634 1313 \r\nQ 3634 634 3220 271 \r\nQ 2806 -91 2034 -91 \r\nQ 1263 -91 848 271 \r\nQ 434 634 434 1313 \r\nQ 434 1759 690 2068 \r\nQ 947 2378 1403 2484 \r\nz\r\nM 1172 3481 \r\nQ 1172 3119 1398 2916 \r\nQ 1625 2713 2034 2713 \r\nQ 2441 2713 2670 2916 \r\nQ 2900 3119 2900 3481 \r\nQ 2900 3844 2670 4047 \r\nQ 2441 4250 2034 4250 \r\nQ 1625 4250 1398 4047 \r\nQ 1172 3844 1172 3481 \r\nz\r\n\" id=\"DejaVuSans-38\" transform=\"scale(0.015625)\"/>\r\n       </defs>\r\n       <use xlink:href=\"#DejaVuSans-38\"/>\r\n       <use x=\"63.623047\" xlink:href=\"#DejaVuSans-30\"/>\r\n      </g>\r\n     </g>\r\n    </g>\r\n    <g id=\"xtick_5\">\r\n     <g id=\"line2d_5\">\r\n      <g>\r\n       <use style=\"stroke:#000000;stroke-width:0.8;\" x=\"337.705322\" xlink:href=\"#ma5ad1184a4\" y=\"224.64\"/>\r\n      </g>\r\n     </g>\r\n     <g id=\"text_5\">\r\n      <!-- 100 -->\r\n      <g transform=\"translate(328.161572 239.238438)scale(0.1 -0.1)\">\r\n       <defs>\r\n        <path d=\"M 794 531 \r\nL 1825 531 \r\nL 1825 4091 \r\nL 703 3866 \r\nL 703 4441 \r\nL 1819 4666 \r\nL 2450 4666 \r\nL 2450 531 \r\nL 3481 531 \r\nL 3481 0 \r\nL 794 0 \r\nL 794 531 \r\nz\r\n\" id=\"DejaVuSans-31\" transform=\"scale(0.015625)\"/>\r\n       </defs>\r\n       <use xlink:href=\"#DejaVuSans-31\"/>\r\n       <use x=\"63.623047\" xlink:href=\"#DejaVuSans-30\"/>\r\n       <use x=\"127.246094\" xlink:href=\"#DejaVuSans-30\"/>\r\n      </g>\r\n     </g>\r\n    </g>\r\n    <g id=\"text_6\">\r\n     <!-- general_points -->\r\n     <g transform=\"translate(141.239063 252.916562)scale(0.1 -0.1)\">\r\n      <defs>\r\n       <path d=\"M 2906 1791 \r\nQ 2906 2416 2648 2759 \r\nQ 2391 3103 1925 3103 \r\nQ 1463 3103 1205 2759 \r\nQ 947 2416 947 1791 \r\nQ 947 1169 1205 825 \r\nQ 1463 481 1925 481 \r\nQ 2391 481 2648 825 \r\nQ 2906 1169 2906 1791 \r\nz\r\nM 3481 434 \r\nQ 3481 -459 3084 -895 \r\nQ 2688 -1331 1869 -1331 \r\nQ 1566 -1331 1297 -1286 \r\nQ 1028 -1241 775 -1147 \r\nL 775 -588 \r\nQ 1028 -725 1275 -790 \r\nQ 1522 -856 1778 -856 \r\nQ 2344 -856 2625 -561 \r\nQ 2906 -266 2906 331 \r\nL 2906 616 \r\nQ 2728 306 2450 153 \r\nQ 2172 0 1784 0 \r\nQ 1141 0 747 490 \r\nQ 353 981 353 1791 \r\nQ 353 2603 747 3093 \r\nQ 1141 3584 1784 3584 \r\nQ 2172 3584 2450 3431 \r\nQ 2728 3278 2906 2969 \r\nL 2906 3500 \r\nL 3481 3500 \r\nL 3481 434 \r\nz\r\n\" id=\"DejaVuSans-67\" transform=\"scale(0.015625)\"/>\r\n       <path d=\"M 3597 1894 \r\nL 3597 1613 \r\nL 953 1613 \r\nQ 991 1019 1311 708 \r\nQ 1631 397 2203 397 \r\nQ 2534 397 2845 478 \r\nQ 3156 559 3463 722 \r\nL 3463 178 \r\nQ 3153 47 2828 -22 \r\nQ 2503 -91 2169 -91 \r\nQ 1331 -91 842 396 \r\nQ 353 884 353 1716 \r\nQ 353 2575 817 3079 \r\nQ 1281 3584 2069 3584 \r\nQ 2775 3584 3186 3129 \r\nQ 3597 2675 3597 1894 \r\nz\r\nM 3022 2063 \r\nQ 3016 2534 2758 2815 \r\nQ 2500 3097 2075 3097 \r\nQ 1594 3097 1305 2825 \r\nQ 1016 2553 972 2059 \r\nL 3022 2063 \r\nz\r\n\" id=\"DejaVuSans-65\" transform=\"scale(0.015625)\"/>\r\n       <path d=\"M 3513 2113 \r\nL 3513 0 \r\nL 2938 0 \r\nL 2938 2094 \r\nQ 2938 2591 2744 2837 \r\nQ 2550 3084 2163 3084 \r\nQ 1697 3084 1428 2787 \r\nQ 1159 2491 1159 1978 \r\nL 1159 0 \r\nL 581 0 \r\nL 581 3500 \r\nL 1159 3500 \r\nL 1159 2956 \r\nQ 1366 3272 1645 3428 \r\nQ 1925 3584 2291 3584 \r\nQ 2894 3584 3203 3211 \r\nQ 3513 2838 3513 2113 \r\nz\r\n\" id=\"DejaVuSans-6e\" transform=\"scale(0.015625)\"/>\r\n       <path d=\"M 2631 2963 \r\nQ 2534 3019 2420 3045 \r\nQ 2306 3072 2169 3072 \r\nQ 1681 3072 1420 2755 \r\nQ 1159 2438 1159 1844 \r\nL 1159 0 \r\nL 581 0 \r\nL 581 3500 \r\nL 1159 3500 \r\nL 1159 2956 \r\nQ 1341 3275 1631 3429 \r\nQ 1922 3584 2338 3584 \r\nQ 2397 3584 2469 3576 \r\nQ 2541 3569 2628 3553 \r\nL 2631 2963 \r\nz\r\n\" id=\"DejaVuSans-72\" transform=\"scale(0.015625)\"/>\r\n       <path d=\"M 2194 1759 \r\nQ 1497 1759 1228 1600 \r\nQ 959 1441 959 1056 \r\nQ 959 750 1161 570 \r\nQ 1363 391 1709 391 \r\nQ 2188 391 2477 730 \r\nQ 2766 1069 2766 1631 \r\nL 2766 1759 \r\nL 2194 1759 \r\nz\r\nM 3341 1997 \r\nL 3341 0 \r\nL 2766 0 \r\nL 2766 531 \r\nQ 2569 213 2275 61 \r\nQ 1981 -91 1556 -91 \r\nQ 1019 -91 701 211 \r\nQ 384 513 384 1019 \r\nQ 384 1609 779 1909 \r\nQ 1175 2209 1959 2209 \r\nL 2766 2209 \r\nL 2766 2266 \r\nQ 2766 2663 2505 2880 \r\nQ 2244 3097 1772 3097 \r\nQ 1472 3097 1187 3025 \r\nQ 903 2953 641 2809 \r\nL 641 3341 \r\nQ 956 3463 1253 3523 \r\nQ 1550 3584 1831 3584 \r\nQ 2591 3584 2966 3190 \r\nQ 3341 2797 3341 1997 \r\nz\r\n\" id=\"DejaVuSans-61\" transform=\"scale(0.015625)\"/>\r\n       <path d=\"M 603 4863 \r\nL 1178 4863 \r\nL 1178 0 \r\nL 603 0 \r\nL 603 4863 \r\nz\r\n\" id=\"DejaVuSans-6c\" transform=\"scale(0.015625)\"/>\r\n       <path d=\"M 3263 -1063 \r\nL 3263 -1509 \r\nL -63 -1509 \r\nL -63 -1063 \r\nL 3263 -1063 \r\nz\r\n\" id=\"DejaVuSans-5f\" transform=\"scale(0.015625)\"/>\r\n       <path d=\"M 1159 525 \r\nL 1159 -1331 \r\nL 581 -1331 \r\nL 581 3500 \r\nL 1159 3500 \r\nL 1159 2969 \r\nQ 1341 3281 1617 3432 \r\nQ 1894 3584 2278 3584 \r\nQ 2916 3584 3314 3078 \r\nQ 3713 2572 3713 1747 \r\nQ 3713 922 3314 415 \r\nQ 2916 -91 2278 -91 \r\nQ 1894 -91 1617 61 \r\nQ 1341 213 1159 525 \r\nz\r\nM 3116 1747 \r\nQ 3116 2381 2855 2742 \r\nQ 2594 3103 2138 3103 \r\nQ 1681 3103 1420 2742 \r\nQ 1159 2381 1159 1747 \r\nQ 1159 1113 1420 752 \r\nQ 1681 391 2138 391 \r\nQ 2594 391 2855 752 \r\nQ 3116 1113 3116 1747 \r\nz\r\n\" id=\"DejaVuSans-70\" transform=\"scale(0.015625)\"/>\r\n       <path d=\"M 1959 3097 \r\nQ 1497 3097 1228 2736 \r\nQ 959 2375 959 1747 \r\nQ 959 1119 1226 758 \r\nQ 1494 397 1959 397 \r\nQ 2419 397 2687 759 \r\nQ 2956 1122 2956 1747 \r\nQ 2956 2369 2687 2733 \r\nQ 2419 3097 1959 3097 \r\nz\r\nM 1959 3584 \r\nQ 2709 3584 3137 3096 \r\nQ 3566 2609 3566 1747 \r\nQ 3566 888 3137 398 \r\nQ 2709 -91 1959 -91 \r\nQ 1206 -91 779 398 \r\nQ 353 888 353 1747 \r\nQ 353 2609 779 3096 \r\nQ 1206 3584 1959 3584 \r\nz\r\n\" id=\"DejaVuSans-6f\" transform=\"scale(0.015625)\"/>\r\n       <path d=\"M 603 3500 \r\nL 1178 3500 \r\nL 1178 0 \r\nL 603 0 \r\nL 603 3500 \r\nz\r\nM 603 4863 \r\nL 1178 4863 \r\nL 1178 4134 \r\nL 603 4134 \r\nL 603 4863 \r\nz\r\n\" id=\"DejaVuSans-69\" transform=\"scale(0.015625)\"/>\r\n       <path d=\"M 1172 4494 \r\nL 1172 3500 \r\nL 2356 3500 \r\nL 2356 3053 \r\nL 1172 3053 \r\nL 1172 1153 \r\nQ 1172 725 1289 603 \r\nQ 1406 481 1766 481 \r\nL 2356 481 \r\nL 2356 0 \r\nL 1766 0 \r\nQ 1100 0 847 248 \r\nQ 594 497 594 1153 \r\nL 594 3053 \r\nL 172 3053 \r\nL 172 3500 \r\nL 594 3500 \r\nL 594 4494 \r\nL 1172 4494 \r\nz\r\n\" id=\"DejaVuSans-74\" transform=\"scale(0.015625)\"/>\r\n       <path d=\"M 2834 3397 \r\nL 2834 2853 \r\nQ 2591 2978 2328 3040 \r\nQ 2066 3103 1784 3103 \r\nQ 1356 3103 1142 2972 \r\nQ 928 2841 928 2578 \r\nQ 928 2378 1081 2264 \r\nQ 1234 2150 1697 2047 \r\nL 1894 2003 \r\nQ 2506 1872 2764 1633 \r\nQ 3022 1394 3022 966 \r\nQ 3022 478 2636 193 \r\nQ 2250 -91 1575 -91 \r\nQ 1294 -91 989 -36 \r\nQ 684 19 347 128 \r\nL 347 722 \r\nQ 666 556 975 473 \r\nQ 1284 391 1588 391 \r\nQ 1994 391 2212 530 \r\nQ 2431 669 2431 922 \r\nQ 2431 1156 2273 1281 \r\nQ 2116 1406 1581 1522 \r\nL 1381 1569 \r\nQ 847 1681 609 1914 \r\nQ 372 2147 372 2553 \r\nQ 372 3047 722 3315 \r\nQ 1072 3584 1716 3584 \r\nQ 2034 3584 2315 3537 \r\nQ 2597 3491 2834 3397 \r\nz\r\n\" id=\"DejaVuSans-73\" transform=\"scale(0.015625)\"/>\r\n      </defs>\r\n      <use xlink:href=\"#DejaVuSans-67\"/>\r\n      <use x=\"63.476562\" xlink:href=\"#DejaVuSans-65\"/>\r\n      <use x=\"125\" xlink:href=\"#DejaVuSans-6e\"/>\r\n      <use x=\"188.378906\" xlink:href=\"#DejaVuSans-65\"/>\r\n      <use x=\"249.902344\" xlink:href=\"#DejaVuSans-72\"/>\r\n      <use x=\"291.015625\" xlink:href=\"#DejaVuSans-61\"/>\r\n      <use x=\"352.294922\" xlink:href=\"#DejaVuSans-6c\"/>\r\n      <use x=\"380.078125\" xlink:href=\"#DejaVuSans-5f\"/>\r\n      <use x=\"430.078125\" xlink:href=\"#DejaVuSans-70\"/>\r\n      <use x=\"493.554688\" xlink:href=\"#DejaVuSans-6f\"/>\r\n      <use x=\"554.736328\" xlink:href=\"#DejaVuSans-69\"/>\r\n      <use x=\"582.519531\" xlink:href=\"#DejaVuSans-6e\"/>\r\n      <use x=\"645.898438\" xlink:href=\"#DejaVuSans-74\"/>\r\n      <use x=\"685.107422\" xlink:href=\"#DejaVuSans-73\"/>\r\n     </g>\r\n    </g>\r\n   </g>\r\n   <g id=\"matplotlib.axis_2\">\r\n    <g id=\"ytick_1\">\r\n     <g id=\"line2d_6\">\r\n      <defs>\r\n       <path d=\"M 0 0 \r\nL -3.5 0 \r\n\" id=\"me2bbf6a275\" style=\"stroke:#000000;stroke-width:0.8;\"/>\r\n      </defs>\r\n      <g>\r\n       <use style=\"stroke:#000000;stroke-width:0.8;\" x=\"10.7\" xlink:href=\"#me2bbf6a275\" y=\"115.92\"/>\r\n      </g>\r\n     </g>\r\n    </g>\r\n   </g>\r\n   <g id=\"line2d_7\">\r\n    <path clip-path=\"url(#peabf69d78f)\" d=\"M 114.072284 115.92 \r\nL 25.918182 115.92 \r\n\" style=\"fill:none;stroke:#3f3f3f;stroke-linecap:square;stroke-width:1.5;\"/>\r\n   </g>\r\n   <g id=\"line2d_8\">\r\n    <path clip-path=\"url(#peabf69d78f)\" d=\"M 215.217517 115.92 \r\nL 330.281818 115.92 \r\n\" style=\"fill:none;stroke:#3f3f3f;stroke-linecap:square;stroke-width:1.5;\"/>\r\n   </g>\r\n   <g id=\"line2d_9\">\r\n    <path clip-path=\"url(#peabf69d78f)\" d=\"M 25.918182 72.432 \r\nL 25.918182 159.408 \r\n\" style=\"fill:none;stroke:#3f3f3f;stroke-linecap:square;stroke-width:1.5;\"/>\r\n   </g>\r\n   <g id=\"line2d_10\">\r\n    <path clip-path=\"url(#peabf69d78f)\" d=\"M 330.281818 72.432 \r\nL 330.281818 159.408 \r\n\" style=\"fill:none;stroke:#3f3f3f;stroke-linecap:square;stroke-width:1.5;\"/>\r\n   </g>\r\n   <g id=\"line2d_11\"/>\r\n   <g id=\"line2d_12\">\r\n    <path clip-path=\"url(#peabf69d78f)\" d=\"M 155.82949 28.944 \r\nL 155.82949 202.896 \r\n\" style=\"fill:none;stroke:#3f3f3f;stroke-linecap:square;stroke-width:1.5;\"/>\r\n   </g>\r\n   <g id=\"patch_4\">\r\n    <path d=\"M 10.7 224.64 \r\nL 10.7 7.2 \r\n\" style=\"fill:none;stroke:#000000;stroke-linecap:square;stroke-linejoin:miter;stroke-width:0.8;\"/>\r\n   </g>\r\n   <g id=\"patch_5\">\r\n    <path d=\"M 345.5 224.64 \r\nL 345.5 7.2 \r\n\" style=\"fill:none;stroke:#000000;stroke-linecap:square;stroke-linejoin:miter;stroke-width:0.8;\"/>\r\n   </g>\r\n   <g id=\"patch_6\">\r\n    <path d=\"M 10.7 224.64 \r\nL 345.5 224.64 \r\n\" style=\"fill:none;stroke:#000000;stroke-linecap:square;stroke-linejoin:miter;stroke-width:0.8;\"/>\r\n   </g>\r\n   <g id=\"patch_7\">\r\n    <path d=\"M 10.7 7.2 \r\nL 345.5 7.2 \r\n\" style=\"fill:none;stroke:#000000;stroke-linecap:square;stroke-linejoin:miter;stroke-width:0.8;\"/>\r\n   </g>\r\n  </g>\r\n </g>\r\n <defs>\r\n  <clipPath id=\"peabf69d78f\">\r\n   <rect height=\"217.44\" width=\"334.8\" x=\"10.7\" y=\"7.2\"/>\r\n  </clipPath>\r\n </defs>\r\n</svg>\r\n",
      "image/png": "[encoded data removed]"
     },
     "metadata": {
      "needs_background": "light"
     }
    }
   ],
   "source": [
    "# create boxplot\n",
    "sns.boxplot(df['general_points'])"
   ]
  },
  {
   "source": [
    "after seeing `box plot` there are no anomaly in general points"
   ],
   "cell_type": "markdown",
   "metadata": {}
  },
  {
   "source": [
    "# Which team has the best attack?"
   ],
   "cell_type": "markdown",
   "metadata": {}
  },
  {
   "source": [
    "attack have many columns like passing, goals, crossing, penalty etc.\n",
    "so we need scaler to normalize the data, so im using StandardScaler()"
   ],
   "cell_type": "markdown",
   "metadata": {}
  },
  {
   "cell_type": "code",
   "execution_count": 30,
   "metadata": {},
   "outputs": [],
   "source": [
    "from sklearn.preprocessing import StandardScaler\n"
   ]
  },
  {
   "cell_type": "code",
   "execution_count": 36,
   "metadata": {},
   "outputs": [],
   "source": [
    "scaled_features = df.copy()\n"
   ]
  },
  {
   "cell_type": "code",
   "execution_count": 37,
   "metadata": {},
   "outputs": [],
   "source": [
    "att_data = ['attack_scored','attack_passes','attack_passes_through','attack_passes_long','attack_passes_back','attack_crosses','attack_corners_taken','attack_shots','attack_shots_on_target','attack_goals_headed','attack_goals_penalty','attack_goals_box','attack_goals_outsidebox','attack_goals_counter','attack_goals_freekick','attack_posession','attack_pass_accuracy']\n",
    "features = scaled_features[att_data]\n",
    "scaler = StandardScaler().fit(features.values)\n",
    "features = scaler.transform(features.values)"
   ]
  },
  {
   "cell_type": "code",
   "execution_count": 41,
   "metadata": {},
   "outputs": [
    {
     "output_type": "execute_result",
     "data": {
      "text/plain": [
       "              Team                        category  general_league_position  \\\n",
       "0  Manchester City                Champions League                        1   \n",
       "1        Liverpool                Champions League                        2   \n",
       "2          Chelsea  Champions League Qualification                        3   \n",
       "3        Tottenham  Champions League Qualification                        4   \n",
       "4          Arsenal                   Europa League                        5   \n",
       "\n",
       "   finance _live_games_televised  finance _tv_revenue  general_matches_played  \\\n",
       "0                             26            150986355                      38   \n",
       "1                             29            152425146                      38   \n",
       "2                             25            146030216                      38   \n",
       "3                             26            145230801                      38   \n",
       "4                             25            142193180                      38   \n",
       "\n",
       "   general_won  general_draw  general_lost  attack_scored  ...  \\\n",
       "0           32             2             4       2.350452  ...   \n",
       "1           30             7             1       2.009807  ...   \n",
       "2           21             9             8       0.533678  ...   \n",
       "3           23             2            13       0.760774  ...   \n",
       "4           21             7            10       1.101420  ...   \n",
       "\n",
       "   defence_blocks  defence_interceptions  defence_tackles  \\\n",
       "0              63                    362              518   \n",
       "1              78                    314              610   \n",
       "2              73                    351              618   \n",
       "3             112                    326              626   \n",
       "4             118                    412              609   \n",
       "\n",
       "   defence_tackles_last_man  defence_clearances  defence_clearances_headed  \\\n",
       "0                         0                 543                        295   \n",
       "1                         2                 639                        317   \n",
       "2                         2                 593                        330   \n",
       "3                         3                 770                        411   \n",
       "4                         2                 762                        404   \n",
       "\n",
       "   defence_penalty_conceeded  attack_posession  attack_pass_accuracy  \\\n",
       "0                          4          2.249455              1.869667   \n",
       "1                          1          1.414242              1.065133   \n",
       "2                          2          1.590921              1.624809   \n",
       "3                          5          1.076944              0.855255   \n",
       "4                          7          0.980573              0.872744   \n",
       "\n",
       "    attack_ovr  \n",
       "0  2066.823529  \n",
       "1  1854.541176  \n",
       "2  1933.205882  \n",
       "3  1688.347059  \n",
       "4  1634.435294  \n",
       "\n",
       "[5 rows x 45 columns]"
      ],
      "text/html": "<div>\n<style scoped>\n    .dataframe tbody tr th:only-of-type {\n        vertical-align: middle;\n    }\n\n    .dataframe tbody tr th {\n        vertical-align: top;\n    }\n\n    .dataframe thead th {\n        text-align: right;\n    }\n</style>\n<table border=\"1\" class=\"dataframe\">\n  <thead>\n    <tr style=\"text-align: right;\">\n      <th></th>\n      <th>Team</th>\n      <th>category</th>\n      <th>general_league_position</th>\n      <th>finance _live_games_televised</th>\n      <th>finance _tv_revenue</th>\n      <th>general_matches_played</th>\n      <th>general_won</th>\n      <th>general_draw</th>\n      <th>general_lost</th>\n      <th>attack_scored</th>\n      <th>...</th>\n      <th>defence_blocks</th>\n      <th>defence_interceptions</th>\n      <th>defence_tackles</th>\n      <th>defence_tackles_last_man</th>\n      <th>defence_clearances</th>\n      <th>defence_clearances_headed</th>\n      <th>defence_penalty_conceeded</th>\n      <th>attack_posession</th>\n      <th>attack_pass_accuracy</th>\n      <th>attack_ovr</th>\n    </tr>\n  </thead>\n  <tbody>\n    <tr>\n      <th>0</th>\n      <td>Manchester City</td>\n      <td>Champions League</td>\n      <td>1</td>\n      <td>26</td>\n      <td>150986355</td>\n      <td>38</td>\n      <td>32</td>\n      <td>2</td>\n      <td>4</td>\n      <td>2.350452</td>\n      <td>...</td>\n      <td>63</td>\n      <td>362</td>\n      <td>518</td>\n      <td>0</td>\n      <td>543</td>\n      <td>295</td>\n      <td>4</td>\n      <td>2.249455</td>\n      <td>1.869667</td>\n      <td>2066.823529</td>\n    </tr>\n    <tr>\n      <th>1</th>\n      <td>Liverpool</td>\n      <td>Champions League</td>\n      <td>2</td>\n      <td>29</td>\n      <td>152425146</td>\n      <td>38</td>\n      <td>30</td>\n      <td>7</td>\n      <td>1</td>\n      <td>2.009807</td>\n      <td>...</td>\n      <td>78</td>\n      <td>314</td>\n      <td>610</td>\n      <td>2</td>\n      <td>639</td>\n      <td>317</td>\n      <td>1</td>\n      <td>1.414242</td>\n      <td>1.065133</td>\n      <td>1854.541176</td>\n    </tr>\n    <tr>\n      <th>2</th>\n      <td>Chelsea</td>\n      <td>Champions League Qualification</td>\n      <td>3</td>\n      <td>25</td>\n      <td>146030216</td>\n      <td>38</td>\n      <td>21</td>\n      <td>9</td>\n      <td>8</td>\n      <td>0.533678</td>\n      <td>...</td>\n      <td>73</td>\n      <td>351</td>\n      <td>618</td>\n      <td>2</td>\n      <td>593</td>\n      <td>330</td>\n      <td>2</td>\n      <td>1.590921</td>\n      <td>1.624809</td>\n      <td>1933.205882</td>\n    </tr>\n    <tr>\n      <th>3</th>\n      <td>Tottenham</td>\n      <td>Champions League Qualification</td>\n      <td>4</td>\n      <td>26</td>\n      <td>145230801</td>\n      <td>38</td>\n      <td>23</td>\n      <td>2</td>\n      <td>13</td>\n      <td>0.760774</td>\n      <td>...</td>\n      <td>112</td>\n      <td>326</td>\n      <td>626</td>\n      <td>3</td>\n      <td>770</td>\n      <td>411</td>\n      <td>5</td>\n      <td>1.076944</td>\n      <td>0.855255</td>\n      <td>1688.347059</td>\n    </tr>\n    <tr>\n      <th>4</th>\n      <td>Arsenal</td>\n      <td>Europa League</td>\n      <td>5</td>\n      <td>25</td>\n      <td>142193180</td>\n      <td>38</td>\n      <td>21</td>\n      <td>7</td>\n      <td>10</td>\n      <td>1.101420</td>\n      <td>...</td>\n      <td>118</td>\n      <td>412</td>\n      <td>609</td>\n      <td>2</td>\n      <td>762</td>\n      <td>404</td>\n      <td>7</td>\n      <td>0.980573</td>\n      <td>0.872744</td>\n      <td>1634.435294</td>\n    </tr>\n  </tbody>\n</table>\n<p>5 rows × 45 columns</p>\n</div>"
     },
     "metadata": {},
     "execution_count": 41
    }
   ],
   "source": [
    "scaled_features[att_data] = features\n",
    "scaled_features.head()"
   ]
  },
  {
   "source": [
    "# create new column attack_ovr\n",
    "\n",
    "scaled_features['attack_ovr'] = scaled_features[['attack_scored','attack_passes','attack_passes_through','attack_passes_long','attack_passes_back','attack_crosses','attack_corners_taken','attack_shots','attack_shots_on_target','attack_goals_headed','attack_goals_penalty','attack_goals_box','attack_goals_outsidebox','attack_goals_counter','attack_goals_freekick','attack_posession','attack_pass_accuracy']].apply(lambda x: x.mean(),axis=1)"
   ],
   "cell_type": "code",
   "metadata": {},
   "execution_count": 44,
   "outputs": []
  },
  {
   "cell_type": "code",
   "execution_count": 46,
   "metadata": {},
   "outputs": [
    {
     "output_type": "execute_result",
     "data": {
      "text/plain": [
       "              Team  general_league_position  general_won  attack_ovr\n",
       "0  Manchester City                        1           32    1.553037\n",
       "1        Liverpool                        2           30    1.162384\n",
       "2          Chelsea                        3           21    0.669914\n",
       "3        Tottenham                        4           23    0.637320\n",
       "8        Leicester                        9           15    0.453214"
      ],
      "text/html": "<div>\n<style scoped>\n    .dataframe tbody tr th:only-of-type {\n        vertical-align: middle;\n    }\n\n    .dataframe tbody tr th {\n        vertical-align: top;\n    }\n\n    .dataframe thead th {\n        text-align: right;\n    }\n</style>\n<table border=\"1\" class=\"dataframe\">\n  <thead>\n    <tr style=\"text-align: right;\">\n      <th></th>\n      <th>Team</th>\n      <th>general_league_position</th>\n      <th>general_won</th>\n      <th>attack_ovr</th>\n    </tr>\n  </thead>\n  <tbody>\n    <tr>\n      <th>0</th>\n      <td>Manchester City</td>\n      <td>1</td>\n      <td>32</td>\n      <td>1.553037</td>\n    </tr>\n    <tr>\n      <th>1</th>\n      <td>Liverpool</td>\n      <td>2</td>\n      <td>30</td>\n      <td>1.162384</td>\n    </tr>\n    <tr>\n      <th>2</th>\n      <td>Chelsea</td>\n      <td>3</td>\n      <td>21</td>\n      <td>0.669914</td>\n    </tr>\n    <tr>\n      <th>3</th>\n      <td>Tottenham</td>\n      <td>4</td>\n      <td>23</td>\n      <td>0.637320</td>\n    </tr>\n    <tr>\n      <th>8</th>\n      <td>Leicester</td>\n      <td>9</td>\n      <td>15</td>\n      <td>0.453214</td>\n    </tr>\n  </tbody>\n</table>\n</div>"
     },
     "metadata": {},
     "execution_count": 46
    }
   ],
   "source": [
    "# filter the largest attack_ovr\n",
    "scaled_features[['Team','general_league_position','general_won','attack_ovr']].nlargest(5,'attack_ovr')"
   ]
  },
  {
   "source": [
    "so the best attack team is `Manchester City`"
   ],
   "cell_type": "markdown",
   "metadata": {}
  },
  {
   "cell_type": "code",
   "execution_count": null,
   "metadata": {},
   "outputs": [],
   "source": []
  }
 ]
}